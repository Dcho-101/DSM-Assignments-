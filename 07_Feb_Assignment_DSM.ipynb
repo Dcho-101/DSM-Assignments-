{
 "cells": [
  {
   "cell_type": "markdown",
   "id": "9583ffd9-f58f-4ef7-a582-a55ce5ad5f18",
   "metadata": {},
   "source": [
    "# Question 1"
   ]
  },
  {
   "cell_type": "markdown",
   "id": "bd0656ad-53b8-4456-9d38-24324702f715",
   "metadata": {},
   "source": [
    "You are writing code for a company. The requirement of the company is that you create a python\n",
    "function that will check whether the password entered by the user is correct or not. The function should\n",
    "take the password as input and return the string “Valid Password” if the entered password follows the\n",
    "below-given password guidelines else it should return “Invalid Password”.\n",
    "Note: 1. The Password should contain at least two uppercase letters and at least two lowercase letters.\n",
    "2. The Password should contain at least a number and three special characters.\n",
    "3. The length of the password should be 10 characters long."
   ]
  },
  {
   "cell_type": "code",
   "execution_count": 5,
   "id": "a9cc1240-7a88-4c67-97f7-3d7c6e47e071",
   "metadata": {},
   "outputs": [
    {
     "name": "stdin",
     "output_type": "stream",
     "text": [
      "Enter your password:  DIbyendu1@@@\n"
     ]
    },
    {
     "name": "stdout",
     "output_type": "stream",
     "text": [
      "Invalid Password\n"
     ]
    }
   ],
   "source": [
    "import string\n",
    "\n",
    "def check_password(password):\n",
    "    # Rule 1: At least two uppercase letters and two lowercase letters\n",
    "    uppercase_count = sum(1 for char in password if char.isupper())\n",
    "    lowercase_count = sum(1 for char in password if char.islower())\n",
    "\n",
    "    # Rule 2: At least one number and three special characters\n",
    "    digit_count = sum(1 for char in password if char.isdigit())\n",
    "    special_char_count = sum(1 for char in password if char in string.punctuation)\n",
    "\n",
    "    # Rule 3: Length of the password should be 10 characters\n",
    "    length_check = len(password) == 10\n",
    "\n",
    "    # Check all rules\n",
    "    if uppercase_count >= 2 and lowercase_count >= 2 and digit_count >= 1 and special_char_count >= 3 and length_check:\n",
    "        return \"Valid Password\"\n",
    "    else:\n",
    "        return \"Invalid Password\"\n",
    "\n",
    "# Example usage:\n",
    "user_password = input(\"Enter your password: \")\n",
    "result = check_password(user_password)\n",
    "print(result)\n"
   ]
  },
  {
   "cell_type": "code",
   "execution_count": null,
   "id": "03dba7a9-516e-4a44-aa8f-bbce1c933a05",
   "metadata": {},
   "outputs": [],
   "source": []
  },
  {
   "cell_type": "markdown",
   "id": "c623fe86-a07b-4c3a-bbc2-1bdf6be84e5b",
   "metadata": {},
   "source": [
    "# Question 2"
   ]
  },
  {
   "cell_type": "markdown",
   "id": "ab35aa29-23c6-4a31-be62-4e8376d4fab4",
   "metadata": {},
   "source": [
    "Q2. Solve the below-given questions using at least one of the following:\n",
    "1. Lambda function\n",
    "2. Filter function\n",
    "3. Zap function\n",
    "4. List Comprehension\n",
    "B Check if the string starts with a particular letterY\n",
    "B Check if the string is numericY\n",
    "B Sort a list of tuples having fruit names and their quantity. [(\"mango\",99),(\"orange\",80), (\"grapes\", 1000)-\n",
    "B Find the squares of numbers from 1 to 10Y\n",
    "B Find the cube root of numbers from 1 to 10Y\n",
    "B Check if a given number is evenY\n",
    "B Filter odd numbers from the given list.\n",
    "[1,2,3,4,5,6,7,8,9,10-\n",
    "B Sort a list of integers into positive and negative integers lists.\n",
    "[1,2,3,4,5,6,-1,-2,-3,-4,-5,0]"
   ]
  },
  {
   "cell_type": "code",
   "execution_count": 7,
   "id": "78d8c5d4-1590-4be8-ab4c-e045c5d47d76",
   "metadata": {},
   "outputs": [
    {
     "name": "stdout",
     "output_type": "stream",
     "text": [
      "checking string if stared with a perticular letter using lambda\n",
      "True\n",
      "\n",
      "Checking if the string is numeric using lambda function\n",
      "True\n",
      "\n",
      "Sort a list of tuples having fruit names and their quantity using lambda function\n",
      "[('orange', 80), ('mango', 99), ('grapes', 1000)]\n",
      "\n",
      "Find the squares of numbers from 1 to 10 using list comprehension\n",
      "[1, 4, 9, 16, 25, 36, 49, 64, 81, 100]\n",
      "\n",
      "Find the cube root of numbers from 1 to 10 using list comprehension\n",
      "[1.0, 1.2599210498948732, 1.4422495703074083, 1.5874010519681994, 1.7099759466766968, 1.8171205928321397, 1.912931182772389, 2.0, 2.080083823051904, 2.154434690031884]\n",
      "\n",
      "Check if a given number is even using lambda function\n",
      "True\n",
      "\n",
      "Filter odd numbers from the given list using filter function\n",
      "[1, 3, 5, 7, 9]\n",
      "\n",
      "Sort a list of integers into positive and negative integers lists using list comprehension\n",
      "Positive Numbers: [1, 2, 3, 4, 5, 6]\n",
      "Negative Numbers: [-1, -2, -3, -4, -5]\n"
     ]
    }
   ],
   "source": [
    "print(\"checking string if stared with a perticular letter using lambda\")\n",
    "\n",
    "# Using lambda function\n",
    "starts_with_letter = lambda s, letter: s.startswith(letter)\n",
    "result = starts_with_letter(\"Python\", \"P\")\n",
    "print(result)\n",
    "\n",
    "print()\n",
    "\n",
    "print(\"Checking if the string is numeric using lambda function\")\n",
    "\n",
    "# Using lambda function\n",
    "is_numeric = lambda s: s.isnumeric()\n",
    "result = is_numeric(\"12345\")\n",
    "print(result)\n",
    "\n",
    "print()\n",
    "\n",
    "print(\"Sort a list of tuples having fruit names and their quantity using lambda function\")\n",
    "\n",
    "# Using lambda function and sort\n",
    "fruit_list = [(\"mango\", 99), (\"orange\", 80), (\"grapes\", 1000)]\n",
    "sorted_fruit_list = sorted(fruit_list, key=lambda x: x[1])\n",
    "print(sorted_fruit_list)\n",
    "\n",
    "print()\n",
    "\n",
    "print(\"Find the squares of numbers from 1 to 10 using list comprehension\")\n",
    "# Using list comprehension\n",
    "squares = [x**2 for x in range(1, 11)]\n",
    "print(squares)\n",
    "\n",
    "print()\n",
    "\n",
    "print(\"Find the cube root of numbers from 1 to 10 using list comprehension\")\n",
    "# Using list comprehension and pow function\n",
    "cube_roots = [pow(x, 1/3) for x in range(1, 11)]\n",
    "print(cube_roots)\n",
    "\n",
    "print()\n",
    "\n",
    "print(\"Check if a given number is even using lambda function\")\n",
    "# Using lambda function\n",
    "is_even = lambda x: x % 2 == 0\n",
    "result = is_even(6)\n",
    "print(result)\n",
    "\n",
    "print()\n",
    "\n",
    "print(\"Filter odd numbers from the given list using filter function\")\n",
    "\n",
    "# Using filter function\n",
    "numbers = [1, 2, 3, 4, 5, 6, 7, 8, 9, 10]\n",
    "odd_numbers = list(filter(lambda x: x % 2 != 0, numbers))\n",
    "print(odd_numbers)\n",
    "\n",
    "print()\n",
    "\n",
    "print(\"Sort a list of integers into positive and negative integers lists using list comprehension\")\n",
    "# Using list comprehension\n",
    "numbers = [1, 2, 3, 4, 5, 6, -1, -2, -3, -4, -5, 0]\n",
    "positive_numbers = [x for x in numbers if x > 0]\n",
    "negative_numbers = [x for x in numbers if x < 0]\n",
    "print(\"Positive Numbers:\", positive_numbers)\n",
    "print(\"Negative Numbers:\", negative_numbers)\n"
   ]
  },
  {
   "cell_type": "code",
   "execution_count": null,
   "id": "67e2e8d1-44d3-45ba-a5c7-6bdfedb50bb6",
   "metadata": {},
   "outputs": [],
   "source": []
  }
 ],
 "metadata": {
  "kernelspec": {
   "display_name": "Python 3 (ipykernel)",
   "language": "python",
   "name": "python3"
  },
  "language_info": {
   "codemirror_mode": {
    "name": "ipython",
    "version": 3
   },
   "file_extension": ".py",
   "mimetype": "text/x-python",
   "name": "python",
   "nbconvert_exporter": "python",
   "pygments_lexer": "ipython3",
   "version": "3.10.8"
  }
 },
 "nbformat": 4,
 "nbformat_minor": 5
}
