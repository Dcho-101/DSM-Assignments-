{
 "cells": [
  {
   "cell_type": "markdown",
   "id": "2dafb958-997b-49ef-9c5a-9e222741d682",
   "metadata": {},
   "source": [
    "# Question 1"
   ]
  },
  {
   "cell_type": "markdown",
   "id": "978ecfea-0b67-4071-a5e3-47943a717927",
   "metadata": {},
   "source": [
    "Explain Class and Object with respect to Object-Oriented Programming. Give a suitable example."
   ]
  },
  {
   "cell_type": "code",
   "execution_count": 1,
   "id": "7bade920-697b-4ce8-a4d4-61d52ced0846",
   "metadata": {},
   "outputs": [
    {
     "name": "stdout",
     "output_type": "stream",
     "text": [
      "Buddy is 3 years old.\n",
      "Max says: Woof!\n"
     ]
    }
   ],
   "source": [
    "\"\"\" A class is considered as a blueprint of objects,  \n",
    "on the other hand, An object is called an instance of a class, objects have states and behaviors. \"\"\"\n",
    "\n",
    "# Example Class: Dog\n",
    "class Dog:\n",
    "    # Class attribute\n",
    "    species = \"Canis familiaris\"\n",
    "\n",
    "    # Constructor method (initializer)\n",
    "    def __init__(self, name, age):\n",
    "        # Instance attributes\n",
    "        self.name = name\n",
    "        self.age = age\n",
    "\n",
    "    # Instance method\n",
    "    def bark(self):\n",
    "        return \"Woof!\"\n",
    "\n",
    "# Creating objects (instances) of the Dog class\n",
    "dog1 = Dog(\"Buddy\", 3)\n",
    "dog2 = Dog(\"Max\", 5)\n",
    "\n",
    "# Accessing attributes and calling methods on objects\n",
    "print(f\"{dog1.name} is {dog1.age} years old.\")\n",
    "print(f\"{dog2.name} says: {dog2.bark()}\")"
   ]
  },
  {
   "cell_type": "code",
   "execution_count": null,
   "id": "53848212-e8b1-4988-9dc2-52c41e58f382",
   "metadata": {},
   "outputs": [],
   "source": []
  },
  {
   "cell_type": "markdown",
   "id": "b0e96b72-056e-4eba-9154-5ae8ade9f81c",
   "metadata": {},
   "source": [
    "# Question 2"
   ]
  },
  {
   "cell_type": "markdown",
   "id": "374f2250-c5d4-45ef-949d-ac60dbefec5b",
   "metadata": {},
   "source": [
    "Name the four pillars of OOPs"
   ]
  },
  {
   "cell_type": "code",
   "execution_count": 2,
   "id": "8d338f31-6991-408c-a700-05662f771c0e",
   "metadata": {},
   "outputs": [
    {
     "data": {
      "text/plain": [
       "' four pillars of OOPs are \\n1. Encapsulation\\n2. inheritence\\n3. Polymorphism\\n4. Abstraction'"
      ]
     },
     "execution_count": 2,
     "metadata": {},
     "output_type": "execute_result"
    }
   ],
   "source": [
    "\"\"\" four pillars of OOPs are \n",
    "1. Encapsulation\n",
    "2. inheritence\n",
    "3. Polymorphism\n",
    "4. Abstraction\"\"\""
   ]
  },
  {
   "cell_type": "code",
   "execution_count": null,
   "id": "6ead8641-8e59-4a13-b6bd-cf6f59371ace",
   "metadata": {},
   "outputs": [],
   "source": []
  },
  {
   "cell_type": "markdown",
   "id": "86267551-5c52-4220-9a38-451bc5a207f0",
   "metadata": {},
   "source": [
    "# Question 3"
   ]
  },
  {
   "cell_type": "markdown",
   "id": "59a1f888-79b9-44d1-a611-20d888a7b770",
   "metadata": {},
   "source": [
    "Q3. Explain why the __init__() function is used. Give a suitable example"
   ]
  },
  {
   "cell_type": "code",
   "execution_count": 3,
   "id": "b9f34b38-ff8e-454b-b08a-6340ddc328c0",
   "metadata": {},
   "outputs": [
    {
     "name": "stdout",
     "output_type": "stream",
     "text": [
      "Hello, my name is Alice and I am 30 years old.\n"
     ]
    }
   ],
   "source": [
    "\"\"\" __init__ function is used to initialize the attribute of an object\"\"\"\n",
    "\n",
    "# Example\n",
    "\n",
    "\n",
    "class Person:\n",
    "    # Constructor (__init__) method\n",
    "    def __init__(self, name, age):\n",
    "        # Initializing attributes\n",
    "        self.name = name\n",
    "        self.age = age\n",
    "\n",
    "    # Instance method\n",
    "    def introduce(self):\n",
    "        print(f\"Hello, my name is {self.name} and I am {self.age} years old.\")\n",
    "\n",
    "# Creating an object of the Person class\n",
    "person1 = Person(\"Alice\", 30)\n",
    "\n",
    "# Calling the introduce method\n",
    "person1.introduce()"
   ]
  },
  {
   "cell_type": "code",
   "execution_count": null,
   "id": "e6a01537-f319-4fc9-95ed-d5198bc3ed40",
   "metadata": {},
   "outputs": [],
   "source": []
  },
  {
   "cell_type": "markdown",
   "id": "f471bd8b-3fb5-4c71-b21b-79e442c19465",
   "metadata": {},
   "source": [
    "# Question 4"
   ]
  },
  {
   "cell_type": "markdown",
   "id": "c8535235-53ce-473c-b87a-ac9b6ad83220",
   "metadata": {},
   "source": [
    "Why self is used in OOPs?"
   ]
  },
  {
   "cell_type": "code",
   "execution_count": 5,
   "id": "adb06bb1-65ac-4c90-a444-5a1fd01c46af",
   "metadata": {},
   "outputs": [
    {
     "data": {
      "text/plain": [
       "'self keyword is uesd to represent the instances of a class. using self keyword, attributes and methods can be accessed'"
      ]
     },
     "execution_count": 5,
     "metadata": {},
     "output_type": "execute_result"
    }
   ],
   "source": [
    "\"\"\"self keyword is uesd to represent the instances of a class. using self keyword, attributes and methods can be accessed\"\"\""
   ]
  },
  {
   "cell_type": "code",
   "execution_count": null,
   "id": "c57343f4-5dc2-482b-89b6-fe3b33af7e74",
   "metadata": {},
   "outputs": [],
   "source": []
  },
  {
   "cell_type": "markdown",
   "id": "b8c03252-3528-4989-824c-f0a8cd5b4e6c",
   "metadata": {},
   "source": [
    "# Question 5"
   ]
  },
  {
   "cell_type": "markdown",
   "id": "64ce37e3-9beb-49b3-abf8-c10e2e9e5d6b",
   "metadata": {},
   "source": [
    "What is inheritance? Give an example for each type of inheritance"
   ]
  },
  {
   "cell_type": "code",
   "execution_count": 10,
   "id": "039e5aee-0642-4536-9154-c1081aa77a6c",
   "metadata": {},
   "outputs": [
    {
     "name": "stdout",
     "output_type": "stream",
     "text": [
      "Single Inheritance Example\n",
      "\n",
      "Animal speaks\n",
      "Dog barks\n",
      "\n",
      "Multiple Inheritance Example\n",
      "\n",
      "Can fly\n",
      "Can swim\n"
     ]
    }
   ],
   "source": [
    "\"\"\"Inheritance is a fundamental concept in OOP, that allows a new class (subclass or derived class)\n",
    "to inherit the properties and behaviors of an existing class \n",
    "which is called superclass or base class.\"\"\"\n",
    "\n",
    "\n",
    "# Example of Single Inheritance\n",
    "print(\"Single Inheritance Example\\n\")\n",
    "class Animal:\n",
    "    def speak(self):\n",
    "        print(\"Animal speaks\")\n",
    "\n",
    "class Dog(Animal):\n",
    "    def bark(self):\n",
    "        print(\"Dog barks\")\n",
    "\n",
    "# Creating an object of the Dog class\n",
    "dog = Dog()\n",
    "dog.speak()  # Inherited from Animal class\n",
    "dog.bark()   # Specific to Dog class\n",
    "\n",
    "print()\n",
    "\n",
    "# Example of Multiple Inheritance\n",
    "print(\"Multiple Inheritance Example\\n\")\n",
    "class Flyable:\n",
    "    def fly(self):\n",
    "        print(\"Can fly\")\n",
    "\n",
    "class Swimmable:\n",
    "    def swim(self):\n",
    "        print(\"Can swim\")\n",
    "\n",
    "class Amphibian(Flyable, Swimmable):\n",
    "    pass\n",
    "\n",
    "# Creating an object of the Amphibian class\n",
    "amphibian = Amphibian()\n",
    "amphibian.fly()   # Inherited from Flyable class\n",
    "amphibian.swim()  # Inherited from Swimmable class\n"
   ]
  },
  {
   "cell_type": "code",
   "execution_count": null,
   "id": "be76b86e-4c69-4838-92b4-827ad190b955",
   "metadata": {},
   "outputs": [],
   "source": []
  },
  {
   "cell_type": "code",
   "execution_count": null,
   "id": "f16ab694-c13d-4069-8195-1f1c75fa4326",
   "metadata": {},
   "outputs": [],
   "source": []
  }
 ],
 "metadata": {
  "kernelspec": {
   "display_name": "Python 3 (ipykernel)",
   "language": "python",
   "name": "python3"
  },
  "language_info": {
   "codemirror_mode": {
    "name": "ipython",
    "version": 3
   },
   "file_extension": ".py",
   "mimetype": "text/x-python",
   "name": "python",
   "nbconvert_exporter": "python",
   "pygments_lexer": "ipython3",
   "version": "3.10.8"
  }
 },
 "nbformat": 4,
 "nbformat_minor": 5
}
