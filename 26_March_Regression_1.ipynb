{
 "cells": [
  {
   "cell_type": "markdown",
   "id": "5afbe1dc-6ae9-4a72-8f0a-6b7ec40f8ba7",
   "metadata": {},
   "source": [
    "# Question 1"
   ]
  },
  {
   "cell_type": "markdown",
   "id": "8f829612-852a-49fd-ae0f-eee356d0554d",
   "metadata": {},
   "source": [
    "Explain the difference between simple linear regression and multiple linear regression. Provide an\n",
    "example of each."
   ]
  },
  {
   "cell_type": "code",
   "execution_count": 1,
   "id": "e65264b8-a9de-4167-b8d9-9ced9105c567",
   "metadata": {},
   "outputs": [
    {
     "data": {
      "text/plain": [
       "'\\nSimple linear regression is a statistical method \\nwhich is used to model the relationship between a single independent variable (predictor) and a dependent variable (response).\\nOn the other hand, Multiple linear regression extends the concept of simple linear regression to include more than one independent variable. \\n'"
      ]
     },
     "execution_count": 1,
     "metadata": {},
     "output_type": "execute_result"
    }
   ],
   "source": [
    "'''\n",
    "Simple linear regression is a statistical method \n",
    "which is used to model the relationship between a single independent variable (predictor) and a dependent variable (response).\n",
    "On the other hand, Multiple linear regression extends the concept of simple linear regression to include more than one independent variable. \n",
    "'''\n",
    "\n",
    "# Example\n"
   ]
  },
  {
   "cell_type": "code",
   "execution_count": null,
   "id": "6ad83bf9-ab97-43a9-9064-a1b70508f4e4",
   "metadata": {},
   "outputs": [],
   "source": []
  },
  {
   "cell_type": "markdown",
   "id": "353cb255-9964-4c8a-bedb-5802950970b6",
   "metadata": {},
   "source": [
    "# Question 2"
   ]
  },
  {
   "cell_type": "markdown",
   "id": "a1ca345e-079b-4926-8fd3-553f3101851d",
   "metadata": {},
   "source": [
    "Discuss the assumptions of linear regression. How can you check whether these assumptions hold in\n",
    "a given dataset?"
   ]
  },
  {
   "cell_type": "code",
   "execution_count": 3,
   "id": "6da6ec4f-a78d-4d07-a3c6-c8b0a4099c90",
   "metadata": {},
   "outputs": [
    {
     "data": {
      "text/plain": [
       "'\\nLinear regression relies on several assumptions to be valid. \\nViolations of these assumptions can affect the accuracy and reliability of the regression results.\\n\\nThere are some assumptions in which lenear regression assumptions can be checked.\\n\\n1. Residual analysis\\n2. Normality tests\\n3. VIF calculation\\n4. Domain knowledge\\n'"
      ]
     },
     "execution_count": 3,
     "metadata": {},
     "output_type": "execute_result"
    }
   ],
   "source": [
    "'''\n",
    "Linear regression relies on several assumptions to be valid. \n",
    "Violations of these assumptions can affect the accuracy and reliability of the regression results.\n",
    "\n",
    "There are some assumptions in which lenear regression assumptions can be checked.\n",
    "\n",
    "1. Residual analysis\n",
    "2. Normality tests\n",
    "3. VIF calculation\n",
    "4. Domain knowledge\n",
    "'''"
   ]
  },
  {
   "cell_type": "code",
   "execution_count": null,
   "id": "dae0e6dd-9882-4f42-8f16-06a8fd03cbfc",
   "metadata": {},
   "outputs": [],
   "source": []
  },
  {
   "cell_type": "markdown",
   "id": "f4bb06ea-cc6a-4654-bfd0-7c7fdd85be5c",
   "metadata": {},
   "source": [
    "# Question 3"
   ]
  },
  {
   "cell_type": "markdown",
   "id": "98e90af5-ffa8-42e7-ae15-aeede462f4ae",
   "metadata": {},
   "source": [
    "How do you interpret the slope and intercept in a linear regression model? Provide an example using\n",
    "a real-world scenario."
   ]
  },
  {
   "cell_type": "code",
   "execution_count": 6,
   "id": "e126bfea-8348-402c-acdb-a5ff0a2a4b89",
   "metadata": {},
   "outputs": [
    {
     "data": {
      "text/plain": [
       "'\\nIf the price of the house can be the intercept of the regression, and the slope is the change in the house price, then the formula of the regression \\nwill be:\\nHouse Price=$50,000+$150×Size of House+ε\\n\\nAssuming the $150 per square foot is the intercept of the regression and \\nadditional square foot in the size of a house is associated with an increase of $150 in its price is the slope of the regression.\\n'"
      ]
     },
     "execution_count": 6,
     "metadata": {},
     "output_type": "execute_result"
    }
   ],
   "source": [
    "# Intercept \n",
    "'''\n",
    "The intercept is the value of the dependent variable when all independent variables are set to zero. \n",
    "In practical terms, it represents the baseline or starting point for the dependent variable.\n",
    "'''\n",
    "\n",
    "# Slope \n",
    "'''\n",
    "The slope represents the change in the dependent variable for a one-unit change in the corresponding independent variable, \n",
    "assuming all other variables are held constant. It quantifies the strength and direction of the relationship between the independent and dependent \n",
    "variables.\n",
    "'''\n",
    "\n",
    "\n",
    "# Example: Predicting House Prices\n",
    "'''\n",
    "If the price of the house can be the intercept of the regression, and the slope is the change in the house price, then the formula of the regression \n",
    "will be:\n",
    "House Price=$50,000+$150×Size of House+ε\n",
    "\n",
    "Assuming the $150 per square foot is the intercept of the regression and \n",
    "additional square foot in the size of a house is associated with an increase of $150 in its price is the slope of the regression.\n",
    "'''"
   ]
  },
  {
   "cell_type": "code",
   "execution_count": null,
   "id": "dab647c3-141b-48b1-a13b-ae07d54947e5",
   "metadata": {},
   "outputs": [],
   "source": []
  },
  {
   "cell_type": "markdown",
   "id": "05db22b2-5379-4fa6-9794-572cdc88a94f",
   "metadata": {},
   "source": [
    "# Question 4"
   ]
  },
  {
   "cell_type": "markdown",
   "id": "66a10651-22a3-4ede-8578-b7c6d84c7c69",
   "metadata": {},
   "source": [
    "Explain the concept of gradient descent. How is it used in machine learning?"
   ]
  },
  {
   "cell_type": "code",
   "execution_count": 7,
   "id": "c3dbdd26-563c-4e5a-84ff-a9d05ec97b31",
   "metadata": {},
   "outputs": [
    {
     "data": {
      "text/plain": [
       "'\\n1. Linear Regression: \\n2. Logistic Regression\\n3. Neural Networks\\n4. Support Vector Machines (SVM)\\n'"
      ]
     },
     "execution_count": 7,
     "metadata": {},
     "output_type": "execute_result"
    }
   ],
   "source": [
    "'''\n",
    "Gradient descent is an optimization algorithm used to minimize the cost or loss function in machine learning models. \n",
    "The primary goal of many machine learning algorithms is to find the optimal parameters (weights and biases) \n",
    "that minimize the difference between the predicted and actual values.\n",
    "'''\n",
    "\n",
    "# How Gradient Descent is Used in Machine Learning:\n",
    "'''\n",
    "1. Linear Regression: \n",
    "2. Logistic Regression\n",
    "3. Neural Networks\n",
    "4. Support Vector Machines (SVM)\n",
    "'''"
   ]
  },
  {
   "cell_type": "code",
   "execution_count": null,
   "id": "501f17b5-9f61-4993-838a-8eb5b82247b6",
   "metadata": {},
   "outputs": [],
   "source": []
  },
  {
   "cell_type": "markdown",
   "id": "aea03362-4576-490c-b812-3e0c7e49011f",
   "metadata": {},
   "source": [
    "# Question 5"
   ]
  },
  {
   "cell_type": "markdown",
   "id": "8156a980-1720-42d1-866a-e77dd6e29cc7",
   "metadata": {},
   "source": [
    "Describe the multiple linear regression model. How does it differ from simple linear regression?"
   ]
  },
  {
   "cell_type": "code",
   "execution_count": 8,
   "id": "335a6058-714c-4dfe-8a66-93222c1131b7",
   "metadata": {},
   "outputs": [
    {
     "data": {
      "text/plain": [
       "'\\n1.Number of Independent Variables are more than simple linear regression \\n2. Geometric Representation Modeled by a straight line in the simple linear regression but in multiple linear regression there provides a plane\\n3. simple linear regression provides Simpler model, suitable for cases where there is a clear and direct relationship between the dependent and independent variables.\\nbut, Multiple Linear Regression is more complex model, capable of capturing interactions and dependencies among multiple independent variables.\\n'"
      ]
     },
     "execution_count": 8,
     "metadata": {},
     "output_type": "execute_result"
    }
   ],
   "source": [
    "'''\n",
    "Multiple linear regression is an extension of simple linear regression that allows for the modeling of the relationship between a dependent variable \n",
    "and two or more independent variables\n",
    "'''\n",
    "\n",
    "# Differences between Simple Linear Regression and Mulpiple Linear Regression\n",
    "'''\n",
    "1.Number of Independent Variables are more than simple linear regression \n",
    "2. Geometric Representation Modeled by a straight line in the simple linear regression but in multiple linear regression there provides a plane\n",
    "3. simple linear regression provides Simpler model, suitable for cases where there is a clear and direct relationship between the dependent and independent variables.\n",
    "but, Multiple Linear Regression is more complex model, capable of capturing interactions and dependencies among multiple independent variables.\n",
    "'''"
   ]
  },
  {
   "cell_type": "code",
   "execution_count": null,
   "id": "2478e9cc-a381-4633-965b-44ddd300d333",
   "metadata": {},
   "outputs": [],
   "source": []
  },
  {
   "cell_type": "markdown",
   "id": "d1d46eb9-0ce6-480e-8539-c96032fbc728",
   "metadata": {},
   "source": [
    "# Question 6"
   ]
  },
  {
   "cell_type": "markdown",
   "id": "6da555ad-d4f5-4eaa-be72-86c34c27e6a8",
   "metadata": {},
   "source": [
    "Explain the concept of multicollinearity in multiple linear regression. How can you detect and\n",
    "address this issue?"
   ]
  },
  {
   "cell_type": "code",
   "execution_count": 9,
   "id": "f038147f-8bee-47e7-9408-672e043876bd",
   "metadata": {},
   "outputs": [
    {
     "data": {
      "text/plain": [
       "'\\n1. Removing Redundant Variables\\n2. Feature Selection Techniques\\n3. Combine Variables\\n4. Regularization Techniques\\n5. Collect More Data\\n6. Principal Component Analysis (PCA)\\n'"
      ]
     },
     "execution_count": 9,
     "metadata": {},
     "output_type": "execute_result"
    }
   ],
   "source": [
    "'''\n",
    "Multicollinearity is a phenomenon in multiple linear regression where two or more independent variables in the model are highly correlated. \n",
    "'''\n",
    "\n",
    "# Detecting and Adressing Issue\n",
    "'''\n",
    "1. Removing Redundant Variables\n",
    "2. Feature Selection Techniques\n",
    "3. Combine Variables\n",
    "4. Regularization Techniques\n",
    "5. Collect More Data\n",
    "6. Principal Component Analysis (PCA)\n",
    "'''"
   ]
  },
  {
   "cell_type": "code",
   "execution_count": null,
   "id": "76f4430f-045b-40e4-8ff3-b7552a08dda6",
   "metadata": {},
   "outputs": [],
   "source": []
  },
  {
   "cell_type": "markdown",
   "id": "67deb493-b7df-43f4-a942-ef7a80388257",
   "metadata": {},
   "source": [
    "# Question 7"
   ]
  },
  {
   "cell_type": "markdown",
   "id": "c7f2982c-5bb9-4a2b-b849-23d897bd6f1b",
   "metadata": {},
   "source": [
    "Describe the polynomial regression model. How is it different from linear regression?"
   ]
  },
  {
   "cell_type": "code",
   "execution_count": 11,
   "id": "60e06a1e-0bb6-462b-8ca2-7e2fdfdc9dd0",
   "metadata": {},
   "outputs": [
    {
     "data": {
      "text/plain": [
       "'\\nPolynomial regression is an extension of linear regression that allows for modeling nonlinear relationships between the independent and dependent variables.\\n'"
      ]
     },
     "execution_count": 11,
     "metadata": {},
     "output_type": "execute_result"
    }
   ],
   "source": [
    "'''\n",
    "Polynomial regression is an extension of linear regression that allows for modeling nonlinear relationships between the independent and dependent variables.\n",
    "'''\n",
    "\n",
    "# Difference From Linear regression"
   ]
  },
  {
   "cell_type": "code",
   "execution_count": null,
   "id": "88f0148b-a837-405d-a5c7-5e1c7c545271",
   "metadata": {},
   "outputs": [],
   "source": []
  },
  {
   "cell_type": "markdown",
   "id": "42c13c93-f5c6-4114-89db-8148a045d057",
   "metadata": {},
   "source": [
    "# Question 8"
   ]
  },
  {
   "cell_type": "markdown",
   "id": "045b8025-5ee5-4fff-8777-2ef2ba453a26",
   "metadata": {},
   "source": [
    "What are the advantages and disadvantages of polynomial regression compared to linear\n",
    "regression? In what situations would you prefer to use polynomial regression?"
   ]
  },
  {
   "cell_type": "code",
   "execution_count": 12,
   "id": "49b86c63-120f-4970-805d-157264585fee",
   "metadata": {},
   "outputs": [
    {
     "data": {
      "text/plain": [
       "'\\n1. Nonlinear Relationships\\n2. Complex Patterns\\n3. Exploratory Data Analysis\\n4. Limited Data\\n'"
      ]
     },
     "execution_count": 12,
     "metadata": {},
     "output_type": "execute_result"
    }
   ],
   "source": [
    "# Advantages of Polynomial Regression:\n",
    "'''\n",
    "1. Captures Nonlinear Relationships\n",
    "2. Increased Model Flexibility\n",
    "3. Improved Fit to Data\n",
    "'''\n",
    "\n",
    "# Disadvantages\n",
    "'''\n",
    "1. Overfitting\n",
    "2. Increased Complexity\n",
    "3. Sensitivity to Outliers\n",
    "'''\n",
    "\n",
    "# Situations\n",
    "'''\n",
    "1. Nonlinear Relationships\n",
    "2. Complex Patterns\n",
    "3. Exploratory Data Analysis\n",
    "4. Limited Data\n",
    "'''"
   ]
  },
  {
   "cell_type": "code",
   "execution_count": null,
   "id": "ab05ffa9-bbbd-4769-b980-98a2d9ecee35",
   "metadata": {},
   "outputs": [],
   "source": []
  }
 ],
 "metadata": {
  "kernelspec": {
   "display_name": "Python 3 (ipykernel)",
   "language": "python",
   "name": "python3"
  },
  "language_info": {
   "codemirror_mode": {
    "name": "ipython",
    "version": 3
   },
   "file_extension": ".py",
   "mimetype": "text/x-python",
   "name": "python",
   "nbconvert_exporter": "python",
   "pygments_lexer": "ipython3",
   "version": "3.10.8"
  }
 },
 "nbformat": 4,
 "nbformat_minor": 5
}
