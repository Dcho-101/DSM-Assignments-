{
 "cells": [
  {
   "cell_type": "markdown",
   "id": "630a7a80-21ac-42d6-8bec-8690107cad8d",
   "metadata": {},
   "source": [
    "# Question 1"
   ]
  },
  {
   "cell_type": "markdown",
   "id": "08022466-51af-4011-b1c8-8cbc64aeb3ca",
   "metadata": {},
   "source": [
    "Q1. Which function is used to open a file? What are the different modes of opening a file? Explain each mode\n",
    "of file opening."
   ]
  },
  {
   "cell_type": "code",
   "execution_count": 4,
   "id": "1a3e1645-bd94-4599-9957-9b1daddc20cc",
   "metadata": {},
   "outputs": [
    {
     "data": {
      "text/plain": [
       "\"There are different modes of opening a file\\n1. Read Mode ('r')\\n2. Write Mode ('w')\\n3. Append Mode ('a')\\n4. Binary Mode ('b')\\n5. Read and Write Mode ('r+' or 'w+')\\n6. Exclusive Creation ('x')\""
      ]
     },
     "execution_count": 4,
     "metadata": {},
     "output_type": "execute_result"
    }
   ],
   "source": [
    "\"\"\"In Python, the open() function is used to open a file. \n",
    "The open() function takes two arguments: the name of the file and the mode in which the file should be opened.\"\"\"\n",
    "\n",
    "\"\"\"There are different modes of opening a file\n",
    "1. Read Mode ('r')\n",
    "2. Write Mode ('w')\n",
    "3. Append Mode ('a')\n",
    "4. Binary Mode ('b')\n",
    "5. Read and Write Mode ('r+' or 'w+')\n",
    "6. Exclusive Creation ('x')\"\"\"\n"
   ]
  },
  {
   "cell_type": "code",
   "execution_count": null,
   "id": "85e6d2ca-a0a8-4084-92b0-aa8988786ffe",
   "metadata": {},
   "outputs": [],
   "source": []
  },
  {
   "cell_type": "markdown",
   "id": "f64a2d76-adc8-490c-a8e3-46da4725f631",
   "metadata": {},
   "source": [
    "# Question 2"
   ]
  },
  {
   "cell_type": "markdown",
   "id": "597c520f-2291-4e4f-b8d0-0039f42ed375",
   "metadata": {},
   "source": [
    "Why close() function is used? Why is it important to close a file?"
   ]
  },
  {
   "cell_type": "code",
   "execution_count": 5,
   "id": "d8d87f52-5d46-44cb-b9ed-e5e710646c3a",
   "metadata": {},
   "outputs": [
    {
     "data": {
      "text/plain": [
       "' The close() function in Python is used to close a file that has been opened using the open() function\\nit helps in providing security from \\n1. preventing potential resource leaks\\n2. Data Integrity\\n3. preventing other programs from accessing or modifying\\n4. It helps synchronize the in-memory representation of the file with its on-disk representation'"
      ]
     },
     "execution_count": 5,
     "metadata": {},
     "output_type": "execute_result"
    }
   ],
   "source": [
    "\"\"\" The close() function in Python is used to close a file that has been opened using the open() function\n",
    "it helps in providing security from \n",
    "1. preventing potential resource leaks\n",
    "2. Data Integrity\n",
    "3. preventing other programs from accessing or modifying\n",
    "4. It helps synchronize the in-memory representation of the file with its on-disk representation\"\"\""
   ]
  },
  {
   "cell_type": "code",
   "execution_count": null,
   "id": "5de0cc83-a39e-4b80-9d5b-e61f11d74d33",
   "metadata": {},
   "outputs": [],
   "source": []
  },
  {
   "cell_type": "markdown",
   "id": "5fa2b18c-da96-49f4-a04c-418a2897ad0a",
   "metadata": {},
   "source": [
    "# Question 3"
   ]
  },
  {
   "cell_type": "markdown",
   "id": "446b64d2-e53a-46fe-ae54-7038636977fa",
   "metadata": {},
   "source": [
    "Write a python program to create a text file. Write ‘I want to become a Data Scientist’ in that file. Then\n",
    "close the file. Open this file and read the content of the file."
   ]
  },
  {
   "cell_type": "code",
   "execution_count": 6,
   "id": "539477fb-e070-4476-b2d0-9f686a1b2d8d",
   "metadata": {},
   "outputs": [
    {
     "name": "stdout",
     "output_type": "stream",
     "text": [
      "File \"data_scientist.txt\" created and written successfully.\n",
      "Content of \"data_scientist.txt\":\n",
      "I want to become a Data Scientist\n"
     ]
    }
   ],
   "source": [
    "# Step 1: Creating a text file and writing content\n",
    "file_path = 'data_scientist.txt'\n",
    "\n",
    "try:\n",
    "    with open(file_path, 'w') as file:\n",
    "        file.write('I want to become a Data Scientist')\n",
    "    print(f'File \"{file_path}\" created and written successfully.')\n",
    "\n",
    "except Exception as e:\n",
    "    print(f'Error: {e}')\n",
    "\n",
    "# Step 2: Opening the file and reading its content\n",
    "try:\n",
    "    with open(file_path, 'r') as file:\n",
    "        content = file.read()\n",
    "        print(f'Content of \"{file_path}\":\\n{content}')\n",
    "\n",
    "except Exception as e:\n",
    "    print(f'Error: {e}')\n"
   ]
  },
  {
   "cell_type": "code",
   "execution_count": null,
   "id": "7d7af428-09c5-40bb-a611-b92c4cafbf52",
   "metadata": {},
   "outputs": [],
   "source": []
  },
  {
   "cell_type": "markdown",
   "id": "323d8b9b-3b41-4d07-bf35-f147dd498bb9",
   "metadata": {},
   "source": [
    "# Question 4"
   ]
  },
  {
   "cell_type": "markdown",
   "id": "11d47d87-a566-4b92-a401-0c6712e6e96f",
   "metadata": {},
   "source": [
    "Explain the following with python code: read(), readline() and readlines()."
   ]
  },
  {
   "cell_type": "code",
   "execution_count": null,
   "id": "03e83863-ae3f-4f4d-b839-efbee9ef38b0",
   "metadata": {},
   "outputs": [],
   "source": [
    "\"\"\"The read() method reads the entire content of the file as a single string\"\"\"\n",
    "\n",
    "# Example \n",
    "file_path = 'example.txt'\n",
    "\n",
    "try:\n",
    "    with open(file_path, 'r') as file:\n",
    "        content = file.read()\n",
    "        print(f'Content using read():\\n{content}')\n",
    "\n",
    "except Exception as e:\n",
    "    print(f'Error: {e}')\n",
    "\n",
    "print()\n",
    "\n",
    "\"\"\"The readline() method reads a single line from the file\"\"\"\n",
    "file_path = 'example.txt'\n",
    "\n",
    "try:\n",
    "    with open(file_path, 'r') as file:\n",
    "        line1 = file.readline()\n",
    "        line2 = file.readline()\n",
    "        print(f'Content using readline():\\n{line1.strip()}')\n",
    "        print(f'{line2.strip()}')\n",
    "\n",
    "except Exception as e:\n",
    "    print(f'Error: {e}')\n",
    "\n",
    "print()\n",
    "\n",
    "\"\"\"The readlines() method reads all the lines of the file and returns a list of strings, where each string represents a line\"\"\"\n",
    "file_path = 'example.txt'\n",
    "\n",
    "try:\n",
    "    with open(file_path, 'r') as file:\n",
    "        lines = file.readlines()\n",
    "        print('Content using readlines():')\n",
    "        for line in lines:\n",
    "            print(line.strip())\n",
    "\n",
    "except Exception as e:\n",
    "    print(f'Error: {e}')\n"
   ]
  },
  {
   "cell_type": "code",
   "execution_count": null,
   "id": "03b0263e-d58c-4333-b123-7b285c2cb405",
   "metadata": {},
   "outputs": [],
   "source": []
  },
  {
   "cell_type": "markdown",
   "id": "81637d80-a21b-485e-8a6e-3e6b4a548103",
   "metadata": {},
   "source": [
    "# Question 5"
   ]
  },
  {
   "cell_type": "markdown",
   "id": "a7546fdc-bd30-47a5-968b-f1506a122c37",
   "metadata": {},
   "source": [
    "Explain why with statement is used with open(). What is the advantage of using with statement and\n",
    "open() together?"
   ]
  },
  {
   "cell_type": "code",
   "execution_count": 13,
   "id": "4c19a1f0-c2c5-45f6-be8b-62135f7d0e1a",
   "metadata": {},
   "outputs": [
    {
     "data": {
      "text/plain": [
       "'there are some key advantages of using the with statement and open() statement together\\n1. Automatic Resource Management\\n2. Exception Handling\\n3. Code Readability\\n4. Simplified Syntax'"
      ]
     },
     "execution_count": 13,
     "metadata": {},
     "output_type": "execute_result"
    }
   ],
   "source": [
    "\"\"\"The with statement in Python is used in conjunction with the open() function for file handling. \n",
    "The primary advantage of using with statement with open() is to ensure proper resource management \n",
    "and to simplify the handling of file-related operations.\"\"\"\n",
    "\n",
    "\"\"\"there are some key advantages of using the with statement and open() statement together\n",
    "1. Automatic Resource Management\n",
    "2. Exception Handling\n",
    "3. Code Readability\n",
    "4. Simplified Syntax\"\"\""
   ]
  },
  {
   "cell_type": "code",
   "execution_count": null,
   "id": "60d6877f-456b-43f9-a089-b2d9f482e74f",
   "metadata": {},
   "outputs": [],
   "source": []
  },
  {
   "cell_type": "markdown",
   "id": "7a677fee-f13a-42b7-9de8-5f4d98a61dcc",
   "metadata": {},
   "source": [
    "# Question 6"
   ]
  },
  {
   "cell_type": "markdown",
   "id": "fc82857d-2170-4996-9fad-36ff38ee5f4a",
   "metadata": {},
   "source": [
    "Explain the write() and writelines() functions. Give a suitable example"
   ]
  },
  {
   "cell_type": "code",
   "execution_count": 16,
   "id": "f62214a2-dd4d-419d-9ba4-f826a37b1f2d",
   "metadata": {},
   "outputs": [
    {
     "name": "stdout",
     "output_type": "stream",
     "text": [
      "Content written to \"example_write.txt\" successfully.\n",
      "Content written to \"example_writelines.txt\" successfully.\n"
     ]
    }
   ],
   "source": [
    "\"\"\"The write() method is used to write a string to a file. \n",
    "It appends the specified string to the end of the file, \n",
    "and if the file does not exist, it creates a new file\"\"\"\n",
    "\n",
    "# Example\n",
    "file_path = 'example_write.txt'\n",
    "\n",
    "try:\n",
    "    with open(file_path, 'w') as file:\n",
    "        file.write('This is line 1.\\n')\n",
    "        file.write('This is line 2.\\n')\n",
    "        file.write('This is line 3.')\n",
    "\n",
    "    print(f'Content written to \"{file_path}\" successfully.')\n",
    "\n",
    "except Exception as e:\n",
    "    print(f'Error: {e}')\n",
    "\n",
    "    \n",
    "\"\"\"The writelines() method is used to write a list of strings to a file. \n",
    "It takes an iterable of strings as an argument and writes each string to the file. \n",
    "Like write(), it appends the content to the end of the file.\"\"\"\n",
    "\n",
    "# example\n",
    "file_path = 'example_writelines.txt'\n",
    "\n",
    "try:\n",
    "    lines_to_write = ['Line 1\\n', 'Line 2\\n', 'Line 3\\n']\n",
    "    with open(file_path, 'w') as file:\n",
    "        file.writelines(lines_to_write)\n",
    "\n",
    "    print(f'Content written to \"{file_path}\" successfully.')\n",
    "\n",
    "except Exception as e:\n",
    "    print(f'Error: {e}')\n"
   ]
  },
  {
   "cell_type": "code",
   "execution_count": null,
   "id": "6e5c960c-3299-41c4-8e7b-cfdbe2e93b5c",
   "metadata": {},
   "outputs": [],
   "source": []
  }
 ],
 "metadata": {
  "kernelspec": {
   "display_name": "Python 3 (ipykernel)",
   "language": "python",
   "name": "python3"
  },
  "language_info": {
   "codemirror_mode": {
    "name": "ipython",
    "version": 3
   },
   "file_extension": ".py",
   "mimetype": "text/x-python",
   "name": "python",
   "nbconvert_exporter": "python",
   "pygments_lexer": "ipython3",
   "version": "3.10.8"
  }
 },
 "nbformat": 4,
 "nbformat_minor": 5
}
