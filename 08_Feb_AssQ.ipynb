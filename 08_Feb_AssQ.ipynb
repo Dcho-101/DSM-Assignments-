{
 "cells": [
  {
   "cell_type": "markdown",
   "id": "91c846d4-cae1-48c4-b243-8926758bb704",
   "metadata": {},
   "source": [
    "# Question 1"
   ]
  },
  {
   "cell_type": "markdown",
   "id": "94dfc341-d039-4881-b541-938bcfd9cb83",
   "metadata": {},
   "source": [
    "What is Abstraction in OOps? Explain with an example."
   ]
  },
  {
   "cell_type": "code",
   "execution_count": 1,
   "id": "3973c2fd-180c-4d17-9596-2742c6ae2bf2",
   "metadata": {},
   "outputs": [
    {
     "name": "stdout",
     "output_type": "stream",
     "text": [
      "Circle - Area: 78.5, Perimeter: 31.400000000000002\n",
      "Square - Area: 16, Perimeter: 16\n"
     ]
    }
   ],
   "source": [
    "\"\"\" Abstraction in object-oriented programming (OOP) is a concept that involves simplifying complex systems by modeling classes based on the essential properties \n",
    "and behaviors that they share. It allows you to focus on the high-level functionality of an object and ignore the low-level details. \n",
    "In essence, abstraction is about hiding the implementation details and exposing only what is necessary for the user.\"\"\"\n",
    "\n",
    "from abc import ABC, abstractmethod\n",
    "\n",
    "# Abstract class representing a Shape\n",
    "class Shape(ABC):\n",
    "\n",
    "    @abstractmethod\n",
    "    def area(self):\n",
    "        pass\n",
    "\n",
    "    @abstractmethod\n",
    "    def perimeter(self):\n",
    "        pass\n",
    "\n",
    "# Concrete class representing a Circle\n",
    "class Circle(Shape):\n",
    "\n",
    "    def __init__(self, radius):\n",
    "        self.radius = radius\n",
    "\n",
    "    def area(self):\n",
    "        return 3.14 * self.radius ** 2\n",
    "\n",
    "    def perimeter(self):\n",
    "        return 2 * 3.14 * self.radius\n",
    "\n",
    "# Concrete class representing a Square\n",
    "class Square(Shape):\n",
    "\n",
    "   \n",
    "    def __init__(self, side):\n",
    "        self.side = side\n",
    "\n",
    "    def area(self):\n",
    "        return self.side ** 2\n",
    "\n",
    "    def perimeter(self):\n",
    "        return 4 * self.side\n",
    "\n",
    "# Client code\n",
    "circle = Circle(radius=5)\n",
    "square = Square(side=4)\n",
    "\n",
    "# Using abstraction to calculate area and perimeter without knowing implementation details\n",
    "print(f\"Circle - Area: {circle.area()}, Perimeter: {circle.perimeter()}\")\n",
    "print(f\"Square - Area: {square.area()}, Perimeter: {square.perimeter()}\")\n"
   ]
  },
  {
   "cell_type": "code",
   "execution_count": null,
   "id": "06bf69b2-d55f-4e3b-92c5-278cd0cd37ba",
   "metadata": {},
   "outputs": [],
   "source": []
  },
  {
   "cell_type": "markdown",
   "id": "9edb9e66-40cb-44ec-b7f8-5623f0114128",
   "metadata": {},
   "source": [
    "# Question 2"
   ]
  },
  {
   "cell_type": "markdown",
   "id": "eb0b9210-b3ad-47e2-b1dc-3af4f6dce371",
   "metadata": {},
   "source": [
    "Differentiate between Abstraction and Encapsulation. Explain with an example."
   ]
  },
  {
   "cell_type": "code",
   "execution_count": 2,
   "id": "fa7264ca-83cd-4153-bcb0-17baf1607ed9",
   "metadata": {},
   "outputs": [
    {
     "name": "stdout",
     "output_type": "stream",
     "text": [
      "Initial Balance: 1000\n",
      "Balance after deposit: 1500\n",
      "Balance after withdrawal: 1300\n"
     ]
    }
   ],
   "source": [
    "\"\"\" Abstraction is about creating abstract classes or interfaces to model high-level concepts, focusing on what an object does.\n",
    "Encapsulation is about bundling data and methods within a class, controlling access to the internal state of an object, and focusing on how an object achieves its functionality.\"\"\"\n",
    "\n",
    "\n",
    "class BankAccount:\n",
    "    def __init__(self, account_number, balance):\n",
    "        self._account_number = account_number  # Encapsulation: Using _ to indicate a protected attribute\n",
    "        self._balance = balance\n",
    "\n",
    "    def get_balance(self):\n",
    "        return self._balance  # Getter method\n",
    "\n",
    "    def deposit(self, amount):\n",
    "        if amount > 0:\n",
    "            self._balance += amount\n",
    "\n",
    "    def withdraw(self, amount):\n",
    "        if amount > 0 and amount <= self._balance:\n",
    "            self._balance -= amount\n",
    "\n",
    "# Client code\n",
    "account = BankAccount(account_number=\"123456\", balance=1000)\n",
    "print(\"Initial Balance:\", account.get_balance())\n",
    "\n",
    "account.deposit(500)\n",
    "print(\"Balance after deposit:\", account.get_balance())\n",
    "\n",
    "account.withdraw(200)\n",
    "print(\"Balance after withdrawal:\", account.get_balance())\n"
   ]
  },
  {
   "cell_type": "code",
   "execution_count": null,
   "id": "d0fb4169-9e9f-4204-bbcb-fa2bf07cae9f",
   "metadata": {},
   "outputs": [],
   "source": []
  },
  {
   "cell_type": "markdown",
   "id": "8222cc62-a889-4b4c-9886-bfafd9facb14",
   "metadata": {},
   "source": [
    "# Question 3"
   ]
  },
  {
   "cell_type": "markdown",
   "id": "00f6d874-19c1-48aa-b798-e835c87942c2",
   "metadata": {},
   "source": [
    "What is abc module in python? Why is it used?"
   ]
  },
  {
   "cell_type": "code",
   "execution_count": 3,
   "id": "7a4082e9-865f-4a76-8312-4818f4a64aef",
   "metadata": {},
   "outputs": [
    {
     "data": {
      "text/plain": [
       "' \\nThe abc module in Python stands for \"Abstract Base Classes.\" \\nIt provides the ABC (Abstract Base Class) metaclass and related functions for defining abstract base classes and abstract methods. \\nAbstract base classes allows to define a common interface for a group of related classes \\nwhile providing a mechanism to enforce that certain methods are implemented in concrete subclasses.'"
      ]
     },
     "execution_count": 3,
     "metadata": {},
     "output_type": "execute_result"
    }
   ],
   "source": [
    "\"\"\" \n",
    "The abc module in Python stands for \"Abstract Base Classes.\" \n",
    "It provides the ABC (Abstract Base Class) metaclass and related functions for defining abstract base classes and abstract methods. \n",
    "Abstract base classes allows to define a common interface for a group of related classes \n",
    "while providing a mechanism to enforce that certain methods are implemented in concrete subclasses.\"\"\""
   ]
  },
  {
   "cell_type": "code",
   "execution_count": null,
   "id": "f9678fba-951b-4479-851b-2cfd1d618547",
   "metadata": {},
   "outputs": [],
   "source": []
  },
  {
   "cell_type": "markdown",
   "id": "cc8604f7-a3cd-49a7-bf80-c53c15afde42",
   "metadata": {},
   "source": [
    "# Question 4"
   ]
  },
  {
   "cell_type": "markdown",
   "id": "8a169fc5-d203-4357-8371-ad5acf5fc6c3",
   "metadata": {},
   "source": [
    "How can we achieve data abstraction?"
   ]
  },
  {
   "cell_type": "code",
   "execution_count": 4,
   "id": "d0d345f8-c06a-4d93-9592-6be2a7bb9157",
   "metadata": {},
   "outputs": [
    {
     "data": {
      "text/plain": [
       "' data abstraction can be achieved by using the following ways\\n1. Encapsulation,\\n2.Abstract Data Types (ADTs),\\n3. Abstract Classes and Interfaces, and \\n4. Use of Getter and Setter Methods.'"
      ]
     },
     "execution_count": 4,
     "metadata": {},
     "output_type": "execute_result"
    }
   ],
   "source": [
    "\"\"\" data abstraction can be achieved by using the following ways\n",
    "1. Encapsulation,\n",
    "2.Abstract Data Types (ADTs),\n",
    "3. Abstract Classes and Interfaces, and \n",
    "4. Use of Getter and Setter Methods.\"\"\""
   ]
  },
  {
   "cell_type": "code",
   "execution_count": null,
   "id": "8d5c01cd-e66c-48cd-83d3-3b29638de46e",
   "metadata": {},
   "outputs": [],
   "source": []
  },
  {
   "cell_type": "markdown",
   "id": "dd030e7e-0507-443c-a1b9-01b17e96f726",
   "metadata": {},
   "source": [
    "# Question 5"
   ]
  },
  {
   "cell_type": "markdown",
   "id": "47e06133-52b6-4a6f-a872-8efbbe574d59",
   "metadata": {},
   "source": [
    "Can we create an instance of an abstract class? Explain your answer"
   ]
  },
  {
   "cell_type": "code",
   "execution_count": 13,
   "id": "4adee719-c385-435e-975d-d07920706ec1",
   "metadata": {},
   "outputs": [
    {
     "name": "stdout",
     "output_type": "stream",
     "text": [
      "TypeError: Can't instantiate abstract class AbstractClass with abstract method abstract_method\n",
      "Implementation of abstract_method\n"
     ]
    }
   ],
   "source": [
    "\"\"\"In Python, we cannot create an instance of an abstract class directly. \n",
    "Abstract classes are meant to serve as blueprints for other classes, \n",
    "and they typically contain one or more abstract methods that must be implemented by concrete subclasses\"\"\"\n",
    "\n",
    "# Example\n",
    "from abc import ABC, abstractmethod\n",
    "\n",
    "class AbstractClass(ABC):\n",
    "    @abstractmethod\n",
    "    def abstract_method(self):\n",
    "        pass\n",
    "\n",
    "# Attempt to create an instance of the abstract class\n",
    "try:\n",
    "    obj = AbstractClass()  # This will raise a TypeError\n",
    "except TypeError as e:\n",
    "    print(f\"TypeError: {e}\")\n",
    "    \n",
    "\n",
    "# creating subclass\n",
    "    class ConcreteClass(AbstractClass):\n",
    "        def abstract_method(self):\n",
    "            print(\"Implementation of abstract_method\")\n",
    "    # Create an instance of the concrete subclass\n",
    "obj = ConcreteClass()\n",
    "obj.abstract_method()  # Output: Implementation of abstract_method"
   ]
  },
  {
   "cell_type": "code",
   "execution_count": null,
   "id": "f02cfe8f-0dd9-4d3e-a59b-35810ec96b22",
   "metadata": {},
   "outputs": [],
   "source": []
  }
 ],
 "metadata": {
  "kernelspec": {
   "display_name": "Python 3 (ipykernel)",
   "language": "python",
   "name": "python3"
  },
  "language_info": {
   "codemirror_mode": {
    "name": "ipython",
    "version": 3
   },
   "file_extension": ".py",
   "mimetype": "text/x-python",
   "name": "python",
   "nbconvert_exporter": "python",
   "pygments_lexer": "ipython3",
   "version": "3.10.8"
  }
 },
 "nbformat": 4,
 "nbformat_minor": 5
}
