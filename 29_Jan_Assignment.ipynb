{
 "cells": [
  {
   "cell_type": "markdown",
   "id": "1ac2b3c8-9c46-4277-8bdf-944256e8a413",
   "metadata": {},
   "source": [
    "# Question 1"
   ]
  },
  {
   "cell_type": "markdown",
   "id": "08d39289-1b49-45e8-96a5-8731dcd57398",
   "metadata": {},
   "source": [
    "Who developed Python Programming Language"
   ]
  },
  {
   "cell_type": "code",
   "execution_count": 1,
   "id": "946dffb2-73f5-4070-b822-c495456c59cd",
   "metadata": {},
   "outputs": [
    {
     "data": {
      "text/plain": [
       "' Guido Van Rossum developed the Python Programming Language'"
      ]
     },
     "execution_count": 1,
     "metadata": {},
     "output_type": "execute_result"
    }
   ],
   "source": [
    "\"\"\" Guido Van Rossum developed the Python Programming Language\"\"\""
   ]
  },
  {
   "cell_type": "code",
   "execution_count": null,
   "id": "6495d4e4-962b-45f8-a21d-e06ce5c61390",
   "metadata": {},
   "outputs": [],
   "source": []
  },
  {
   "cell_type": "markdown",
   "id": "7ce6fbd4-63d7-46fe-b0da-71db891b22a9",
   "metadata": {},
   "source": [
    "# Question 2"
   ]
  },
  {
   "cell_type": "markdown",
   "id": "8a5df2b6-8cd8-46de-a578-ac77a01d0490",
   "metadata": {},
   "source": [
    "Which type of programming does Python support?"
   ]
  },
  {
   "cell_type": "code",
   "execution_count": 2,
   "id": "759226dd-9def-4898-8a00-1ba42c564288",
   "metadata": {},
   "outputs": [
    {
     "data": {
      "text/plain": [
       "' obejct Oriented Programming and Sutuctured Programming can support Python Programming'"
      ]
     },
     "execution_count": 2,
     "metadata": {},
     "output_type": "execute_result"
    }
   ],
   "source": [
    "\"\"\" obejct Oriented Programming and Sutuctured Programming can support Python Programming\"\"\""
   ]
  },
  {
   "cell_type": "code",
   "execution_count": null,
   "id": "eeb5870b-b884-4a02-adbd-d9ef6e7069bc",
   "metadata": {},
   "outputs": [],
   "source": []
  },
  {
   "cell_type": "markdown",
   "id": "9d734c34-74a7-4c55-a7c5-79d03625e4b3",
   "metadata": {},
   "source": [
    "# Question 3"
   ]
  },
  {
   "cell_type": "markdown",
   "id": "72fe1ea6-f733-4d85-b239-6330ab87c9d2",
   "metadata": {},
   "source": [
    "Is Python Case Sensetive when dealing with identifiers?"
   ]
  },
  {
   "cell_type": "code",
   "execution_count": 3,
   "id": "f0efb757-3201-424b-9527-9bbf828ce157",
   "metadata": {},
   "outputs": [
    {
     "data": {
      "text/plain": [
       "' Yes. Python is case sensetive when dealing with identifiers'"
      ]
     },
     "execution_count": 3,
     "metadata": {},
     "output_type": "execute_result"
    }
   ],
   "source": [
    "\"\"\" Yes. Python is case sensetive when dealing with identifiers\"\"\""
   ]
  },
  {
   "cell_type": "code",
   "execution_count": null,
   "id": "44f0a1c9-2b54-473f-a5d9-68b63e49fbe5",
   "metadata": {},
   "outputs": [],
   "source": []
  },
  {
   "cell_type": "markdown",
   "id": "7cb75563-44ea-43da-ae7b-b30e7152607f",
   "metadata": {},
   "source": [
    "# Question 4"
   ]
  },
  {
   "cell_type": "markdown",
   "id": "f06c2d04-9691-4dc1-b122-4a0c7f8457dd",
   "metadata": {},
   "source": [
    "What is the correct extension of Pyhton file"
   ]
  },
  {
   "cell_type": "code",
   "execution_count": 4,
   "id": "248772a0-0cb1-43e5-b55a-44921ca3a4d3",
   "metadata": {},
   "outputs": [
    {
     "data": {
      "text/plain": [
       "' the correct extension of Python file is .py '"
      ]
     },
     "execution_count": 4,
     "metadata": {},
     "output_type": "execute_result"
    }
   ],
   "source": [
    "\"\"\" the correct extension of Python file is .py \"\"\""
   ]
  },
  {
   "cell_type": "code",
   "execution_count": null,
   "id": "e6546bb9-d9ec-4a0c-8022-5c1b2ed098e9",
   "metadata": {},
   "outputs": [],
   "source": []
  },
  {
   "cell_type": "markdown",
   "id": "596201d7-4fd5-431b-9c1e-0a1e13e4c64b",
   "metadata": {},
   "source": [
    "# Question 5"
   ]
  },
  {
   "cell_type": "markdown",
   "id": "6793914b-f283-4e4f-a994-0dadbc9996df",
   "metadata": {},
   "source": [
    "Is Python code compiled or Interpreted?"
   ]
  },
  {
   "cell_type": "code",
   "execution_count": 5,
   "id": "c7a7392a-5a74-4bb4-8053-c748ecd9bc64",
   "metadata": {},
   "outputs": [
    {
     "data": {
      "text/plain": [
       "' Python code is an Interpreted Language.'"
      ]
     },
     "execution_count": 5,
     "metadata": {},
     "output_type": "execute_result"
    }
   ],
   "source": [
    "\"\"\" Python code is an Interpreted Language.\"\"\" "
   ]
  },
  {
   "cell_type": "code",
   "execution_count": null,
   "id": "1ba21537-8c2e-4a7d-877a-3759216b1656",
   "metadata": {},
   "outputs": [],
   "source": []
  },
  {
   "cell_type": "markdown",
   "id": "13faa78d-4cd0-4628-983f-c9ccf610452d",
   "metadata": {},
   "source": [
    "# Question 6"
   ]
  },
  {
   "cell_type": "markdown",
   "id": "a5c35dd5-ba6a-437e-99f7-afddbbbe5728",
   "metadata": {},
   "source": [
    "Name a few blocks of code used to define in python language"
   ]
  },
  {
   "cell_type": "code",
   "execution_count": 6,
   "id": "bcbcfd10-6ed7-4f12-a12c-77889c017c08",
   "metadata": {},
   "outputs": [
    {
     "data": {
      "text/plain": [
       "' Some blocks of code used in the Python Language are\\n1. A module\\n2. A function body\\n3. class definition'"
      ]
     },
     "execution_count": 6,
     "metadata": {},
     "output_type": "execute_result"
    }
   ],
   "source": [
    "\"\"\" Some blocks of code used in the Python Language are\n",
    "1. A module\n",
    "2. A function body\n",
    "3. class definition\"\"\""
   ]
  },
  {
   "cell_type": "code",
   "execution_count": null,
   "id": "947c2020-b7b4-4bcf-b920-677eeb3f7b68",
   "metadata": {},
   "outputs": [],
   "source": []
  },
  {
   "cell_type": "markdown",
   "id": "68853acb-937a-4548-84bd-6872c5b71afc",
   "metadata": {},
   "source": [
    "# Question 7"
   ]
  },
  {
   "cell_type": "markdown",
   "id": "b2d702e8-e1c5-4037-ba07-1fa0ad8996ea",
   "metadata": {},
   "source": [
    "state a character used to give line comemnts in Python"
   ]
  },
  {
   "cell_type": "code",
   "execution_count": 7,
   "id": "d29cf5b1-efa6-4905-96dc-4afcfb0157ad",
   "metadata": {},
   "outputs": [
    {
     "data": {
      "text/plain": [
       "' the # symbol helps to create a single line comments in Python'"
      ]
     },
     "execution_count": 7,
     "metadata": {},
     "output_type": "execute_result"
    }
   ],
   "source": [
    "\"\"\" the # symbol helps to create a single line comments in Python\"\"\""
   ]
  },
  {
   "cell_type": "code",
   "execution_count": null,
   "id": "64392ddf-6236-40a7-8903-534f96359ab5",
   "metadata": {},
   "outputs": [],
   "source": []
  },
  {
   "cell_type": "markdown",
   "id": "3d17a7e9-17b9-4d14-a86f-5a505384815f",
   "metadata": {},
   "source": [
    "# Question 8"
   ]
  },
  {
   "cell_type": "markdown",
   "id": "4695f89e-736c-4566-a064-45133558cf1e",
   "metadata": {},
   "source": [
    "Mention functions which can help us to find the version of python that we are currently working on? "
   ]
  },
  {
   "cell_type": "code",
   "execution_count": 8,
   "id": "8a262394-c32d-472c-a6cd-6d5e0d4a447a",
   "metadata": {},
   "outputs": [
    {
     "data": {
      "text/plain": [
       "' sys.version can help us to find the version of the Pyhton that we are currently using.'"
      ]
     },
     "execution_count": 8,
     "metadata": {},
     "output_type": "execute_result"
    }
   ],
   "source": [
    "\"\"\" sys.version can help us to find the version of the Pyhton that we are currently using.\"\"\""
   ]
  },
  {
   "cell_type": "code",
   "execution_count": null,
   "id": "105283d1-568a-458d-b7fd-d55895cde0a0",
   "metadata": {},
   "outputs": [],
   "source": []
  },
  {
   "cell_type": "markdown",
   "id": "775a4e88-1e8c-40c9-968c-115f5976a13b",
   "metadata": {},
   "source": [
    "# Question 9"
   ]
  },
  {
   "cell_type": "markdown",
   "id": "75ea8c23-db90-414e-898a-b025795756e4",
   "metadata": {},
   "source": [
    "Python supports the creattion of annonymous at runtime. using a construct called _____"
   ]
  },
  {
   "cell_type": "code",
   "execution_count": 9,
   "id": "eb07f5fa-61f2-450b-ae69-a4d3372701eb",
   "metadata": {},
   "outputs": [
    {
     "data": {
      "text/plain": [
       "'lambda'"
      ]
     },
     "execution_count": 9,
     "metadata": {},
     "output_type": "execute_result"
    }
   ],
   "source": [
    "\"\"\"lambda\"\"\""
   ]
  },
  {
   "cell_type": "code",
   "execution_count": null,
   "id": "af94a555-be37-4281-bc4b-26c6b7245a03",
   "metadata": {},
   "outputs": [],
   "source": []
  },
  {
   "cell_type": "markdown",
   "id": "bf0678a8-eb4f-4bfb-838a-9eb6211d3df4",
   "metadata": {},
   "source": [
    "# Question 10"
   ]
  },
  {
   "cell_type": "markdown",
   "id": "19ac4d43-0871-4a34-b548-452967546397",
   "metadata": {},
   "source": [
    "What does pip stands for in Python?"
   ]
  },
  {
   "cell_type": "code",
   "execution_count": 10,
   "id": "f144f8ee-9dde-4225-9791-9231589daa29",
   "metadata": {},
   "outputs": [
    {
     "data": {
      "text/plain": [
       "\" PIP stands for 'Prefered Installer Program' which helps to Install, Reinstall and Uninstall packages in Python. \""
      ]
     },
     "execution_count": 10,
     "metadata": {},
     "output_type": "execute_result"
    }
   ],
   "source": [
    "\"\"\" PIP stands for 'Prefered Installer Program' which helps to Install, Reinstall and Uninstall packages in Python. \"\"\""
   ]
  },
  {
   "cell_type": "code",
   "execution_count": null,
   "id": "c2c1e169-b35a-40ba-85f6-9a2320d08d15",
   "metadata": {},
   "outputs": [],
   "source": []
  },
  {
   "cell_type": "markdown",
   "id": "61e93667-4d07-4e0d-9290-058b12a73e1b",
   "metadata": {},
   "source": [
    "# Question 11"
   ]
  },
  {
   "cell_type": "markdown",
   "id": "f3d135ce-190a-4d26-8b3a-92b8bece1b98",
   "metadata": {},
   "source": [
    "Mention a few built-in function in Python"
   ]
  },
  {
   "cell_type": "code",
   "execution_count": 11,
   "id": "4165cb3a-3bbe-4593-a0d6-64d0d5f0999f",
   "metadata": {},
   "outputs": [
    {
     "data": {
      "text/plain": [
       "' some built-in functions in python are len(), str(), int(), float(), range(), max(), min(), sum(), open(), sorted(), and type(). '"
      ]
     },
     "execution_count": 11,
     "metadata": {},
     "output_type": "execute_result"
    }
   ],
   "source": [
    "\"\"\" some built-in functions in python are len(), str(), int(), float(), range(), max(), min(), sum(), open(), sorted(), and type(). \"\"\""
   ]
  },
  {
   "cell_type": "code",
   "execution_count": null,
   "id": "4c2b2111-a159-45a7-bd86-db17ea839f2f",
   "metadata": {},
   "outputs": [],
   "source": []
  },
  {
   "cell_type": "markdown",
   "id": "f63b9905-19b1-4ed6-85c5-e807085317bb",
   "metadata": {},
   "source": [
    "# Question 12"
   ]
  },
  {
   "cell_type": "markdown",
   "id": "a5871718-a22c-47dd-b650-0a7591eb4c63",
   "metadata": {},
   "source": [
    "what is the maximum possible length of an identifier in Python?"
   ]
  },
  {
   "cell_type": "code",
   "execution_count": 12,
   "id": "82edacae-707a-4d83-becd-505774a2dca9",
   "metadata": {},
   "outputs": [
    {
     "data": {
      "text/plain": [
       "\" An identifier's length in Python is 79 character.\""
      ]
     },
     "execution_count": 12,
     "metadata": {},
     "output_type": "execute_result"
    }
   ],
   "source": [
    "\"\"\" An identifier's length in Python is 79 character.\"\"\""
   ]
  },
  {
   "cell_type": "code",
   "execution_count": null,
   "id": "27c00c35-ef39-4e4d-afd9-842548279eb9",
   "metadata": {},
   "outputs": [],
   "source": []
  },
  {
   "cell_type": "markdown",
   "id": "06bff6e7-44cf-4b1c-a4ff-ac011e603766",
   "metadata": {},
   "source": [
    "# Question 13"
   ]
  },
  {
   "cell_type": "markdown",
   "id": "78a4c6a1-3343-4f9b-878e-7c97b99db367",
   "metadata": {},
   "source": [
    "what are the benefits of using python?"
   ]
  },
  {
   "cell_type": "code",
   "execution_count": 13,
   "id": "9372c7d9-badd-4c37-8719-fa0cacb408d9",
   "metadata": {},
   "outputs": [
    {
     "data": {
      "text/plain": [
       "' there are many benifts of using python as programin language. some of them are listed below.\\n1. Easy Unserstanding\\n2. Presence of Third Party Modules\\n3. Open source platform\\n4. User friendly\\n5. Productivity and Speed'"
      ]
     },
     "execution_count": 13,
     "metadata": {},
     "output_type": "execute_result"
    }
   ],
   "source": [
    "\"\"\" there are many benifts of using python as programin language. some of them are listed below.\n",
    "1. Easy Unserstanding\n",
    "2. Presence of Third Party Modules\n",
    "3. Open source platform\n",
    "4. User friendly\n",
    "5. Productivity and Speed\"\"\""
   ]
  },
  {
   "cell_type": "code",
   "execution_count": null,
   "id": "9366dc44-2e18-4074-99f8-3908eb897d5c",
   "metadata": {},
   "outputs": [],
   "source": []
  },
  {
   "cell_type": "markdown",
   "id": "225e0539-8107-44b3-87f1-3b49ea8de64e",
   "metadata": {},
   "source": [
    "# Question 14"
   ]
  },
  {
   "cell_type": "markdown",
   "id": "37aac43b-ae62-4de5-b969-3af5892fc19f",
   "metadata": {},
   "source": [
    "How is memory managed in Python?"
   ]
  },
  {
   "cell_type": "code",
   "execution_count": 14,
   "id": "2f7416f8-3aff-4921-8d55-dea3f744e021",
   "metadata": {},
   "outputs": [
    {
     "data": {
      "text/plain": [
       "' The Python memory is primarily managed by Python private heap space. \\nAll Python objects and data structures are located in a private heap.'"
      ]
     },
     "execution_count": 14,
     "metadata": {},
     "output_type": "execute_result"
    }
   ],
   "source": [
    "\"\"\" The Python memory is primarily managed by Python private heap space. \n",
    "All Python objects and data structures are located in a private heap.\"\"\""
   ]
  },
  {
   "cell_type": "code",
   "execution_count": null,
   "id": "21ceb045-2a3f-4d5b-93a6-557d526edda2",
   "metadata": {},
   "outputs": [],
   "source": []
  },
  {
   "cell_type": "markdown",
   "id": "04afa509-3552-4fb3-82d3-be2ccb6cf74b",
   "metadata": {},
   "source": [
    "# Question 15"
   ]
  },
  {
   "cell_type": "markdown",
   "id": "0c9ac85f-5cfe-4024-953a-5a7bf7e80237",
   "metadata": {},
   "source": [
    "How to install Python in windows and set variables?"
   ]
  },
  {
   "cell_type": "code",
   "execution_count": 15,
   "id": "5af65910-d499-4209-bfc3-dba605d40ac4",
   "metadata": {},
   "outputs": [
    {
     "data": {
      "text/plain": [
       "' Python can be isntalled in simple procedures which are given below\\n1. Locate Python Installation\\n2. Verify the Python Installation \\n3. Adding Python to path as an Environmental Variable\\n4. Adding Python Path to User Environmental Variables\\n5. Checking if the Environment variable is set or not. '"
      ]
     },
     "execution_count": 15,
     "metadata": {},
     "output_type": "execute_result"
    }
   ],
   "source": [
    "\"\"\" Python can be isntalled in simple procedures which are given below\n",
    "1. Locate Python Installation\n",
    "2. Verify the Python Installation \n",
    "3. Adding Python to path as an Environmental Variable\n",
    "4. Adding Python Path to User Environmental Variables\n",
    "5. Checking if the Environment variable is set or not. \"\"\""
   ]
  },
  {
   "cell_type": "code",
   "execution_count": null,
   "id": "fd540682-4741-4271-93e8-d08954e5c57a",
   "metadata": {},
   "outputs": [],
   "source": []
  },
  {
   "cell_type": "markdown",
   "id": "bb218d77-ec86-4c4b-b57a-fc31a17f18c8",
   "metadata": {},
   "source": [
    "# Question 16"
   ]
  },
  {
   "cell_type": "markdown",
   "id": "707bdff4-d4b2-4110-ab8b-7f4ba81b1f93",
   "metadata": {},
   "source": [
    "Is Indentiation is required in Python"
   ]
  },
  {
   "cell_type": "code",
   "execution_count": 16,
   "id": "f53c45e7-9796-43e6-9b74-bdff125b8173",
   "metadata": {},
   "outputs": [
    {
     "data": {
      "text/plain": [
       "'Indentation is mandatory in python to define the blocks of statements.'"
      ]
     },
     "execution_count": 16,
     "metadata": {},
     "output_type": "execute_result"
    }
   ],
   "source": [
    "\"\"\"Indentation is mandatory in python to define the blocks of statements.\"\"\""
   ]
  },
  {
   "cell_type": "code",
   "execution_count": null,
   "id": "5012bb76-91c0-4a26-9278-60ea3cf51912",
   "metadata": {},
   "outputs": [],
   "source": []
  }
 ],
 "metadata": {
  "kernelspec": {
   "display_name": "Python 3 (ipykernel)",
   "language": "python",
   "name": "python3"
  },
  "language_info": {
   "codemirror_mode": {
    "name": "ipython",
    "version": 3
   },
   "file_extension": ".py",
   "mimetype": "text/x-python",
   "name": "python",
   "nbconvert_exporter": "python",
   "pygments_lexer": "ipython3",
   "version": "3.10.8"
  }
 },
 "nbformat": 4,
 "nbformat_minor": 5
}
