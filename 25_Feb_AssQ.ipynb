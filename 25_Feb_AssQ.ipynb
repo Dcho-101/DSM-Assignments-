{
 "cells": [
  {
   "cell_type": "markdown",
   "id": "a9b3f2c0-b163-49ab-a294-5750681a3bf4",
   "metadata": {},
   "source": [
    "Consider following code to answer further questions:\n",
    "\n",
    "import pandas as pd\n",
    "\n",
    "course_name = [‘Data Science’, ‘Machine Learning’, ‘Big Data’, ‘Data Engineer’]\n",
    "\n",
    "duration = [2,3,6,4]\n",
    "\n",
    "df = pd.DataFrame(data = {‘course_name’ : course_name, ‘duration’ : duration})"
   ]
  },
  {
   "cell_type": "markdown",
   "id": "3be87425-c840-42f9-a4a9-68ed40f55e43",
   "metadata": {},
   "source": [
    "# Question 1"
   ]
  },
  {
   "cell_type": "markdown",
   "id": "9e8fa974-0fe0-4c7f-926a-1e906b1a32fe",
   "metadata": {},
   "source": [
    "Write a code to print the data present in the second row of the dataframe, df."
   ]
  },
  {
   "cell_type": "code",
   "execution_count": 1,
   "id": "7e23a1eb-dfc9-4d0a-b752-404410a65063",
   "metadata": {},
   "outputs": [
    {
     "name": "stdout",
     "output_type": "stream",
     "text": [
      "course_name    Machine Learning\n",
      "duration                      3\n",
      "Name: 1, dtype: object\n"
     ]
    }
   ],
   "source": [
    "# Importing library\n",
    "\n",
    "import pandas as pd\n",
    "\n",
    "course_name = ['Data Science', 'Machine Learning', 'Big Data', 'Data Engineer']\n",
    "\n",
    "duration = [2,3,6,4]\n",
    "\n",
    "# Creating Dataframe\n",
    "df = pd.DataFrame(data = {'course_name' : course_name, 'duration' : duration})\n",
    "\n",
    "# printing the 2nd row from the dataframe\n",
    "print(df.iloc[1])"
   ]
  },
  {
   "cell_type": "code",
   "execution_count": null,
   "id": "a76f06f1-6ab3-426c-88a0-bd6b68f2189e",
   "metadata": {},
   "outputs": [],
   "source": []
  },
  {
   "cell_type": "markdown",
   "id": "cfcba292-a471-42d1-a019-1b73310e45a7",
   "metadata": {},
   "source": [
    "# Question 2"
   ]
  },
  {
   "cell_type": "markdown",
   "id": "fdf70fcb-cc57-47d4-b3d7-8ea5813fac34",
   "metadata": {},
   "source": [
    "What is the difference between the functions loc and iloc in pandas.DataFrame?"
   ]
  },
  {
   "cell_type": "code",
   "execution_count": 2,
   "id": "07eea0c2-5a34-43b7-8e80-f1bc6ed1ad5c",
   "metadata": {},
   "outputs": [
    {
     "data": {
      "text/plain": [
       "'\\niloc perfrom is primarily integer-locaton based. we need to use the integer to perform indexing\\nthe syntax for using iloc is \"df.iloc[row_index, column_index]\"\\n'"
      ]
     },
     "execution_count": 2,
     "metadata": {},
     "output_type": "execute_result"
    }
   ],
   "source": [
    "# loc\n",
    "'''\n",
    "loc perfrom is primarily label based. It helps in the selection actual row and column labels to perform the indexing.\n",
    "the syntax for using loc is \"df.loc[row_label, column_label]\"\n",
    "'''\n",
    "\n",
    "# iloc\n",
    "'''\n",
    "iloc perfrom is primarily integer-locaton based. we need to use the integer to perform indexing\n",
    "the syntax for using iloc is \"df.iloc[row_index, column_index]\"\n",
    "'''\n"
   ]
  },
  {
   "cell_type": "code",
   "execution_count": null,
   "id": "2252a6f2-471a-4369-af63-77a6c2d3c312",
   "metadata": {},
   "outputs": [],
   "source": []
  },
  {
   "cell_type": "markdown",
   "id": "2d62073d-b5bf-4d1d-817c-027ed2e10003",
   "metadata": {},
   "source": [
    "# Question 3"
   ]
  },
  {
   "cell_type": "markdown",
   "id": "d26c45b9-8a2b-4b5f-b74b-1c25212c8bb3",
   "metadata": {},
   "source": [
    "Reindex the given dataframe using a variable, reindex = [3,0,1,2] and store it in the variable, new_df\n",
    "then find the output for both new_df.loc[2] and new_df.iloc[2].\n",
    "\n",
    "Did you observe any difference in both the outputs? If so then explain it."
   ]
  },
  {
   "cell_type": "code",
   "execution_count": 4,
   "id": "dd71adfc-4ed9-44d4-abd2-204f756610f6",
   "metadata": {},
   "outputs": [
    {
     "name": "stdout",
     "output_type": "stream",
     "text": [
      "Output for new_df.loc[2]:\n",
      "course_name    Big Data\n",
      "duration              6\n",
      "Name: 2, dtype: object\n",
      "\n",
      "Output for new_df.iloc[2]:\n",
      "course_name    Machine Learning\n",
      "duration                      3\n",
      "Name: 1, dtype: object\n"
     ]
    }
   ],
   "source": [
    "course_name = ['Data Science', 'Machine Learning', 'Big Data', 'Data Engineer']\n",
    "duration = [2, 3, 6, 4]\n",
    "\n",
    "df = pd.DataFrame(data={'course_name': course_name, 'duration': duration})\n",
    "\n",
    "# Reindexing the DataFrame\n",
    "reindex_order = [3, 0, 1, 2]\n",
    "new_df = df.reindex(reindex_order)\n",
    "\n",
    "# Output for new_df.loc[2]\n",
    "print(\"Output for new_df.loc[2]:\")\n",
    "print(new_df.loc[2])\n",
    "\n",
    "# Output for new_df.iloc[2]\n",
    "print(\"\\nOutput for new_df.iloc[2]:\")\n",
    "print(new_df.iloc[2])"
   ]
  },
  {
   "cell_type": "markdown",
   "id": "8e743ad9-46e6-4c0d-af37-428ea5217724",
   "metadata": {
    "tags": []
   },
   "source": [
    "# Observation:\n",
    "\n",
    "- For \"new_df.loc[2]\", the output corresponds to the row with the index label 2 in the reindexed DataFrame. It provides the data for the row where the index label is 2.\n",
    "- For \"new_df.iloc[2]\", the output corresponds to the third row in the reindexed DataFrame (because iloc is based on the integer position). \n",
    "- \"loc\" uses the index label, while \"iloc\" uses the integer position."
   ]
  },
  {
   "cell_type": "code",
   "execution_count": null,
   "id": "b590048a-9333-451e-bb9c-f71ffa57d7cd",
   "metadata": {},
   "outputs": [],
   "source": []
  },
  {
   "cell_type": "markdown",
   "id": "4321d940-5ad4-4805-8acd-0f39d5a809c9",
   "metadata": {},
   "source": [
    "Consider the below code to answer further questions:\n",
    "\n",
    "import pandas as pd\n",
    "\n",
    "import numpy as np\n",
    "\n",
    "columns = ['column_1', 'column_2', 'column_3', 'column_4', 'column_5', 'column_6']\n",
    "\n",
    "indices = [1,2,3,4,5,6]\n",
    "\n",
    "#Creating a dataframe:\n",
    "\n",
    "df1 = pd.DataFrame(np.random.rand(6,6), columns = columns, index = indices)\n"
   ]
  },
  {
   "cell_type": "markdown",
   "id": "55a86c62-2361-4c94-991a-4711c3db79e1",
   "metadata": {},
   "source": [
    "# Question 4 "
   ]
  },
  {
   "cell_type": "markdown",
   "id": "e4895547-b91c-44ac-b8b4-c066a9776e81",
   "metadata": {},
   "source": [
    "(i) mean of each and every column present in the dataframe."
   ]
  },
  {
   "cell_type": "code",
   "execution_count": 7,
   "id": "dcf87dc7-fa20-47d9-84a6-4f5fca9486ae",
   "metadata": {},
   "outputs": [],
   "source": [
    "# Writing code first \n",
    "\n",
    "import pandas as pd\n",
    "\n",
    "import numpy as np\n",
    "\n",
    "columns = ['column_1', 'column_2', 'column_3', 'column_4', 'column_5', 'column_6']\n",
    "\n",
    "indices = [1,2,3,4,5,6]\n",
    "\n",
    "#Creating a dataframe:\n",
    "\n",
    "df1 = pd.DataFrame(np.random.rand(6,6), columns = columns, index = indices)"
   ]
  },
  {
   "cell_type": "code",
   "execution_count": 8,
   "id": "e479d4de-5ac5-4b9b-a5cb-8a2287f1ab78",
   "metadata": {},
   "outputs": [
    {
     "name": "stderr",
     "output_type": "stream",
     "text": [
      "/opt/conda/lib/python3.10/site-packages/numpy/core/fromnumeric.py:3430: FutureWarning: In a future version, DataFrame.mean(axis=None) will return a scalar mean over the entire DataFrame. To retain the old behavior, use 'frame.mean(axis=0)' or just 'frame.mean()'\n",
      "  return mean(axis=axis, dtype=dtype, out=out, **kwargs)\n"
     ]
    },
    {
     "data": {
      "text/plain": [
       "column_1    0.686263\n",
       "column_2    0.269495\n",
       "column_3    0.578652\n",
       "column_4    0.441280\n",
       "column_5    0.525418\n",
       "column_6    0.686374\n",
       "dtype: float64"
      ]
     },
     "execution_count": 8,
     "metadata": {},
     "output_type": "execute_result"
    }
   ],
   "source": [
    "# Answering Question number (i)\n",
    "\n",
    "np.mean(df1)"
   ]
  },
  {
   "cell_type": "markdown",
   "id": "34d35d91-494d-45f6-81ba-afb292b4ed96",
   "metadata": {},
   "source": [
    "(ii) standard deviation of column, ‘column_2’"
   ]
  },
  {
   "cell_type": "code",
   "execution_count": 10,
   "id": "9472c94f-292e-4ba4-be21-e190d5893821",
   "metadata": {},
   "outputs": [
    {
     "data": {
      "text/plain": [
       "column_1    0.071799\n",
       "column_2    0.109064\n",
       "column_3    0.286103\n",
       "column_4    0.365554\n",
       "column_5    0.242662\n",
       "column_6    0.232240\n",
       "dtype: float64"
      ]
     },
     "execution_count": 10,
     "metadata": {},
     "output_type": "execute_result"
    }
   ],
   "source": [
    "np.std(df1)"
   ]
  },
  {
   "cell_type": "code",
   "execution_count": null,
   "id": "9a47e2f8-88ec-49f9-bd39-e2c69ea6fdb8",
   "metadata": {},
   "outputs": [],
   "source": []
  },
  {
   "cell_type": "markdown",
   "id": "2838b72b-7268-46b1-917b-01f7ef22af03",
   "metadata": {},
   "source": [
    "# Question 5"
   ]
  },
  {
   "cell_type": "markdown",
   "id": "dbb2174c-21e6-46d2-9475-c06b797b5877",
   "metadata": {},
   "source": [
    "Replace the data present in the second row of column, ‘column_2’ by a string variable then find the\n",
    "mean of column, column_2."
   ]
  },
  {
   "cell_type": "markdown",
   "id": "6f63121b-0c88-4dff-b213-0d7b0dfccaaf",
   "metadata": {},
   "source": [
    "If you are getting errors in executing it then explain why."
   ]
  },
  {
   "cell_type": "code",
   "execution_count": 13,
   "id": "8e07fa90-a847-43d1-96d5-c322b9541c7e",
   "metadata": {},
   "outputs": [
    {
     "name": "stdout",
     "output_type": "stream",
     "text": [
      "unsupported operand type(s) for +: 'float' and 'str'\n"
     ]
    }
   ],
   "source": [
    "import pandas as pd\n",
    "import numpy as np\n",
    "try :\n",
    "    columns = ['column_1', 'column_2', 'column_3', 'column_4', 'column_5', 'column_6']\n",
    "    indices = [1, 2, 3, 4, 5, 6]\n",
    "\n",
    "    # Creating a dataframe\n",
    "    df1 = pd.DataFrame(np.random.rand(6, 6), columns=columns, index=indices)\n",
    "\n",
    "    # Replacing data in the second row of 'column_2' with a string variable\n",
    "    string_data = 'NewStringData'\n",
    "    df1.loc[2, 'column_2'] = string_data\n",
    "\n",
    "    # Finding the mean of 'column_2'\n",
    "    mean_column_2 = df1['column_2'].mean()\n",
    "\n",
    "    print(f\"Dataframe after replacing in the second row of 'column_2':\\n{df1}\\n\")\n",
    "    print(f\"Mean of 'column_2': {mean_column_2}\")\n",
    "    \n",
    "except TypeError as t :\n",
    "    print(t)\n"
   ]
  },
  {
   "cell_type": "markdown",
   "id": "c210a0a6-b9e9-43d6-89e6-a20c162f23a2",
   "metadata": {},
   "source": [
    "The error showing might be due to the data type mismatch between the original numeric data in 'column_2' and the string data we are trying to replace it with."
   ]
  },
  {
   "cell_type": "code",
   "execution_count": null,
   "id": "bd34c13e-0eed-4b5e-af06-0db48ee78acf",
   "metadata": {},
   "outputs": [],
   "source": []
  },
  {
   "cell_type": "markdown",
   "id": "413c56d8-ba50-4426-a659-0541ef5ed676",
   "metadata": {},
   "source": [
    "# Question 6"
   ]
  },
  {
   "cell_type": "markdown",
   "id": "a0b6ac54-d351-46e4-ad9a-d1e582f5ec63",
   "metadata": {},
   "source": [
    "What do you understand about the windows function in pandas and list the types of windows\n",
    "functions?"
   ]
  },
  {
   "cell_type": "code",
   "execution_count": 14,
   "id": "f96cf625-71e4-4e24-b5d6-39853af03191",
   "metadata": {},
   "outputs": [
    {
     "data": {
      "text/plain": [
       "'\\n1. Mean (mean()) \\n2. Sum(sum()) \\n3. Standard Deviation (std())\\n4. Minimum (min())\\n5. Maximum (max())\\n6. Correlation (corr()) \\n7. Covariance (cov())\\n'"
      ]
     },
     "execution_count": 14,
     "metadata": {},
     "output_type": "execute_result"
    }
   ],
   "source": [
    "'''\n",
    "In pandas, a window function is a way to perform calculations on a set of data points that are organized in a specified window, \n",
    "typically moving across the data. \n",
    "'''\n",
    "\n",
    "# Types of Windows Function\n",
    "'''\n",
    "1. Mean (mean()) \n",
    "2. Sum(sum()) \n",
    "3. Standard Deviation (std())\n",
    "4. Minimum (min())\n",
    "5. Maximum (max())\n",
    "6. Correlation (corr()) \n",
    "7. Covariance (cov())\n",
    "'''\n"
   ]
  },
  {
   "cell_type": "code",
   "execution_count": null,
   "id": "f4b41e5f-35d5-4400-9b9f-2abc907eff31",
   "metadata": {},
   "outputs": [],
   "source": []
  },
  {
   "cell_type": "markdown",
   "id": "0c4610c5-68db-4189-8772-2815eb9d3ca1",
   "metadata": {},
   "source": [
    "#  Question 7"
   ]
  },
  {
   "cell_type": "markdown",
   "id": "145504ae-5d1f-4916-8d25-60cbdb74c26e",
   "metadata": {},
   "source": [
    "Write a code to print only the current month and year at the time of answering this question.\n",
    "\n",
    "[Hint: Use pandas.datetime function]"
   ]
  },
  {
   "cell_type": "code",
   "execution_count": 15,
   "id": "9ca6cac1-7b15-4f3b-a351-92082dbe97d2",
   "metadata": {},
   "outputs": [
    {
     "name": "stdout",
     "output_type": "stream",
     "text": [
      "Current Month: 1, Current Year: 2024\n"
     ]
    }
   ],
   "source": [
    "import pandas as pd\n",
    "\n",
    "# Get the current date and time\n",
    "current_date_time = pd.Timestamp.now()\n",
    "\n",
    "# Extract the current month and year\n",
    "current_month = current_date_time.month\n",
    "current_year = current_date_time.year\n",
    "\n",
    "# Print the current month and year\n",
    "print(f\"Current Month: {current_month}, Current Year: {current_year}\")"
   ]
  },
  {
   "cell_type": "code",
   "execution_count": null,
   "id": "1666dcef-15f0-4a71-8fd5-848c926dcfda",
   "metadata": {},
   "outputs": [],
   "source": []
  },
  {
   "cell_type": "markdown",
   "id": "ece8c8de-15e6-4a09-aa13-94d14e5dad5e",
   "metadata": {},
   "source": [
    "# Question 8"
   ]
  },
  {
   "cell_type": "markdown",
   "id": "d552b373-f950-488a-b716-4b60301a87e7",
   "metadata": {},
   "source": [
    "Write a Python program that takes in two dates as input (in the format YYYY-MM-DD) and\n",
    "calculates the difference between them in days, hours, and minutes using Pandas time delta. The\n",
    "program should prompt the user to enter the dates and display the result."
   ]
  },
  {
   "cell_type": "code",
   "execution_count": 17,
   "id": "c986ee48-554b-43bb-a4f9-ce50e263d1ae",
   "metadata": {},
   "outputs": [
    {
     "name": "stdin",
     "output_type": "stream",
     "text": [
      "Enter the first date (YYYY-MM-DD):  1995-01-14\n",
      "Enter the second date (YYYY-MM-DD):  2024-01-13\n"
     ]
    },
    {
     "name": "stdout",
     "output_type": "stream",
     "text": [
      "\n",
      "Time Difference:\n",
      "Days: 10591\n",
      "Hours: 0\n",
      "Minutes: 0\n"
     ]
    }
   ],
   "source": [
    "import pandas as pd\n",
    "\n",
    "def calculate_time_difference(date1, date2):\n",
    "    # Convert input strings to datetime objects\n",
    "    date1 = pd.to_datetime(date1)\n",
    "    date2 = pd.to_datetime(date2)\n",
    "\n",
    "    # Calculate the time difference\n",
    "    time_difference = date2 - date1\n",
    "\n",
    "    # Extract days, hours, and minutes\n",
    "    days = time_difference.days\n",
    "    hours, remainder = divmod(time_difference.seconds, 3600)\n",
    "    minutes = remainder // 60\n",
    "\n",
    "    return days, hours, minutes\n",
    "\n",
    "# Prompt user to enter dates\n",
    "date_str1 = input(\"Enter the first date (YYYY-MM-DD): \")\n",
    "date_str2 = input(\"Enter the second date (YYYY-MM-DD): \")\n",
    "\n",
    "# Calculate time difference\n",
    "try:\n",
    "    days_diff, hours_diff, minutes_diff = calculate_time_difference(date_str1, date_str2)\n",
    "    print(f\"\\nTime Difference:\\nDays: {days_diff}\\nHours: {hours_diff}\\nMinutes: {minutes_diff}\")\n",
    "\n",
    "except ValueError as e:\n",
    "    print(f\"Error: {e}. Please enter valid date formats (YYYY-MM-DD).\")\n"
   ]
  },
  {
   "cell_type": "code",
   "execution_count": null,
   "id": "87065a32-4f7d-46d1-8977-7d92a71118e9",
   "metadata": {},
   "outputs": [],
   "source": []
  },
  {
   "cell_type": "markdown",
   "id": "7923cb33-a6b4-432c-9056-5f1dd101e2b1",
   "metadata": {},
   "source": [
    "# Question 9"
   ]
  },
  {
   "cell_type": "markdown",
   "id": "d2c17e9b-7f3f-4ca9-b6b4-bff49b64f908",
   "metadata": {},
   "source": [
    "Write a Python program that reads a CSV file containing categorical data and converts a specified\n",
    "column to a categorical data type. The program should prompt the user to enter the file path, column\n",
    "name, and category order, and then display the sorted data."
   ]
  },
  {
   "cell_type": "code",
   "execution_count": null,
   "id": "1a80939f-1960-4fd8-8734-6e868486b4e1",
   "metadata": {},
   "outputs": [],
   "source": []
  },
  {
   "cell_type": "code",
   "execution_count": null,
   "id": "60ca5ce8-107f-4708-ac44-1c5f1b932a41",
   "metadata": {},
   "outputs": [],
   "source": []
  },
  {
   "cell_type": "markdown",
   "id": "c22c5057-bbf6-44bd-916d-3d2664324476",
   "metadata": {},
   "source": [
    "# Question 10 "
   ]
  },
  {
   "cell_type": "markdown",
   "id": "1f039ad6-231f-4fd0-963d-c87efcf4eff7",
   "metadata": {},
   "source": [
    "Write a Python program that reads a CSV file containing sales data for different products and\n",
    "visualizes the data using a stacked bar chart to show the sales of each product category over time. The\n",
    "program should prompt the user to enter the file path and display the chart."
   ]
  },
  {
   "cell_type": "code",
   "execution_count": null,
   "id": "f4ec887b-12a3-487e-a32c-6c2a42626dba",
   "metadata": {},
   "outputs": [],
   "source": []
  },
  {
   "cell_type": "code",
   "execution_count": null,
   "id": "669d586b-bfd0-47ad-ac00-cbbe6a956589",
   "metadata": {},
   "outputs": [],
   "source": []
  },
  {
   "cell_type": "markdown",
   "id": "bdf374bd-84e7-4e6b-9b99-42ed74e47a96",
   "metadata": {},
   "source": [
    "# Question 11"
   ]
  },
  {
   "cell_type": "markdown",
   "id": "54f6f3a0-cd7f-4ecd-a860-6bdaca5d264c",
   "metadata": {},
   "source": [
    "You are given a CSV file containing student data that includes the student ID and their test score. Write\n",
    "a Python program that reads the CSV file, calculates the mean, median, and mode of the test scores, and\n",
    "displays the results in a table."
   ]
  },
  {
   "cell_type": "markdown",
   "id": "b330f9f4-b2c8-4956-a3c1-cf72cd0cec26",
   "metadata": {},
   "source": [
    "The program should do the following : \n",
    "    \n",
    "- Prompt the user to enter the file path of the CSV file containing the student data.\n",
    "\n",
    "- Read the CSV file into a Pandas DataFrame.\n",
    "\n",
    "- Calculate the mean, median, and mode of the test scores using Pandas tools.\n",
    "\n",
    "- Display the mean, median, and mode in a table.\n",
    "\n",
    "Assume the CSV file contains the following columns :\n",
    "\n",
    "- Student ID: The ID of the student.\n",
    "\n",
    "- Test Score: The score of the student's test.\n",
    "\n",
    "Example usage of the program:\n",
    "\n",
    "Enter the file path of the CSV file containing the student data: student_data.csv\n",
    "\n",
    "+-----------+--------+\n",
    "\n",
    "| Statistic | Value |\n",
    "\n",
    "+-----------+--------+\n",
    "\n",
    "| Mean | 79.6 |\n",
    "\n",
    "| Median | 82 |\n",
    "\n",
    "| Mode | 85, 90 |\n",
    "\n",
    "+-----------+--------+"
   ]
  },
  {
   "cell_type": "markdown",
   "id": "64ba40de-6392-4d3e-8274-bdef25abd324",
   "metadata": {},
   "source": [
    "Assume that the CSV file student_data.csv contains the following data:\n",
    "    \n",
    "Student ID,Test Score\n",
    "\n",
    "1,85\n",
    "\n",
    "2,90\n",
    "\n",
    "3,80\n",
    "\n",
    "4,75\n",
    "\n",
    "5,85\n",
    "\n",
    "6,82\n",
    "\n",
    "7,78\n",
    "\n",
    "8,85\n",
    "\n",
    "9,90\n",
    "\n",
    "10,85\n",
    "\n",
    "The program should calculate the mean, median, and mode of the test scores and display the results\n",
    "in a table."
   ]
  },
  {
   "cell_type": "code",
   "execution_count": null,
   "id": "0c30b441-99e5-402a-9947-f5346af5f326",
   "metadata": {},
   "outputs": [],
   "source": []
  }
 ],
 "metadata": {
  "kernelspec": {
   "display_name": "Python 3 (ipykernel)",
   "language": "python",
   "name": "python3"
  },
  "language_info": {
   "codemirror_mode": {
    "name": "ipython",
    "version": 3
   },
   "file_extension": ".py",
   "mimetype": "text/x-python",
   "name": "python",
   "nbconvert_exporter": "python",
   "pygments_lexer": "ipython3",
   "version": "3.10.8"
  }
 },
 "nbformat": 4,
 "nbformat_minor": 5
}
