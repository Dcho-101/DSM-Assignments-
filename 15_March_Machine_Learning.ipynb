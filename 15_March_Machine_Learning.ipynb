{
 "cells": [
  {
   "cell_type": "markdown",
   "id": "ea05e216-1585-4f08-b7e4-a648582bfb66",
   "metadata": {},
   "source": [
    "# Question 1"
   ]
  },
  {
   "cell_type": "markdown",
   "id": "2bd8d190-3c7d-4a3d-a201-e5e08123a959",
   "metadata": {},
   "source": [
    "Explain the following with an Example\n",
    "\n",
    "1) Artificial Intelligence\n",
    "\n",
    "2) Machine Learning\n",
    "\n",
    "3) Deep Learning"
   ]
  },
  {
   "cell_type": "code",
   "execution_count": 1,
   "id": "c3f3e07a-bffc-4d5d-9786-fec9a9ae96a4",
   "metadata": {},
   "outputs": [
    {
     "data": {
      "text/plain": [
       "'\\nDeep Learning is a specialized field within machine learning that involves neural networks with multiple layers (deep neural networks)\\n\\nExample : Image recognition, Object Ditections, Chartbox\\n'"
      ]
     },
     "execution_count": 1,
     "metadata": {},
     "output_type": "execute_result"
    }
   ],
   "source": [
    "\n",
    "# Artificial Intelligence :\n",
    "    \n",
    "'''\n",
    "Artificial Intelligence refers to the development of computer systems that can perform tasks without having any human intervention. \n",
    "\n",
    "Example : Siri, Alexa or Google Assistant\n",
    "'''\n",
    "# Machine Learning :\n",
    "\n",
    "'''\n",
    "Machine Learning is a subset of artificial intelligence that focuses on the development of algorithms and models \n",
    "that enable computers to learn from data. \n",
    "\n",
    "Example : Reccomendations of movies in Netflix, Recommendation of songs in spotify, Recommendations of videos in YouTube, etc\n",
    "'''\n",
    "# Deep Learning\n",
    "\n",
    "'''\n",
    "Deep Learning is a specialized field within machine learning that involves neural networks with multiple layers (deep neural networks)\n",
    "\n",
    "Example : Image recognition, Object Ditections, Chartbox\n",
    "'''"
   ]
  },
  {
   "cell_type": "code",
   "execution_count": null,
   "id": "fa1475e8-bb20-47d5-a2eb-9b0d2d77f512",
   "metadata": {},
   "outputs": [],
   "source": []
  },
  {
   "cell_type": "markdown",
   "id": "0a4b8994-3aaa-41c7-a133-da3b3c5ed4a5",
   "metadata": {},
   "source": [
    "# Question 2"
   ]
  },
  {
   "cell_type": "markdown",
   "id": "d7d6fc87-bbf2-4d52-b9e7-95587ac15089",
   "metadata": {},
   "source": [
    "What is supervised learning? List some examples of supervised learning."
   ]
  },
  {
   "cell_type": "code",
   "execution_count": 2,
   "id": "c0d89906-39ad-4b47-a140-85c6826c19cf",
   "metadata": {},
   "outputs": [
    {
     "data": {
      "text/plain": [
       "'\\nSupervised learning is a type of machine learning where the algorithm is trained on a labeled dataset, \\nmeaning that the input data is paired with corresponding output labels. \\n\\nSome supervised learning examples are \\n1. Email Spam Detection by Classification\\n2. House Price Prediction by Regression\\n3.  Handwritten Digit Recognition by Image Classification\\n4. Sentiment Analysis by Natural Language Processing\\n'"
      ]
     },
     "execution_count": 2,
     "metadata": {},
     "output_type": "execute_result"
    }
   ],
   "source": [
    "'''\n",
    "Supervised learning is a type of machine learning where the algorithm is trained on a labeled dataset, \n",
    "meaning that the input data is paired with corresponding output labels. \n",
    "\n",
    "Some supervised learning examples are \n",
    "1. Email Spam Detection by Classification\n",
    "2. House Price Prediction by Regression\n",
    "3.  Handwritten Digit Recognition by Image Classification\n",
    "4. Sentiment Analysis by Natural Language Processing\n",
    "'''"
   ]
  },
  {
   "cell_type": "code",
   "execution_count": null,
   "id": "15009ee0-6cd6-4145-ad4e-074a4eb346dc",
   "metadata": {},
   "outputs": [],
   "source": []
  },
  {
   "cell_type": "markdown",
   "id": "d30570f6-94e4-4832-a5c7-765e6137dc40",
   "metadata": {},
   "source": [
    "# Question 3"
   ]
  },
  {
   "cell_type": "markdown",
   "id": "f1375c21-0463-488e-a098-7983cee6df39",
   "metadata": {},
   "source": [
    "What is unsupervised learning? List some examples of unsupervised learning."
   ]
  },
  {
   "cell_type": "code",
   "execution_count": 4,
   "id": "de18f218-2c7f-4b3d-a3cf-0ee3893366bd",
   "metadata": {},
   "outputs": [
    {
     "data": {
      "text/plain": [
       "'\\nUnsupervised learning is a type of machine learning where the algorithm is provided with input data without explicit output labels.\\n\\nSome Unsupervised learning examples are \\n1. Customer Segmentation by Clustering\\n2. Principal Component Analysis by Dimensionality Reduction\\n3.  Fraud Detection by Anomaly Detection\\n4. Market Basket Analysis by Association Rule Learning\\n'"
      ]
     },
     "execution_count": 4,
     "metadata": {},
     "output_type": "execute_result"
    }
   ],
   "source": [
    "'''\n",
    "Unsupervised learning is a type of machine learning where the algorithm is provided with input data without explicit output labels.\n",
    "\n",
    "Some Unsupervised learning examples are \n",
    "1. Customer Segmentation by Clustering\n",
    "2. Principal Component Analysis by Dimensionality Reduction\n",
    "3.  Fraud Detection by Anomaly Detection\n",
    "4. Market Basket Analysis by Association Rule Learning\n",
    "'''"
   ]
  },
  {
   "cell_type": "code",
   "execution_count": null,
   "id": "7800f9c4-df62-4f63-8337-a994dfcc38e3",
   "metadata": {},
   "outputs": [],
   "source": []
  },
  {
   "cell_type": "markdown",
   "id": "5321b0a3-b365-4d2c-a28e-d30c49dd932d",
   "metadata": {},
   "source": [
    "# Question 4"
   ]
  },
  {
   "cell_type": "markdown",
   "id": "716a9522-86ad-4c31-b7fb-cffe3f45ae27",
   "metadata": {},
   "source": [
    "What is the difference between AI, ML, DL, and DS?"
   ]
  },
  {
   "cell_type": "code",
   "execution_count": 5,
   "id": "836565b2-ea67-45d2-9635-93462862bfc9",
   "metadata": {},
   "outputs": [
    {
     "data": {
      "text/plain": [
       "'\\n\\nAI (Artificial Intelligence) is a broad field aiming for intelligent machines. \\nML (Machine Learning) is a subset, enabling systems to learn from data. \\nDL (Deep Learning) involves neural networks for complex tasks. \\nDS (Data Science) combines stats and CS to extract insights from data, supporting AI and ML applications.\\n'"
      ]
     },
     "execution_count": 5,
     "metadata": {},
     "output_type": "execute_result"
    }
   ],
   "source": [
    "'''\n",
    "\n",
    "AI (Artificial Intelligence) is a broad field aiming for intelligent machines. \n",
    "ML (Machine Learning) is a subset, enabling systems to learn from data. \n",
    "DL (Deep Learning) involves neural networks for complex tasks. \n",
    "DS (Data Science) combines stats and CS to extract insights from data, supporting AI and ML applications.\n",
    "'''"
   ]
  },
  {
   "cell_type": "code",
   "execution_count": null,
   "id": "ae0fd364-37c3-4ab7-a200-a78529738974",
   "metadata": {},
   "outputs": [],
   "source": []
  },
  {
   "cell_type": "markdown",
   "id": "604315da-69cf-48f2-9c91-21f43fee2b69",
   "metadata": {},
   "source": [
    "# Question 5"
   ]
  },
  {
   "cell_type": "markdown",
   "id": "c0efab8e-3fa0-4deb-a580-e7b630b837e4",
   "metadata": {},
   "source": [
    "What are the main differences between supervised, unsupervised, and semi-supervised learning?"
   ]
  },
  {
   "cell_type": "code",
   "execution_count": 6,
   "id": "8d0cfe29-8c67-4404-93d0-f4e66f931cd7",
   "metadata": {},
   "outputs": [
    {
     "data": {
      "text/plain": [
       "'\\n\\nSupervised learning relies on labeled data for predicting outcomes, \\nwhile unsupervised learning explores patterns in unlabeled data. \\nSemi-supervised learning combines both, utilizing limited labeled data and additional unlabeled data. \\nSupervised learning is ideal for tasks with known outcomes, unsupervised learning for pattern discovery, \\nand semi-supervised learning bridges the gap when labeled data is scarce but valuable.\\n'"
      ]
     },
     "execution_count": 6,
     "metadata": {},
     "output_type": "execute_result"
    }
   ],
   "source": [
    "'''\n",
    "\n",
    "Supervised learning relies on labeled data for predicting outcomes, \n",
    "while unsupervised learning explores patterns in unlabeled data. \n",
    "Semi-supervised learning combines both, utilizing limited labeled data and additional unlabeled data. \n",
    "Supervised learning is ideal for tasks with known outcomes, \n",
    "unsupervised learning for pattern discovery, \n",
    "and semi-supervised learning bridges the gap when labeled data is scarce but valuable.\n",
    "'''"
   ]
  },
  {
   "cell_type": "code",
   "execution_count": null,
   "id": "b48df9e3-4d64-42fc-b96c-b8dae859a3f7",
   "metadata": {},
   "outputs": [],
   "source": []
  },
  {
   "cell_type": "markdown",
   "id": "249f7046-5778-4164-b7c3-5126623361c2",
   "metadata": {},
   "source": [
    "# Question 6"
   ]
  },
  {
   "cell_type": "markdown",
   "id": "ce8f4e3d-39c0-415c-841d-78eec36c10f2",
   "metadata": {},
   "source": [
    "What is train, test and validation split? Explain the importance of each term."
   ]
  },
  {
   "cell_type": "code",
   "execution_count": 7,
   "id": "e8faadc0-5bd3-4c13-a404-88ed8be3737b",
   "metadata": {},
   "outputs": [
    {
     "data": {
      "text/plain": [
       "'\\nIn machine learning, the dataset is often split into training, testing, and validation sets. \\nThe training set is used to train the model, the testing set evaluates its performance on unseen data, \\nand the validation set aids in hyperparameter tuning. \\nThis separation ensures the model generalizes well to new data, avoiding overfitting and providing a reliable assessment of its effectiveness.\\n'"
      ]
     },
     "execution_count": 7,
     "metadata": {},
     "output_type": "execute_result"
    }
   ],
   "source": [
    "'''\n",
    "In machine learning, the dataset is often split into training, testing, and validation sets. \n",
    "The training set is used to train the model, the testing set evaluates its performance on unseen data, \n",
    "and the validation set aids in hyperparameter tuning. \n",
    "This separation ensures the model generalizes well to new data, avoiding overfitting and providing a reliable assessment of its effectiveness.\n",
    "'''"
   ]
  },
  {
   "cell_type": "code",
   "execution_count": null,
   "id": "6b8f6000-de4f-48c8-810a-5ea9ce26f659",
   "metadata": {},
   "outputs": [],
   "source": []
  },
  {
   "cell_type": "markdown",
   "id": "46b3d008-1c17-41d0-bcc9-d56938a11ba5",
   "metadata": {},
   "source": [
    "# Question 7"
   ]
  },
  {
   "cell_type": "markdown",
   "id": "9d951949-436e-4f48-bbad-4c9ddc89651d",
   "metadata": {},
   "source": [
    "How can unsupervised learning be used in anomaly detection? "
   ]
  },
  {
   "cell_type": "code",
   "execution_count": 8,
   "id": "85fcb0fa-053f-445e-91bd-0bd20a173726",
   "metadata": {},
   "outputs": [
    {
     "data": {
      "text/plain": [
       "'\\nUnsupervised learning is effective in anomaly detection by learning patterns inherent in normal data without explicit labels. \\nAlgorithms identify deviations from these learned patterns as anomalies. \\nThis method is useful in various fields, such as cybersecurity, fraud detection, and industrial equipment monitoring,\\nwhere anomalies often indicate unusual or potentially problematic behavior not explicitly defined in the training data.\\n'"
      ]
     },
     "execution_count": 8,
     "metadata": {},
     "output_type": "execute_result"
    }
   ],
   "source": [
    "'''\n",
    "Unsupervised learning is effective in anomaly detection by learning patterns inherent in normal data without explicit labels. \n",
    "Algorithms identify deviations from these learned patterns as anomalies. \n",
    "This method is useful in various fields, such as cybersecurity, fraud detection, and industrial equipment monitoring,\n",
    "where anomalies often indicate unusual or potentially problematic behavior not explicitly defined in the training data.\n",
    "'''"
   ]
  },
  {
   "cell_type": "code",
   "execution_count": null,
   "id": "550d4edc-513d-4279-be95-95cb3a25575b",
   "metadata": {},
   "outputs": [],
   "source": []
  },
  {
   "cell_type": "markdown",
   "id": "8ace3410-5710-4c05-b001-602cb14c4291",
   "metadata": {},
   "source": [
    "# Question 8"
   ]
  },
  {
   "cell_type": "markdown",
   "id": "df53444e-b62b-4080-af08-09e8ce9c5263",
   "metadata": {},
   "source": [
    "List down some commonly used supervised learning algorithms and unsupervised learning\n",
    "algorithms."
   ]
  },
  {
   "cell_type": "code",
   "execution_count": null,
   "id": "1f72d20d-6b74-4d9e-8167-36a1fb6164e4",
   "metadata": {},
   "outputs": [],
   "source": [
    "# Supervised Learning Algorithms:\n",
    "'''\n",
    "1. Linear Regression\n",
    "2. Logistic Regression\n",
    "3. Decision Trees\n",
    "4. Random Forest\n",
    "5. Naive Bayes\n",
    "6. K-Nearest Neighbors (KNN)\n",
    "'''\n",
    "\n",
    "# Unsupervised Learning Algorithms:\n",
    "'''\n",
    "1. K-Means Clustering\n",
    "2. "
   ]
  }
 ],
 "metadata": {
  "kernelspec": {
   "display_name": "Python 3 (ipykernel)",
   "language": "python",
   "name": "python3"
  },
  "language_info": {
   "codemirror_mode": {
    "name": "ipython",
    "version": 3
   },
   "file_extension": ".py",
   "mimetype": "text/x-python",
   "name": "python",
   "nbconvert_exporter": "python",
   "pygments_lexer": "ipython3",
   "version": "3.10.8"
  }
 },
 "nbformat": 4,
 "nbformat_minor": 5
}
