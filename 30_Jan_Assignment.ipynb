{
 "cells": [
  {
   "cell_type": "markdown",
   "id": "7f858a40-1375-4621-8dbe-adfaeb6062c0",
   "metadata": {},
   "source": [
    "# Question 1"
   ]
  },
  {
   "cell_type": "markdown",
   "id": "f25440c3-d47a-4344-84b0-86c1d6301346",
   "metadata": {},
   "source": [
    "Write a program to accept percentage from the user and display the grade according to the following."
   ]
  },
  {
   "cell_type": "code",
   "execution_count": 3,
   "id": "c72bf95e-1d39-42ac-861c-708384ac3c70",
   "metadata": {},
   "outputs": [
    {
     "name": "stdin",
     "output_type": "stream",
     "text": [
      "Enter Percentage:  60\n"
     ]
    },
    {
     "name": "stdout",
     "output_type": "stream",
     "text": [
      "Your grade is: C\n"
     ]
    }
   ],
   "source": [
    "# Function to determine the grade based on percentage\n",
    "def calculate_grade(percentage):\n",
    "    if 90 < percentage :\n",
    "        return \"A\"\n",
    "    elif 80 < percentage <= 90:\n",
    "        return \"B\"\n",
    "    elif 60 <= percentage <= 80:\n",
    "        return \"C\"\n",
    "    elif percentage < 60 :\n",
    "        return \"D\"\n",
    "    else:\n",
    "        return \"Invalid Percentage\"\n",
    "\n",
    "# Accept percentage from the user\n",
    "grade = int(input(\"Enter Percentage: \"))\n",
    "\n",
    "result = calculate_grade(grade)\n",
    "\n",
    "print(f\"Your grade is: {result}\")"
   ]
  },
  {
   "cell_type": "code",
   "execution_count": null,
   "id": "b767965c-2393-4a4e-ac78-3bfe65c0e0a6",
   "metadata": {},
   "outputs": [],
   "source": []
  },
  {
   "cell_type": "markdown",
   "id": "59ad2613-8d61-4a4f-831d-99393b7c304d",
   "metadata": {},
   "source": [
    "# Question 2"
   ]
  },
  {
   "cell_type": "markdown",
   "id": "fae8e71b-9777-466d-891a-443d82655dd0",
   "metadata": {},
   "source": [
    "Write a program to accept the cost price of a bike and display the road tax to be paid according to the following criteria"
   ]
  },
  {
   "cell_type": "code",
   "execution_count": 5,
   "id": "2a80f065-0ded-4048-b3ee-f8040d6b1228",
   "metadata": {},
   "outputs": [
    {
     "name": "stdin",
     "output_type": "stream",
     "text": [
      "Enter the cost price of the bike (in Rs.):  50000\n"
     ]
    },
    {
     "name": "stdout",
     "output_type": "stream",
     "text": [
      "Road Tax to be paid: Rs. 2500.00\n"
     ]
    }
   ],
   "source": [
    "# Function to calculate road tax based on cost price\n",
    "def calculate_road_tax(cost_price):\n",
    "    if cost_price > 100000:\n",
    "        return 0.15 * cost_price\n",
    "    elif cost_price > 50000:\n",
    "        return 0.10 * cost_price\n",
    "    else:\n",
    "        return 0.05 * cost_price\n",
    "\n",
    "# Accept cost price from the user\n",
    "try:\n",
    "    cost_price = float(input(\"Enter the cost price of the bike (in Rs.): \"))\n",
    "    if cost_price >= 0:\n",
    "        # Calculate and display road tax\n",
    "        road_tax = calculate_road_tax(cost_price)\n",
    "        print(f\"Road Tax to be paid: Rs. {road_tax:.2f}\")\n",
    "    else:\n",
    "        print(\"Invalid cost price. Cost price should be a non-negative value.\")\n",
    "except ValueError:\n",
    "    print(\"Invalid input. Please enter a valid cost price.\")\n"
   ]
  },
  {
   "cell_type": "code",
   "execution_count": null,
   "id": "eda69fda-3d24-4baf-b3cc-e53a77fdfe0e",
   "metadata": {},
   "outputs": [],
   "source": []
  },
  {
   "cell_type": "markdown",
   "id": "bdbb5d7e-5b3a-4a12-9cc1-3b83dadfe39a",
   "metadata": {},
   "source": [
    "# Question 3"
   ]
  },
  {
   "cell_type": "markdown",
   "id": "af839eac-859d-4cf1-b808-ae178daac6a5",
   "metadata": {},
   "source": [
    "Accepts any city from the user and display monuments ofthat city"
   ]
  },
  {
   "cell_type": "code",
   "execution_count": 6,
   "id": "25f7f6ec-49bf-4c97-a982-6912a21c1728",
   "metadata": {},
   "outputs": [
    {
     "name": "stdin",
     "output_type": "stream",
     "text": [
      "Enter the city:  Agra\n"
     ]
    },
    {
     "name": "stdout",
     "output_type": "stream",
     "text": [
      "The monument in Agra is: Taj Mahal\n"
     ]
    }
   ],
   "source": [
    "# Function to get monument based on city\n",
    "def get_monument(city):\n",
    "    monuments = {\n",
    "        \"Delhi\": \"Red Fort\",\n",
    "        \"Agra\": \"Taj Mahal\",\n",
    "        \"Jaipur\": \"Raj Mahal\"\n",
    "    }\n",
    "\n",
    "    return monuments.get(city, \"Monument not found\")\n",
    "\n",
    "# Accept city from the user\n",
    "city = input(\"Enter the city: \")\n",
    "\n",
    "# Get and display the monument\n",
    "monument = get_monument(city)\n",
    "print(f\"The monument in {city} is: {monument}\")"
   ]
  },
  {
   "cell_type": "code",
   "execution_count": null,
   "id": "87e3eae7-551f-4680-8ebf-28ff9bbc909e",
   "metadata": {},
   "outputs": [],
   "source": []
  },
  {
   "cell_type": "markdown",
   "id": "d381dc3e-9aed-4cb4-a2cb-813710cb8346",
   "metadata": {},
   "source": [
    "# Question 4"
   ]
  },
  {
   "cell_type": "markdown",
   "id": "de0d3ab2-7a8d-4200-9312-5f565fb5a6f1",
   "metadata": {},
   "source": [
    "Check how many times a given number can be divided by 3 before it is less than or equal to 10"
   ]
  },
  {
   "cell_type": "code",
   "execution_count": 9,
   "id": "108a8d6e-80fc-42a5-af42-a61822388ace",
   "metadata": {},
   "outputs": [
    {
     "name": "stdin",
     "output_type": "stream",
     "text": [
      "Enter a number:  300\n"
     ]
    },
    {
     "name": "stdout",
     "output_type": "stream",
     "text": [
      "The given number can be divided by 3 4 times before it is less than or equal to 10.\n"
     ]
    }
   ],
   "source": [
    "# Function to count the number of divisions by 3\n",
    "def count_divisions(num):\n",
    "    count = 0\n",
    "\n",
    "    while num > 10:\n",
    "        num /= 3\n",
    "        count += 1\n",
    "\n",
    "    return count\n",
    "\n",
    "# Accept a number from the user\n",
    "try:\n",
    "    number = float(input(\"Enter a number: \"))\n",
    "    divisions = count_divisions(number)\n",
    "    print(f\"The given number can be divided by 3 {divisions} times before it is less than or equal to 10.\")\n",
    "except ValueError:\n",
    "    print(\"Invalid input. Please enter a valid number.\")\n"
   ]
  },
  {
   "cell_type": "code",
   "execution_count": null,
   "id": "f19a5c6e-aba1-43d1-b24b-938c094288dd",
   "metadata": {},
   "outputs": [],
   "source": []
  },
  {
   "cell_type": "markdown",
   "id": "a4cd983e-d370-4d65-afe8-c18387537fcb",
   "metadata": {},
   "source": [
    "# Question 5"
   ]
  },
  {
   "cell_type": "markdown",
   "id": "9dc489dc-d612-48a8-a57a-e54af510bcf7",
   "metadata": {},
   "source": [
    "Why and When to use while loop in python give a detailed description with example"
   ]
  },
  {
   "cell_type": "code",
   "execution_count": 11,
   "id": "8d2e46cc-142a-4295-ad84-1c41f4639d63",
   "metadata": {},
   "outputs": [
    {
     "data": {
      "text/plain": [
       "'A while loop in Python is used to repeatedly execute a block of code \\nas long as a certain condition is true. \\nIt allows to create a loop where the iteration depends on the satisfaction of a specific condition.'"
      ]
     },
     "execution_count": 11,
     "metadata": {},
     "output_type": "execute_result"
    }
   ],
   "source": [
    "\"\"\"A while loop in Python is used to repeatedly execute a block of code \n",
    "as long as a certain condition is true. \n",
    "It allows to create a loop where the iteration depends on the satisfaction of a specific condition.\"\"\"\n"
   ]
  },
  {
   "cell_type": "code",
   "execution_count": null,
   "id": "0d43751a-dacd-40dc-a6ba-516faef18130",
   "metadata": {},
   "outputs": [],
   "source": []
  },
  {
   "cell_type": "markdown",
   "id": "c77f0712-10a1-40cf-972c-ead368c4a127",
   "metadata": {},
   "source": [
    "# Question 6"
   ]
  },
  {
   "cell_type": "markdown",
   "id": "33ebbace-1165-40ce-9cad-ca3b7c35fc72",
   "metadata": {},
   "source": [
    "Use a nested while loop to print 3 different pattern"
   ]
  },
  {
   "cell_type": "code",
   "execution_count": 12,
   "id": "55690300-ae8e-4f7b-b4f4-380b274e1a80",
   "metadata": {},
   "outputs": [
    {
     "name": "stdout",
     "output_type": "stream",
     "text": [
      "Pattern 1: Square Pattern\n",
      "* * * * * \n",
      "* * * * * \n",
      "* * * * * \n",
      "* * * * * \n",
      "* * * * * \n",
      "\n",
      "Pattern 2: Right Triangle Pattern\n",
      "* \n",
      "* * \n",
      "* * * \n",
      "* * * * \n",
      "* * * * * \n",
      "\n",
      "Pattern 3: Inverted Right Triangle Pattern\n",
      "* * * * * \n",
      "* * * * \n",
      "* * * \n",
      "* * \n",
      "* \n"
     ]
    }
   ],
   "source": [
    "print(\"Pattern 1: Square Pattern\")\n",
    "row = 1\n",
    "while row <= 5:\n",
    "    col = 1\n",
    "    while col <= 5:\n",
    "        print(\"*\", end=\" \")\n",
    "        col += 1\n",
    "    print()\n",
    "    row += 1\n",
    "\n",
    "print()\n",
    "\n",
    "print(\"Pattern 2: Right Triangle Pattern\")\n",
    "row = 1\n",
    "while row <= 5:\n",
    "    col = 1\n",
    "    while col <= row:\n",
    "        print(\"*\", end=\" \")\n",
    "        col += 1\n",
    "    print()\n",
    "    row += 1\n",
    "\n",
    "print()\n",
    "\n",
    "print(\"Pattern 3: Inverted Right Triangle Pattern\")\n",
    "row = 5\n",
    "while row >= 1:\n",
    "    col = 1\n",
    "    while col <= row:\n",
    "        print(\"*\", end=\" \")\n",
    "        col += 1\n",
    "    print()\n",
    "    row -= 1\n"
   ]
  },
  {
   "cell_type": "code",
   "execution_count": null,
   "id": "84bdc9fe-ad1a-40ed-8f47-667891c62cac",
   "metadata": {},
   "outputs": [],
   "source": []
  },
  {
   "cell_type": "markdown",
   "id": "92075a15-662e-4476-af35-acafc259549b",
   "metadata": {},
   "source": [
    "# Question 7"
   ]
  },
  {
   "cell_type": "markdown",
   "id": "0a17d567-0983-4834-bcd5-3afbfafc54ee",
   "metadata": {},
   "source": [
    "Reverse a while loop to display numbers form 10 to 1 "
   ]
  },
  {
   "cell_type": "code",
   "execution_count": 13,
   "id": "fa2f60a3-f7c8-4e28-a725-30be81d49915",
   "metadata": {},
   "outputs": [
    {
     "name": "stdout",
     "output_type": "stream",
     "text": [
      "10 9 8 7 6 5 4 3 2 1 "
     ]
    }
   ],
   "source": [
    "# Reverse While Loop to Display Numbers from 10 to 1\n",
    "number = 10\n",
    "while number >= 1:\n",
    "    print(number, end=\" \")\n",
    "    number -= 1\n"
   ]
  },
  {
   "cell_type": "code",
   "execution_count": null,
   "id": "82fdfc34-76d2-43fb-aeec-8355cdfa7354",
   "metadata": {},
   "outputs": [],
   "source": []
  },
  {
   "cell_type": "markdown",
   "id": "a8fbf16a-e0ca-4f87-bed5-3bf9b07ac248",
   "metadata": {},
   "source": [
    "# Question 8"
   ]
  },
  {
   "cell_type": "markdown",
   "id": "4dda64eb-dd50-4ad8-87f9-a1bea8609693",
   "metadata": {},
   "source": [
    "Reverse a while loop to display numbers from 10 to 1"
   ]
  },
  {
   "cell_type": "code",
   "execution_count": 15,
   "id": "50a55b9e-2746-4912-87bb-bcab6be75191",
   "metadata": {},
   "outputs": [
    {
     "name": "stdout",
     "output_type": "stream",
     "text": [
      "10 9 8 7 6 5 4 3 2 1 "
     ]
    }
   ],
   "source": [
    "# Reverse While Loop to Display Numbers from 10 to 1\n",
    "number = 10\n",
    "while number >= 1:\n",
    "    print(number, end=\" \")\n",
    "    number -= 1\n"
   ]
  },
  {
   "cell_type": "code",
   "execution_count": null,
   "id": "cdf272dd-acb2-4290-908b-88e38cb2b1ba",
   "metadata": {},
   "outputs": [],
   "source": []
  }
 ],
 "metadata": {
  "kernelspec": {
   "display_name": "Python 3 (ipykernel)",
   "language": "python",
   "name": "python3"
  },
  "language_info": {
   "codemirror_mode": {
    "name": "ipython",
    "version": 3
   },
   "file_extension": ".py",
   "mimetype": "text/x-python",
   "name": "python",
   "nbconvert_exporter": "python",
   "pygments_lexer": "ipython3",
   "version": "3.10.8"
  }
 },
 "nbformat": 4,
 "nbformat_minor": 5
}
