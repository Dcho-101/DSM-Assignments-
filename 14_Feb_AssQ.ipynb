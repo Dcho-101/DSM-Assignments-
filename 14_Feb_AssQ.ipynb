{
 "cells": [
  {
   "cell_type": "markdown",
   "id": "e90cefee-9a9c-44df-a17c-dd3b7a6f31df",
   "metadata": {},
   "source": [
    "# Question 1"
   ]
  },
  {
   "cell_type": "markdown",
   "id": "ccbedd5a-c4b3-4a4f-be40-11686043615e",
   "metadata": {},
   "source": [
    "What is multithreading in python? Why is it used? Name the module used to handle threads in python."
   ]
  },
  {
   "cell_type": "code",
   "execution_count": 2,
   "id": "145c6972-d201-4288-b9f4-c8bd85b963a6",
   "metadata": {},
   "outputs": [
    {
     "data": {
      "text/plain": [
       "'\\nMultithreading is defined as the ability of a processor to execute multiple threads concurrently\\n\\nMultithreding is used to  \\n1. To improve performance\\n2. To improve responsiveness\\n3. To simplify code\\n\\n\\nthreading module is used to handle threads in python\\n\\n'"
      ]
     },
     "execution_count": 2,
     "metadata": {},
     "output_type": "execute_result"
    }
   ],
   "source": [
    "'''\n",
    "Multithreading is defined as the ability of a processor to execute multiple threads concurrently\n",
    "\n",
    "Multithreding is used to  \n",
    "1. To improve performance\n",
    "2. To improve responsiveness\n",
    "3. To simplify code\n",
    "\n",
    "\n",
    "threading module is used to handle threads in python\n",
    "\n",
    "'''"
   ]
  },
  {
   "cell_type": "code",
   "execution_count": null,
   "id": "7367629c-70b3-4959-b724-42328a818c1e",
   "metadata": {},
   "outputs": [],
   "source": []
  },
  {
   "cell_type": "markdown",
   "id": "eef12272-dcaf-4b43-95b9-14152851acff",
   "metadata": {},
   "source": [
    "# Question 2"
   ]
  },
  {
   "cell_type": "markdown",
   "id": "51fa7d91-698a-4c4b-bcad-db6151000619",
   "metadata": {},
   "source": [
    "Why threading module used? Write the use of the following functions\n",
    "\n",
    "1. activeCount()\n",
    "2. currentThread()\n",
    "3. enumerate()"
   ]
  },
  {
   "cell_type": "code",
   "execution_count": 3,
   "id": "bbab51c1-6d30-4ec0-b8a3-01d550a6f425",
   "metadata": {},
   "outputs": [
    {
     "data": {
      "text/plain": [
       "'\\nReturns a list of all active thread objects in the current process.\\nProvides insight into all threads running, enabling their management and coordination.\\n'"
      ]
     },
     "execution_count": 3,
     "metadata": {},
     "output_type": "execute_result"
    }
   ],
   "source": [
    "'''\n",
    "threading module is used to :\n",
    "Manages multiple threads within a single process\n",
    "Improves responsiveness and resource utilization\n",
    "'''\n",
    "\n",
    "# 1. activeCount()\n",
    "'''\n",
    "Returns the total number of active thread objects currently running.\n",
    "Helps you monitor and track thread activity in your application.\n",
    "'''\n",
    "\n",
    "# 2. currentThread()\n",
    "'''\n",
    "Returns the thread object representing the currently executing thread.\n",
    "Useful for identifying the thread you're working within, accessing its attributes, and performing thread-specific operations.\n",
    "'''\n",
    "\n",
    "# 3. enumerate()\n",
    "'''\n",
    "Returns a list of all active thread objects in the current process.\n",
    "Provides insight into all threads running, enabling their management and coordination.\n",
    "'''"
   ]
  },
  {
   "cell_type": "code",
   "execution_count": null,
   "id": "357ed111-1367-4b26-9bd3-a3bf722b3eba",
   "metadata": {},
   "outputs": [],
   "source": []
  },
  {
   "cell_type": "markdown",
   "id": "cf732584-63c8-40a3-8992-fead56ae7b3c",
   "metadata": {},
   "source": [
    "# Question 3"
   ]
  },
  {
   "cell_type": "markdown",
   "id": "f4289cec-3715-455c-bf10-dee123bdb08e",
   "metadata": {},
   "source": [
    "Explain the following functions\n",
    "\n",
    "1.  run()\n",
    "2. start()\n",
    " 3. join()"
   ]
  },
  {
   "cell_type": "code",
   "execution_count": 4,
   "id": "df877918-1c9d-467d-879a-1dd8ff3f6db4",
   "metadata": {},
   "outputs": [
    {
     "data": {
      "text/plain": [
       "'\\nBlocks the calling thread until the specified thread terminates.\\nUseful for coordinating thread execution and ensuring tasks are completed in a specific order.\\nCan optionally take a timeout argument to limit the waiting time.\\n'"
      ]
     },
     "execution_count": 4,
     "metadata": {},
     "output_type": "execute_result"
    }
   ],
   "source": [
    "# 1. run():\n",
    "'''\n",
    "The entry point for a thread's logic.\n",
    "Contains the code that the thread will execute when started.\n",
    "'''\n",
    "\n",
    "# 2. start()\n",
    "'''\n",
    "Initiates the thread's execution.\n",
    "Must be called to activate a thread object.\n",
    "'''\n",
    "\n",
    "# 3. join():\n",
    "'''\n",
    "Blocks the calling thread until the specified thread terminates.\n",
    "Useful for coordinating thread execution and ensuring tasks are completed in a specific order.\n",
    "Can optionally take a timeout argument to limit the waiting time.\n",
    "'''"
   ]
  },
  {
   "cell_type": "code",
   "execution_count": null,
   "id": "9bc82db8-2e07-4d14-a7d9-e3779bc83cb2",
   "metadata": {},
   "outputs": [],
   "source": []
  },
  {
   "cell_type": "markdown",
   "id": "d06e167c-d56f-4b7d-8bf0-9251a5205738",
   "metadata": {},
   "source": [
    "# Question 4"
   ]
  },
  {
   "cell_type": "markdown",
   "id": "df637676-f5b0-4b56-a9ab-fdd29a70a1ae",
   "metadata": {},
   "source": [
    "Write a python program to create two threads. Thread one must print the list of squares and thread\n",
    "two must print the list of cubes"
   ]
  },
  {
   "cell_type": "code",
   "execution_count": 5,
   "id": "31971caf-224b-4728-9064-8e549482f92c",
   "metadata": {},
   "outputs": [
    {
     "name": "stdout",
     "output_type": "stream",
     "text": [
      "Square of 1 = 1\n",
      "Cube of 1 = 1\n",
      "Square of 2 = 4\n",
      "Cube of 2 = 8\n",
      "Square of 3 = 9Cube of 3 = 27\n",
      "\n",
      "Square of 4 = 16Cube of 4 = 64\n",
      "\n",
      "Square of 5 = 25Cube of 5 = 125\n",
      "\n",
      "All threads completed\n"
     ]
    }
   ],
   "source": [
    "import threading\n",
    "import time\n",
    "\n",
    "def squares():\n",
    "    for i in range(1, 6):\n",
    "        print(f\"Square of {i} = {i**2}\")\n",
    "        time.sleep(1)  # Simulate some processing time\n",
    "\n",
    "def cubes():\n",
    "    for i in range(1, 6):\n",
    "        print(f\"Cube of {i} = {i**3}\")\n",
    "        time.sleep(1)  # Simulate some processing time\n",
    "\n",
    "# Create and start the threads\n",
    "thread1 = threading.Thread(target=squares)\n",
    "thread2 = threading.Thread(target=cubes)\n",
    "\n",
    "thread1.start()\n",
    "thread2.start()\n",
    "\n",
    "# Wait for both threads to finish\n",
    "thread1.join()\n",
    "thread2.join()\n",
    "\n",
    "print(\"All threads completed\")"
   ]
  },
  {
   "cell_type": "code",
   "execution_count": null,
   "id": "c027ec5a-acf1-40a6-96b5-26c5904d5d79",
   "metadata": {},
   "outputs": [],
   "source": []
  },
  {
   "cell_type": "markdown",
   "id": "bab82474-fd02-4574-8a26-c65134a5d27b",
   "metadata": {},
   "source": [
    "# Question 5"
   ]
  },
  {
   "cell_type": "markdown",
   "id": "7b4150c5-fb8d-4aff-8c0a-1dca322d5693",
   "metadata": {},
   "source": [
    "State advantages and disadvantages of multithreading."
   ]
  },
  {
   "cell_type": "code",
   "execution_count": 6,
   "id": "eb74eb8c-683a-47ba-aa47-6b58f406895a",
   "metadata": {},
   "outputs": [
    {
     "data": {
      "text/plain": [
       "'\\n1. Increased complexity\\n2. Overhead\\n3. Synchronization issues\\n4. Debugging challenges\\n'"
      ]
     },
     "execution_count": 6,
     "metadata": {},
     "output_type": "execute_result"
    }
   ],
   "source": [
    "# Advantages of Multithreading:\n",
    "'''\n",
    "1. Improved Performance\n",
    "2. Enhanced Responsiveness\n",
    "3. Better resource utilization\n",
    "4. Simplified coding\n",
    "5. Asynchronous tasks\n",
    "'''\n",
    "\n",
    "# Disadvantages of Multithreading:\n",
    "'''\n",
    "1. Increased complexity\n",
    "2. Overhead\n",
    "3. Synchronization issues\n",
    "4. Debugging challenges\n",
    "'''"
   ]
  },
  {
   "cell_type": "code",
   "execution_count": null,
   "id": "22cc4b70-9419-42ac-b320-d3bcf5861769",
   "metadata": {},
   "outputs": [],
   "source": []
  },
  {
   "cell_type": "markdown",
   "id": "85b3c8e6-292f-4ec8-99b6-37564cfb6df0",
   "metadata": {},
   "source": [
    "# Question 6 "
   ]
  },
  {
   "cell_type": "markdown",
   "id": "ab451217-afc7-4e89-a3be-9ee69407247b",
   "metadata": {},
   "source": [
    "Explain deadlocks and race conditions"
   ]
  },
  {
   "cell_type": "code",
   "execution_count": null,
   "id": "6895b18a-da90-4273-9bfa-c2986ab0e8a0",
   "metadata": {},
   "outputs": [],
   "source": [
    "# Deadlock:\n",
    "\n",
    "'''\n",
    "a deadlock in multithreading occurs when two or more threads are each waiting for a resource held by the other. \n",
    "They wait indefinitely, never releasing their held resources and blocking each other."
   ]
  }
 ],
 "metadata": {
  "kernelspec": {
   "display_name": "Python 3 (ipykernel)",
   "language": "python",
   "name": "python3"
  },
  "language_info": {
   "codemirror_mode": {
    "name": "ipython",
    "version": 3
   },
   "file_extension": ".py",
   "mimetype": "text/x-python",
   "name": "python",
   "nbconvert_exporter": "python",
   "pygments_lexer": "ipython3",
   "version": "3.10.8"
  }
 },
 "nbformat": 4,
 "nbformat_minor": 5
}
