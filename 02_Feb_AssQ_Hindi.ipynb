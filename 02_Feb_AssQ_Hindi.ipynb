{
 "cells": [
  {
   "cell_type": "markdown",
   "id": "48501d6b-09cb-4873-8c39-4e0d92037c0d",
   "metadata": {},
   "source": [
    "# Question 1"
   ]
  },
  {
   "cell_type": "markdown",
   "id": "6846f08f-f6bf-403b-8646-72d9411a3a22",
   "metadata": {},
   "source": [
    "Explain with an example each when to use a for loop and a while loop."
   ]
  },
  {
   "cell_type": "code",
   "execution_count": 2,
   "id": "b1c886ad-2d99-4f25-b288-f7015ecbaf9f",
   "metadata": {},
   "outputs": [
    {
     "name": "stdout",
     "output_type": "stream",
     "text": [
      "for loop printing\n",
      "0\n",
      "1\n",
      "2\n",
      "3\n",
      "4\n",
      "while loop printing\n",
      "1\n",
      "2\n",
      "3\n",
      "4\n"
     ]
    }
   ],
   "source": [
    "''' for loop can be used when number of iteration are known. and it will iterate automatically without any condition \n",
    "for example'''\n",
    "\n",
    "print(\"for loop printing\")\n",
    "\n",
    "for i in range(5) :\n",
    "    print(i)\n",
    "    \n",
    "''' while loop can be used when number of iteration are unknown and it needs condition always'''\n",
    "\n",
    "print(\"while loop printing\")\n",
    "\n",
    "n = 5\n",
    "a = 1\n",
    "while a < n :\n",
    "    print(a)\n",
    "    a = a+1"
   ]
  },
  {
   "cell_type": "code",
   "execution_count": null,
   "id": "859a13d1-827f-453f-8a0d-0f0a49ac02f2",
   "metadata": {},
   "outputs": [],
   "source": []
  },
  {
   "cell_type": "markdown",
   "id": "be35b400-fd38-43f7-abd2-be7b1a97b277",
   "metadata": {},
   "source": [
    "# Question 2"
   ]
  },
  {
   "cell_type": "markdown",
   "id": "bc86aace-cf04-405d-8f2e-04aa9de672a8",
   "metadata": {},
   "source": [
    "Write a python program to print the sum and product of the first 10 natural numbers using for and while loop."
   ]
  },
  {
   "cell_type": "code",
   "execution_count": 5,
   "id": "ac748813-b3a4-4cee-9902-e8f7c2f48401",
   "metadata": {},
   "outputs": [
    {
     "name": "stdout",
     "output_type": "stream",
     "text": [
      "Using for loop:\n",
      "Sum of the first 10 natural numbers: 55\n",
      "Product of the first 10 natural numbers: 3628800\n",
      "\n",
      "Using while loop:\n",
      "Sum of the first 10 natural numbers: 55\n",
      "Product of the first 10 natural numbers: 3628800\n"
     ]
    }
   ],
   "source": [
    "# using for loop\n",
    "sum_of_numbers = 0\n",
    "product_of_numbers = 1\n",
    "for i in range(1,11) :\n",
    "    sum_of_numbers = sum_of_numbers + i\n",
    "    product_of_numbers = product_of_numbers * i\n",
    "    \n",
    "print(\"Using for loop:\")\n",
    "print(\"Sum of the first 10 natural numbers:\", sum_of_numbers)\n",
    "print(\"Product of the first 10 natural numbers:\", product_of_numbers)\n",
    "print()\n",
    "\n",
    "\n",
    "# using while loop\n",
    "\n",
    "num = 1\n",
    "sum_of_numbers_in_while = 0\n",
    "product_of_numbers_in_while = 1\n",
    "\n",
    "while num <= 10:\n",
    "    sum_of_numbers_in_while += num\n",
    "    product_of_numbers_in_while *= num\n",
    "    num += 1\n",
    "    \n",
    "print(\"Using while loop:\")\n",
    "print(\"Sum of the first 10 natural numbers:\", sum_of_numbers_in_while)\n",
    "print(\"Product of the first 10 natural numbers:\", product_of_numbers_in_while)"
   ]
  },
  {
   "cell_type": "code",
   "execution_count": null,
   "id": "ad720e88-968c-4bc3-8219-82ac1f58f112",
   "metadata": {},
   "outputs": [],
   "source": []
  },
  {
   "cell_type": "markdown",
   "id": "2d2d15e5-721c-4eb3-a9bb-134cbdb210e2",
   "metadata": {},
   "source": [
    "# Question 3"
   ]
  },
  {
   "cell_type": "markdown",
   "id": "e23da59b-fc30-4976-92b3-a975714b44f1",
   "metadata": {},
   "source": [
    "Q3. Create a python program to compute the electricity bill for a household."
   ]
  },
  {
   "cell_type": "markdown",
   "id": "f15ffe94-cacf-46ec-b108-e7f350669086",
   "metadata": {},
   "source": [
    "The per-unit charges in rupees are as follows: For the first 100 units, the user will be charged Rs. 4.5 per\n",
    "unit, for the next 100 units, the user will be charged Rs. 6 per unit, and for the next 100 units, the user will\n",
    "be charged Rs. 10 per unit, After 300 units and above the user will be charged Rs. 20 per unit."
   ]
  },
  {
   "cell_type": "code",
   "execution_count": 7,
   "id": "426a96c1-2a27-4b30-a7da-42a0ffe82f4d",
   "metadata": {},
   "outputs": [
    {
     "name": "stdin",
     "output_type": "stream",
     "text": [
      "Enter the number of units consumed:  310\n"
     ]
    },
    {
     "name": "stdout",
     "output_type": "stream",
     "text": [
      "The electricity bill for 310 units is Rs. 2250.00\n"
     ]
    }
   ],
   "source": [
    "# Function to compute electricity bill\n",
    "def electricity_bill(units):\n",
    "    if units <= 100:\n",
    "        # For the first 100 units\n",
    "        charge = units * 4.5\n",
    "    elif units <= 200:\n",
    "        # For the next 100 units\n",
    "        charge = 100 * 4.5 + (units - 100) * 6\n",
    "    elif units <= 300:\n",
    "        # For the next 100 units\n",
    "        charge = 100 * 4.5 + 100 * 6 + (units - 200) * 10\n",
    "    else:\n",
    "        # For 300 units and above\n",
    "        charge = 100 * 4.5 + 100 * 6 + 100 * 10 + (units - 300) * 20\n",
    "\n",
    "    return charge\n",
    "\n",
    "# Input: Number of units consumed by the household\n",
    "units_consumed = int(input(\"Enter the number of units consumed: \"))\n",
    "\n",
    "# Calculate the electricity bill\n",
    "total_bill = electricity_bill(units_consumed)\n",
    "\n",
    "# Display the result\n",
    "print(f\"The electricity bill for {units_consumed} units is Rs. {total_bill:.2f}\")\n"
   ]
  },
  {
   "cell_type": "code",
   "execution_count": null,
   "id": "c024a017-d066-4d82-8c65-26c7f30603ba",
   "metadata": {},
   "outputs": [],
   "source": []
  },
  {
   "cell_type": "markdown",
   "id": "b6d04d99-9175-4d15-a687-243e39f24671",
   "metadata": {},
   "source": [
    "# Question 4"
   ]
  },
  {
   "cell_type": "markdown",
   "id": "8a544b7d-5a08-4ce3-9e65-cec4529fa495",
   "metadata": {},
   "source": [
    "Create a list of numbers from 1 to 100. Use for loop and while loop to calculate the cube of each\n",
    "number and if the cube of that number is divisible by 4 or 5 then append that number in a list and print\n",
    "that list."
   ]
  },
  {
   "cell_type": "code",
   "execution_count": 8,
   "id": "04addb37-b371-443f-985f-6c50f27a2f4c",
   "metadata": {},
   "outputs": [
    {
     "name": "stdout",
     "output_type": "stream",
     "text": [
      "Using for loop:\n",
      "Numbers whose cube is divisible by 4 or 5: [2, 4, 5, 6, 8, 10, 12, 14, 15, 16, 18, 20, 22, 24, 25, 26, 28, 30, 32, 34, 35, 36, 38, 40, 42, 44, 45, 46, 48, 50, 52, 54, 55, 56, 58, 60, 62, 64, 65, 66, 68, 70, 72, 74, 75, 76, 78, 80, 82, 84, 85, 86, 88, 90, 92, 94, 95, 96, 98, 100]\n",
      "\n",
      "Using while loop:\n",
      "Numbers whose cube is divisible by 4 or 5: [2, 4, 5, 6, 8, 10, 12, 14, 15, 16, 18, 20, 22, 24, 25, 26, 28, 30, 32, 34, 35, 36, 38, 40, 42, 44, 45, 46, 48, 50, 52, 54, 55, 56, 58, 60, 62, 64, 65, 66, 68, 70, 72, 74, 75, 76, 78, 80, 82, 84, 85, 86, 88, 90, 92, 94, 95, 96, 98, 100]\n"
     ]
    }
   ],
   "source": [
    "# Using a for loop\n",
    "cubes_divisible_by_4_or_5_for = []\n",
    "for num in range(1, 101):\n",
    "    cube = num ** 3\n",
    "    if cube % 4 == 0 or cube % 5 == 0:\n",
    "        cubes_divisible_by_4_or_5_for.append(num)\n",
    "\n",
    "print(\"Using for loop:\")\n",
    "print(\"Numbers whose cube is divisible by 4 or 5:\", cubes_divisible_by_4_or_5_for)\n",
    "print()\n",
    "\n",
    "# Using a while loop\n",
    "cubes_divisible_by_4_or_5_while = []\n",
    "num = 1\n",
    "while num <= 100:\n",
    "    cube = num ** 3\n",
    "    if cube % 4 == 0 or cube % 5 == 0:\n",
    "        cubes_divisible_by_4_or_5_while.append(num)\n",
    "    num += 1\n",
    "\n",
    "print(\"Using while loop:\")\n",
    "print(\"Numbers whose cube is divisible by 4 or 5:\", cubes_divisible_by_4_or_5_while)\n"
   ]
  },
  {
   "cell_type": "code",
   "execution_count": null,
   "id": "910b0e05-8757-4716-b610-87705fb028bf",
   "metadata": {},
   "outputs": [],
   "source": []
  },
  {
   "cell_type": "markdown",
   "id": "b2c34175-5f62-4ce0-8b54-2df6a7bd66b3",
   "metadata": {},
   "source": [
    "# Question 5"
   ]
  },
  {
   "cell_type": "markdown",
   "id": "9c3a63bd-4254-4396-be99-0ab12c494e82",
   "metadata": {},
   "source": [
    "Write a program to filter count vowels in the below-given string.\n",
    "string = \"I want to become a data scientist\""
   ]
  },
  {
   "cell_type": "code",
   "execution_count": 9,
   "id": "3ba00515-ba22-4c6c-a24a-1933f3584740",
   "metadata": {},
   "outputs": [
    {
     "name": "stdout",
     "output_type": "stream",
     "text": [
      "The number of vowels in the string is: 12\n"
     ]
    }
   ],
   "source": [
    "# Given string\n",
    "string = \"I want to become a data scientist\"\n",
    "\n",
    "# Function to count vowels\n",
    "def count_vowels(input_string):\n",
    "    vowels = \"aeiouAEIOU\"\n",
    "    count = 0\n",
    "    for char in input_string:\n",
    "        if char in vowels:\n",
    "            count += 1\n",
    "    return count\n",
    "\n",
    "# Count vowels in the given string\n",
    "vowel_count = count_vowels(string)\n",
    "\n",
    "# Display the result\n",
    "print(f\"The number of vowels in the string is: {vowel_count}\")\n"
   ]
  },
  {
   "cell_type": "code",
   "execution_count": null,
   "id": "259dddc1-e61a-43fd-aee4-7c782e15d88b",
   "metadata": {},
   "outputs": [],
   "source": []
  }
 ],
 "metadata": {
  "kernelspec": {
   "display_name": "Python 3 (ipykernel)",
   "language": "python",
   "name": "python3"
  },
  "language_info": {
   "codemirror_mode": {
    "name": "ipython",
    "version": 3
   },
   "file_extension": ".py",
   "mimetype": "text/x-python",
   "name": "python",
   "nbconvert_exporter": "python",
   "pygments_lexer": "ipython3",
   "version": "3.10.8"
  }
 },
 "nbformat": 4,
 "nbformat_minor": 5
}
