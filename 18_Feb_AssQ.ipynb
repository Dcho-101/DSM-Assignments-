{
 "cells": [
  {
   "cell_type": "markdown",
   "id": "ea62bd05-fe2e-4403-8041-68199f30b906",
   "metadata": {},
   "source": [
    "# Question 1"
   ]
  },
  {
   "cell_type": "markdown",
   "id": "91eeae4c-a020-4103-9c3a-6f009efe6776",
   "metadata": {},
   "source": [
    "What is an API? Give an example, where an API is used in real life."
   ]
  },
  {
   "cell_type": "code",
   "execution_count": 1,
   "id": "17fc0220-4d5e-4a90-8ebb-88c923d31656",
   "metadata": {},
   "outputs": [
    {
     "data": {
      "text/plain": [
       "'\\nWeather API\\n\\nPayments apps like phonepay, Gpay'"
      ]
     },
     "execution_count": 1,
     "metadata": {},
     "output_type": "execute_result"
    }
   ],
   "source": [
    "'''An API, or Application Programming Interface, is a set of rules and tools \n",
    "that allows different software applications to communicate with each other. \n",
    "It defines the methods and data formats that applications can use to request and exchange information.'''\n",
    "\n",
    "\n",
    "# Usage of API in real life\n",
    "\n",
    "'''\n",
    "Weather API\n",
    "\n",
    "Payments apps like phonepay, Gpay'''"
   ]
  },
  {
   "cell_type": "code",
   "execution_count": null,
   "id": "308d78d4-9652-4cb0-90f1-8356c4741992",
   "metadata": {},
   "outputs": [],
   "source": []
  },
  {
   "cell_type": "markdown",
   "id": "7ce7943e-fda7-447e-a387-9602234d8861",
   "metadata": {},
   "source": [
    "# Question 2"
   ]
  },
  {
   "cell_type": "markdown",
   "id": "e34f4e66-7104-4bef-ad72-97812fc477dc",
   "metadata": {},
   "source": [
    "Give advantages and disadvantages of using API"
   ]
  },
  {
   "cell_type": "code",
   "execution_count": 3,
   "id": "4ea37f7a-c94a-414f-8078-5bd9e4bb17a1",
   "metadata": {},
   "outputs": [
    {
     "data": {
      "text/plain": [
       "'\\n1.  If the API provider experiences downtime or makes changes, it can impact the functionality of the dependent application.\\n\\n2. APIs can be vulnerable to security threats, such as unauthorized access, data breaches, and injection attacks. \\n\\n3. Changes made by the API provider, such as modifications to data structures or endpoints, may require adjustments in the consuming application.\\n\\n4. APIs often involve the exchange of data between systems. Ensuring the privacy and proper handling of sensitive data becomes critical, and any mishandling can lead to data breaches and privacy issues.\\n'"
      ]
     },
     "execution_count": 3,
     "metadata": {},
     "output_type": "execute_result"
    }
   ],
   "source": [
    "# Advantages\n",
    "'''\n",
    "1. APIs enable different software systems to communicate and work together.\n",
    "\n",
    "2. APIs provide pre-built functionalities that developers can leverage, saving time and effort.\n",
    "\n",
    "3. APIs encourage innovation by allowing third-party developers to build on top of existing platforms. \n",
    "\n",
    "4. By leveraging APIs, developers can access specialized services and features that enhance the overall user experience of an application. \n",
    "'''\n",
    "\n",
    "\n",
    "# Disatvantages\n",
    "\n",
    "'''\n",
    "1.  If the API provider experiences downtime or makes changes, it can impact the functionality of the dependent application.\n",
    "\n",
    "2. APIs can be vulnerable to security threats, such as unauthorized access, data breaches, and injection attacks. \n",
    "\n",
    "3. Changes made by the API provider, such as modifications to data structures or endpoints, may require adjustments in the consuming application.\n",
    "\n",
    "4. APIs often involve the exchange of data between systems. Ensuring the privacy and proper handling of sensitive data becomes critical, and any mishandling can lead to data breaches and privacy issues.\n",
    "'''"
   ]
  },
  {
   "cell_type": "code",
   "execution_count": null,
   "id": "fb266f7f-a57c-4d18-abb5-fc20922b08fa",
   "metadata": {},
   "outputs": [],
   "source": []
  },
  {
   "cell_type": "markdown",
   "id": "25ab15f3-51fc-46b1-8ba2-cdebe6c4e7fe",
   "metadata": {},
   "source": [
    "# Question 3"
   ]
  },
  {
   "cell_type": "markdown",
   "id": "f8942534-e4c2-4268-b1fb-982d364ce112",
   "metadata": {},
   "source": [
    "What is a Web API? Differentiate between API and Web API"
   ]
  },
  {
   "cell_type": "code",
   "execution_count": 5,
   "id": "01306a9b-e62f-4364-90b1-1f678e06e779",
   "metadata": {},
   "outputs": [
    {
     "data": {
      "text/plain": [
       "'\\nThe term \"API\" is a broad concept that encompasses various types of interfaces used for communication between software components. \\nThis includes APIs used in libraries, operating systems, databases, and more.\\nOn the Other hand, Web API specifically refers to APIs designed for web-based communication over the internet.\\n\\nAPIs can use different protocols for communication, including but not limited to HTTP, TCP/IP, and others. \\nBut Web APIs typically use standard web protocols, such as HTTP, making them accessible over the web.\\n\\nAPIs can facilitate communication between components within the same system or between different systems, \\nregardless of whether the communication is over the web. \\nBut Web APIs specifically focus on facilitating communication over the web, often between a server and a client.\\n'"
      ]
     },
     "execution_count": 5,
     "metadata": {},
     "output_type": "execute_result"
    }
   ],
   "source": [
    "# Web API:\n",
    "\n",
    "'''\n",
    "API that is designed to be accessed over the web using standard protocols such as HTTP (Hypertext Transfer Protocol) is called web API.\n",
    "'''\n",
    "\n",
    "# Differences between API and Web API:\n",
    "'''\n",
    "The term \"API\" is a broad concept that encompasses various types of interfaces used for communication between software components. \n",
    "This includes APIs used in libraries, operating systems, databases, and more.\n",
    "On the Other hand, Web API specifically refers to APIs designed for web-based communication over the internet.\n",
    "\n",
    "APIs can use different protocols for communication, including but not limited to HTTP, TCP/IP, and others. \n",
    "But Web APIs typically use standard web protocols, such as HTTP, making them accessible over the web.\n",
    "\n",
    "APIs can facilitate communication between components within the same system or between different systems, \n",
    "regardless of whether the communication is over the web. \n",
    "But Web APIs specifically focus on facilitating communication over the web, often between a server and a client.\n",
    "'''"
   ]
  },
  {
   "cell_type": "code",
   "execution_count": null,
   "id": "0581ab8a-8f08-4391-b8ba-98d82449593e",
   "metadata": {},
   "outputs": [],
   "source": []
  },
  {
   "cell_type": "markdown",
   "id": "4024bc05-8c5b-4f73-8706-8aa836495962",
   "metadata": {},
   "source": [
    "# Question 4"
   ]
  },
  {
   "cell_type": "markdown",
   "id": "4f7fe389-bf20-4e7a-9c21-6e576a88768f",
   "metadata": {},
   "source": [
    "Explain REST and SOAP Architecture. Mention shortcomings of SOAP"
   ]
  },
  {
   "cell_type": "code",
   "execution_count": 7,
   "id": "8751a874-3143-4fa8-8ea9-abbeaed1d38e",
   "metadata": {},
   "outputs": [
    {
     "data": {
      "text/plain": [
       "'\\nComplexity, Limited Browser Support, Performance Issues\\n'"
      ]
     },
     "execution_count": 7,
     "metadata": {},
     "output_type": "execute_result"
    }
   ],
   "source": [
    "# REST\n",
    "'''\n",
    "REST is an architectural style for designing networked applications. \n",
    "It is based on a set of principles that use standard HTTP methods (GET, POST, PUT, DELETE) and is characterized by statelessness, \n",
    "a client-server model, and a uniform interface. \n",
    "In REST architecture, resources (data or services) are identified by URIs, and interactions are typically stateless and cacheable.\n",
    "'''\n",
    "\n",
    "# SOAP\n",
    "\n",
    "'''\n",
    "SOAP is a protocol for exchanging structured information in web services. \n",
    "It relies on XML as its message format and can be carried over various transport protocols, including HTTP and SMTP. \n",
    "SOAP is designed to provide a standard way for applications to communicate and invoke procedures on remote systems.\n",
    "'''\n",
    "\n",
    "\n",
    "# Shortcomings of SOAP\n",
    "'''\n",
    "Complexity, Limited Browser Support, Performance Issues\n",
    "'''"
   ]
  },
  {
   "cell_type": "code",
   "execution_count": null,
   "id": "aa1a9d43-682c-473a-8fb0-b34bdb18792c",
   "metadata": {},
   "outputs": [],
   "source": []
  },
  {
   "cell_type": "markdown",
   "id": "9ab8d266-98ad-4665-93a2-3f81fe647456",
   "metadata": {},
   "source": [
    "# Question 5"
   ]
  },
  {
   "cell_type": "markdown",
   "id": "bba5e52d-fb5a-4187-a619-bbbcdedea1b9",
   "metadata": {},
   "source": [
    "Differentiate between REST and SOAP"
   ]
  },
  {
   "cell_type": "code",
   "execution_count": null,
   "id": "641bda3f-a2b9-476e-8e8b-8e0e56b1d448",
   "metadata": {},
   "outputs": [],
   "source": [
    "'''\n",
    "1. Communication\n",
    "\n",
    "REST Uses a stateless client-server communication model, where each request from a client to a server must contain all the information \n",
    "needed to understand and fulfill the request. \n",
    "No client context is stored on the server between requests.\n",
    "\n",
    "SOAP Can be both stateful and stateless, allowing for the creation of stateful operations using features like WS-AtomicTransaction.\n",
    "\n",
    "2. Data Format\n",
    "\n",
    "REST Typically uses lightweight data formats such as JSON or XML for data exchange between the client and the server.\n"
   ]
  }
 ],
 "metadata": {
  "kernelspec": {
   "display_name": "Python 3 (ipykernel)",
   "language": "python",
   "name": "python3"
  },
  "language_info": {
   "codemirror_mode": {
    "name": "ipython",
    "version": 3
   },
   "file_extension": ".py",
   "mimetype": "text/x-python",
   "name": "python",
   "nbconvert_exporter": "python",
   "pygments_lexer": "ipython3",
   "version": "3.10.8"
  }
 },
 "nbformat": 4,
 "nbformat_minor": 5
}
