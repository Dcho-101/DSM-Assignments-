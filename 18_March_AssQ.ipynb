{
 "cells": [
  {
   "cell_type": "markdown",
   "id": "4e0a1f88-1b07-4a2d-93e9-fc4badbbdea3",
   "metadata": {},
   "source": [
    "# Question 1"
   ]
  },
  {
   "cell_type": "markdown",
   "id": "fb4e8f9e-0821-4573-a782-7abce2fecd23",
   "metadata": {},
   "source": [
    "What is the Filter method in feature selection, and how does it work?"
   ]
  },
  {
   "cell_type": "code",
   "execution_count": 1,
   "id": "862d55a0-c3a2-44da-b823-4e25dd27176d",
   "metadata": {},
   "outputs": [
    {
     "data": {
      "text/plain": [
       "\"\\nThe filter method in feature selection involves independently assessing each feature's relevance through statistical measures like correlation or information gain.\\nThis approach doesn't consider interactions between features and is computationally efficient, \\nmaking it a quick initial step in feature selection before employing more complex methods in machine learning workflows.\\n\""
      ]
     },
     "execution_count": 1,
     "metadata": {},
     "output_type": "execute_result"
    }
   ],
   "source": [
    "'''\n",
    "The filter method in feature selection involves independently assessing each feature's relevance through statistical measures like correlation or information gain.\n",
    "This approach doesn't consider interactions between features and is computationally efficient, \n",
    "making it a quick initial step in feature selection before employing more complex methods in machine learning workflows.\n",
    "'''"
   ]
  },
  {
   "cell_type": "code",
   "execution_count": null,
   "id": "4b9a938d-d751-45a2-8b2f-4f5f6e14be33",
   "metadata": {},
   "outputs": [],
   "source": []
  },
  {
   "cell_type": "markdown",
   "id": "c370f328-39d2-4c8d-950e-aaf864b68bca",
   "metadata": {},
   "source": [
    "# Question 2"
   ]
  },
  {
   "cell_type": "markdown",
   "id": "039e8665-3109-478d-9715-f5469f61c453",
   "metadata": {},
   "source": [
    "How does the Wrapper method differ from the Filter method in feature selection?"
   ]
  },
  {
   "cell_type": "code",
   "execution_count": 2,
   "id": "15e6b337-6fc6-4b88-b102-daef1dd0e962",
   "metadata": {},
   "outputs": [
    {
     "data": {
      "text/plain": [
       "'\\n\\nThe Wrapper method, unlike the Filter method, assesses feature subsets by incorporating the performance of a specific machine learning algorithm. \\nIt selects features based on their impact on model accuracy, utilizing a trial-and-error approach. \\nWhile computationally more intensive, the Wrapper method considers feature interactions and provides a more tailored selection.\\n'"
      ]
     },
     "execution_count": 2,
     "metadata": {},
     "output_type": "execute_result"
    }
   ],
   "source": [
    "'''\n",
    "\n",
    "The Wrapper method, unlike the Filter method, assesses feature subsets by incorporating the performance of a specific machine learning algorithm. \n",
    "It selects features based on their impact on model accuracy, utilizing a trial-and-error approach. \n",
    "While computationally more intensive, the Wrapper method considers feature interactions and provides a more tailored selection.\n",
    "'''\n"
   ]
  },
  {
   "cell_type": "code",
   "execution_count": null,
   "id": "f7852840-1f28-4e26-910f-ae1886b55739",
   "metadata": {},
   "outputs": [],
   "source": []
  },
  {
   "cell_type": "markdown",
   "id": "1b77896b-f87a-4674-a4a5-6dc7c11666e2",
   "metadata": {},
   "source": [
    "# Question 3"
   ]
  },
  {
   "cell_type": "markdown",
   "id": "2664a457-a6d7-462a-9728-ed793f908c4a",
   "metadata": {},
   "source": [
    "What are some common techniques used in Embedded feature selection methods?"
   ]
  },
  {
   "cell_type": "code",
   "execution_count": 3,
   "id": "98f5e673-0068-4b60-9ec5-8cd2b5ef2434",
   "metadata": {},
   "outputs": [
    {
     "data": {
      "text/plain": [
       "'\\nThere are some common techniques available to use in the embedded feature selection methods\\n\\n1. Lasso Regression (L1 Regularization)\\n2. Decision Trees\\n3. Random Forests\\n4. Gradient Boosting Machines\\n5.  Regression\\nand many more\\n'"
      ]
     },
     "execution_count": 3,
     "metadata": {},
     "output_type": "execute_result"
    }
   ],
   "source": [
    "'''\n",
    "There are some common techniques available to use in the embedded feature selection methods\n",
    "\n",
    "1. Lasso Regression (L1 Regularization)\n",
    "2. Decision Trees\n",
    "3. Random Forests\n",
    "4. Gradient Boosting Machines\n",
    "5.  Regression\n",
    "and many more\n",
    "'''\n"
   ]
  },
  {
   "cell_type": "code",
   "execution_count": null,
   "id": "58681cf0-9fd4-41ae-8c52-3a2859264134",
   "metadata": {},
   "outputs": [],
   "source": []
  },
  {
   "cell_type": "markdown",
   "id": "c449b571-44e5-4d62-953f-84ac9af2d7d1",
   "metadata": {},
   "source": [
    "# Question 4"
   ]
  },
  {
   "cell_type": "markdown",
   "id": "2898c3ce-f08e-4b7e-b6bc-67d2b7cff377",
   "metadata": {},
   "source": [
    "What are some drawbacks of using the Filter method for feature selection?"
   ]
  },
  {
   "cell_type": "code",
   "execution_count": 4,
   "id": "b1e1cfea-1355-49b0-96e0-ab61f99e632f",
   "metadata": {},
   "outputs": [
    {
     "data": {
      "text/plain": [
       "'\\nthere are some drawbacks of using the filter method for feature selection such as:\\n\\n1. Independence Assumption\\n2. Limited to Univariate Analysis\\n3. Static Selection Criteria\\n4. One-size-fits-all Approach\\n'"
      ]
     },
     "execution_count": 4,
     "metadata": {},
     "output_type": "execute_result"
    }
   ],
   "source": [
    "'''\n",
    "there are some drawbacks of using the filter method for feature selection such as:\n",
    "\n",
    "1. Independence Assumption\n",
    "2. Limited to Univariate Analysis\n",
    "3. Static Selection Criteria\n",
    "4. One-size-fits-all Approach\n",
    "'''"
   ]
  },
  {
   "cell_type": "code",
   "execution_count": null,
   "id": "392eee07-1588-45cd-883d-dae4a5040e8a",
   "metadata": {},
   "outputs": [],
   "source": []
  },
  {
   "cell_type": "markdown",
   "id": "94557624-9013-4d1e-a984-9bc02ab69827",
   "metadata": {},
   "source": [
    "# Question 5"
   ]
  },
  {
   "cell_type": "markdown",
   "id": "7a45d9cb-33f4-43dd-bd73-148b3a44d11b",
   "metadata": {},
   "source": [
    "In which situations would you prefer using the Filter method over the Wrapper method for feature\n",
    "selection?"
   ]
  },
  {
   "cell_type": "code",
   "execution_count": 6,
   "id": "5b3a781f-f2d3-45fb-bcff-99d078efd964",
   "metadata": {},
   "outputs": [
    {
     "data": {
      "text/plain": [
       "'\\n1. High-Dimensional Data\\n2. Initial Exploration\\n3. Low Computational Resources\\n4. Preprocessing in Pipelines\\n\\nthese are some situation in which I can prefer the Filter method over the Wrapper for Feature selection\\n'"
      ]
     },
     "execution_count": 6,
     "metadata": {},
     "output_type": "execute_result"
    }
   ],
   "source": [
    "'''\n",
    "1. High-Dimensional Data\n",
    "2. Initial Exploration\n",
    "3. Low Computational Resources\n",
    "4. Preprocessing in Pipelines\n",
    "\n",
    "these are some situation in which I can prefer the Filter method over the Wrapper for Feature selection\n",
    "'''"
   ]
  },
  {
   "cell_type": "code",
   "execution_count": null,
   "id": "111d99a5-4a16-4021-b17c-1752aaf58257",
   "metadata": {},
   "outputs": [],
   "source": []
  },
  {
   "cell_type": "markdown",
   "id": "7f14eb38-f50a-4052-a678-e06ec5e38cac",
   "metadata": {},
   "source": [
    "# Question 6"
   ]
  },
  {
   "cell_type": "markdown",
   "id": "233b6024-16df-4f43-9975-b7cbb6c0fdec",
   "metadata": {},
   "source": [
    "In a telecom company, you are working on a project to develop a predictive model for customer churn.\n",
    "You are unsure of which features to include in the model because the dataset contains several different\n",
    "ones. Describe how you would choose the most pertinent attributes for the model using the Filter Method."
   ]
  },
  {
   "cell_type": "code",
   "execution_count": 7,
   "id": "ea55f68b-3416-422b-b8c4-e71b8ebfeeac",
   "metadata": {},
   "outputs": [
    {
     "data": {
      "text/plain": [
       "'\\nsome steps can be taken into account to choose most pertinent attribute\\n\\n1. Understanding the Problem Domain\\n2. Exploring the Dataset\\n3. Defining Evaluation Criteria\\n4. Calculating Feature Scores\\n5. Selecting Top Features\\n6. Monitoring Model Performance\\n'"
      ]
     },
     "execution_count": 7,
     "metadata": {},
     "output_type": "execute_result"
    }
   ],
   "source": [
    "'''\n",
    "some steps can be taken into account to choose most pertinent attribute\n",
    "\n",
    "1. Understanding the Problem Domain\n",
    "2. Exploring the Dataset\n",
    "3. Defining Evaluation Criteria\n",
    "4. Calculating Feature Scores\n",
    "5. Selecting Top Features\n",
    "6. Monitoring Model Performance\n",
    "'''"
   ]
  },
  {
   "cell_type": "code",
   "execution_count": null,
   "id": "44fd28fb-d715-499c-913c-cc2e4d0f2b3d",
   "metadata": {},
   "outputs": [],
   "source": []
  },
  {
   "cell_type": "markdown",
   "id": "6d21fd6d-5da8-452e-82d8-da093a1afda5",
   "metadata": {},
   "source": [
    "# Question 7"
   ]
  },
  {
   "cell_type": "markdown",
   "id": "18a9b500-2129-42de-8b6f-2712b63e2352",
   "metadata": {},
   "source": [
    "You are working on a project to predict the outcome of a soccer match. You have a large dataset with\n",
    "many features, including player statistics and team rankings. Explain how you would use the Embedded\n",
    "method to select the most relevant features for the model."
   ]
  },
  {
   "cell_type": "code",
   "execution_count": 8,
   "id": "bb28b65a-6bfb-42c6-837d-8409628e3849",
   "metadata": {},
   "outputs": [
    {
     "data": {
      "text/plain": [
       "'\\nIn the context of predicting soccer match outcomes with a large dataset containing player statistics and team rankings, \\nusing the Embedded method involves integrating feature selection into the model training process. \\n\\nHere are step by step explaination are given\\n\\n1. Choosing a Suitable Model\\n2. Feature Encoding and Preprocessing\\n3. Selecting the Embedded Method\\n4. Training the Model\\n5. Feature Importance Scores\\n6. Rank Features\\n7. Threshold or Select Top Features\\n8. Validate and Refine\\n9. Monitor and Update\\n'"
      ]
     },
     "execution_count": 8,
     "metadata": {},
     "output_type": "execute_result"
    }
   ],
   "source": [
    "'''\n",
    "In the context of predicting soccer match outcomes with a large dataset containing player statistics and team rankings, \n",
    "using the Embedded method involves integrating feature selection into the model training process. \n",
    "\n",
    "Here are step by step explaination are given\n",
    "\n",
    "1. Choosing a Suitable Model\n",
    "2. Feature Encoding and Preprocessing\n",
    "3. Selecting the Embedded Method\n",
    "4. Training the Model\n",
    "5. Feature Importance Scores\n",
    "6. Rank Features\n",
    "7. Threshold or Select Top Features\n",
    "8. Validate and Refine\n",
    "9. Monitor and Update\n",
    "'''"
   ]
  },
  {
   "cell_type": "code",
   "execution_count": null,
   "id": "f935336f-b9f9-4471-9ea6-ed49994127eb",
   "metadata": {},
   "outputs": [],
   "source": []
  },
  {
   "cell_type": "markdown",
   "id": "2ecbe5fb-3a0a-40f2-9e50-f4692c3aad0a",
   "metadata": {},
   "source": [
    "# Question 8"
   ]
  },
  {
   "cell_type": "markdown",
   "id": "f428257d-f5b1-4eb1-a23a-d76bb0022b7e",
   "metadata": {},
   "source": [
    "You are working on a project to predict the price of a house based on its features, such as size, location,\n",
    "and age. You have a limited number of features, and you want to ensure that you select the most important\n",
    "ones for the model. Explain how you would use the Wrapper method to select the best set of features for the\n",
    "predictor."
   ]
  },
  {
   "cell_type": "code",
   "execution_count": null,
   "id": "eb601de3-ef7d-49de-8d7a-fb4e65a9e746",
   "metadata": {},
   "outputs": [],
   "source": [
    "'''\n",
    "Using the Wrapper method for feature selection in a house price prediction project \n",
    "involves evaluating subsets of features by considering the performance of a specific machine learning model.\n",
    "\n",
    "1. Define a Performance Metric:\n",
    "\n"
   ]
  }
 ],
 "metadata": {
  "kernelspec": {
   "display_name": "Python 3 (ipykernel)",
   "language": "python",
   "name": "python3"
  },
  "language_info": {
   "codemirror_mode": {
    "name": "ipython",
    "version": 3
   },
   "file_extension": ".py",
   "mimetype": "text/x-python",
   "name": "python",
   "nbconvert_exporter": "python",
   "pygments_lexer": "ipython3",
   "version": "3.10.8"
  }
 },
 "nbformat": 4,
 "nbformat_minor": 5
}
