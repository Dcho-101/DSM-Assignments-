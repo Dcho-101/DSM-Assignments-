{
 "cells": [
  {
   "cell_type": "markdown",
   "id": "4ce760ca-cef1-4402-ae48-dfcce13bf658",
   "metadata": {},
   "source": [
    "# Question 1"
   ]
  },
  {
   "cell_type": "markdown",
   "id": "e898f0ce-32a5-45ea-a335-bf7c3dc556f4",
   "metadata": {},
   "source": [
    "What is an Exeption in python? Write the difference between Exceptions and Syntax Errors"
   ]
  },
  {
   "cell_type": "code",
   "execution_count": 1,
   "id": "2ecf2282-8778-4698-99b3-32e970c2d282",
   "metadata": {},
   "outputs": [
    {
     "data": {
      "text/plain": [
       "'Syntax errors are caused by mistakes in the source code, \\nsuch as typos, omissions, or incorrect use of syntax. \\nExceptions are abnormal events that occur during the execution of a program.'"
      ]
     },
     "execution_count": 1,
     "metadata": {},
     "output_type": "execute_result"
    }
   ],
   "source": [
    "\"\"\"An exception in Python is an event that occurs during the execution of a program and disrupts the normal flow of the program's instructions. \"\"\"\n",
    "\"\"\"Syntax errors are caused by mistakes in the source code, \n",
    "such as typos, omissions, or incorrect use of syntax. \n",
    "Exceptions are abnormal events that occur during the execution of a program.\"\"\""
   ]
  },
  {
   "cell_type": "code",
   "execution_count": null,
   "id": "0349a96f-84a9-4aed-a854-54525e2f6746",
   "metadata": {},
   "outputs": [],
   "source": []
  },
  {
   "cell_type": "markdown",
   "id": "6f100cfd-640a-499c-9382-e7294f65d2ed",
   "metadata": {},
   "source": [
    "# Question 2"
   ]
  },
  {
   "cell_type": "markdown",
   "id": "8f8b65d1-e421-4b9e-9384-81dfe3793747",
   "metadata": {},
   "source": [
    "What happens when an exception is not handled? Explain with an Example."
   ]
  },
  {
   "cell_type": "code",
   "execution_count": 2,
   "id": "5bf47530-1a3c-47f0-9be4-c1b88270cd28",
   "metadata": {},
   "outputs": [
    {
     "ename": "ZeroDivisionError",
     "evalue": "division by zero",
     "output_type": "error",
     "traceback": [
      "\u001b[0;31m---------------------------------------------------------------------------\u001b[0m",
      "\u001b[0;31mZeroDivisionError\u001b[0m                         Traceback (most recent call last)",
      "Cell \u001b[0;32mIn[2], line 6\u001b[0m\n\u001b[1;32m      3\u001b[0m \u001b[38;5;66;03m# Example\u001b[39;00m\n\u001b[1;32m      5\u001b[0m \u001b[38;5;28;01mtry\u001b[39;00m:\n\u001b[0;32m----> 6\u001b[0m     result \u001b[38;5;241m=\u001b[39m \u001b[38;5;241;43m10\u001b[39;49m\u001b[43m \u001b[49m\u001b[38;5;241;43m/\u001b[39;49m\u001b[43m \u001b[49m\u001b[38;5;241;43m0\u001b[39;49m  \u001b[38;5;66;03m# Division by zero exception\u001b[39;00m\n\u001b[1;32m      7\u001b[0m \u001b[38;5;28;01mexcept\u001b[39;00m \u001b[38;5;167;01mValueError\u001b[39;00m \u001b[38;5;28;01mas\u001b[39;00m ve:\n\u001b[1;32m      8\u001b[0m     \u001b[38;5;28mprint\u001b[39m(\u001b[38;5;124mf\u001b[39m\u001b[38;5;124m\"\u001b[39m\u001b[38;5;124mCaught and handled exception: \u001b[39m\u001b[38;5;132;01m{\u001b[39;00mve\u001b[38;5;132;01m}\u001b[39;00m\u001b[38;5;124m\"\u001b[39m)\n",
      "\u001b[0;31mZeroDivisionError\u001b[0m: division by zero"
     ]
    }
   ],
   "source": [
    "\"\"\" When an exception is not handled, it results in the termination of the program's normal execution and result in displaying an error message.\"\"\"\n",
    "\n",
    "# Example\n",
    "\n",
    "try:\n",
    "    result = 10 / 0  # Division by zero exception\n",
    "except ValueError as ve:\n",
    "    print(f\"Caught and handled exception: {ve}\")\n",
    "\n",
    "# The following code will not be executed if an exception occurs above\n",
    "print(\"This line will not be reached.\")\n"
   ]
  },
  {
   "cell_type": "code",
   "execution_count": null,
   "id": "63cd28bf-4360-4cdc-a00b-91711f2e4caf",
   "metadata": {},
   "outputs": [],
   "source": []
  },
  {
   "cell_type": "markdown",
   "id": "3a3fee70-02e5-47dd-95d1-f91a647a86ca",
   "metadata": {},
   "source": [
    "# Question 3"
   ]
  },
  {
   "cell_type": "markdown",
   "id": "6cef729d-c2c2-4101-93cd-630876c15570",
   "metadata": {},
   "source": [
    "Which python statements are used to catch and handle exception? Explain with an Example. "
   ]
  },
  {
   "cell_type": "code",
   "execution_count": 3,
   "id": "bceb79ff-b040-4cfd-b44f-0cf9cef409a5",
   "metadata": {},
   "outputs": [
    {
     "name": "stdout",
     "output_type": "stream",
     "text": [
      "Finally block executed.\n"
     ]
    }
   ],
   "source": [
    "\"\"\"In Python, the try, except, else, and finally statements are used to catch and handle exceptions.\"\"\"\n",
    "\n",
    "# Example\n",
    "\n",
    "try:\n",
    "    file = open('example.txt', 'r')\n",
    "    content = file.read()\n",
    "    # Code that may raise an exception\n",
    "except FileNotFoundError as e:\n",
    "    print(f\"File not found: {e}\")\n",
    "finally:\n",
    "    if 'file' in locals():\n",
    "        file.close()\n",
    "    print(\"Finally block executed.\")"
   ]
  },
  {
   "cell_type": "code",
   "execution_count": null,
   "id": "7ea32615-c8a0-45bc-a8be-f5551dd17fbb",
   "metadata": {},
   "outputs": [],
   "source": []
  },
  {
   "cell_type": "markdown",
   "id": "d4aab237-ebf6-4328-b042-58fca59d288f",
   "metadata": {},
   "source": [
    "# Question 4"
   ]
  },
  {
   "cell_type": "markdown",
   "id": "bb5e2008-9479-417f-a287-4b3d9d474ba6",
   "metadata": {},
   "source": [
    "Explain with an example\n",
    "a. try and else\n",
    "b. finally\n",
    "c. raise"
   ]
  },
  {
   "cell_type": "code",
   "execution_count": 4,
   "id": "a410a9e0-7437-4c65-a996-41c843acdd24",
   "metadata": {},
   "outputs": [
    {
     "name": "stdout",
     "output_type": "stream",
     "text": [
      "try and else example\n",
      "The result of 10 / 2 is: 5.0\n",
      "Cannot divide by zero.\n",
      "\n",
      "finally example\n",
      "File content: Harry Potter was born in England, United Kingdom. \n",
      "His parents, Lily and James Potter, were killed by an evil wizard named Lord Voldemort,\n",
      "while Voldemort was trying to kill Harry. \n",
      "Yet Harry escaped with no harm except a scar in the shape of a lightning bolt, and Voldemort ends up mostly dead.\n",
      "Finally block executed.\n",
      "File not found: nonexistent.txt\n",
      "Finally block executed.\n",
      "\n",
      "raise example\n",
      "5 is a positive number.\n",
      "Error: Number must be positive.\n"
     ]
    }
   ],
   "source": [
    "print(\"try and else example\")\n",
    "\n",
    "def divide_numbers(a, b):\n",
    "    try:\n",
    "        result = a / b\n",
    "    except ZeroDivisionError:\n",
    "        print(\"Cannot divide by zero.\")\n",
    "    else:\n",
    "        print(f\"The result of {a} / {b} is: {result}\")\n",
    "\n",
    "# Example usage\n",
    "divide_numbers(10, 2)   # No exception, else block executed\n",
    "divide_numbers(10, 0)   # Division by zero exception caught\n",
    "\n",
    "print()\n",
    "\n",
    "print(\"finally example\")\n",
    "def open_and_read_file(file_path):\n",
    "    try:\n",
    "        file = open(file_path, 'r')\n",
    "        content = file.read()\n",
    "        print(\"File content:\", content)\n",
    "    except FileNotFoundError:\n",
    "        print(f\"File not found: {file_path}\")\n",
    "    finally:\n",
    "        if 'file' in locals():\n",
    "            file.close()\n",
    "        print(\"Finally block executed.\")\n",
    "\n",
    "# Example usage\n",
    "open_and_read_file('example.txt')   # File exists, finally block executed\n",
    "open_and_read_file('nonexistent.txt')   # File not found, finally block executed\n",
    "\n",
    "print()\n",
    "\n",
    "print(\"raise example\")\n",
    "\n",
    "def check_positive_number(num):\n",
    "    try:\n",
    "        if num <= 0:\n",
    "            raise ValueError(\"Number must be positive.\")\n",
    "        else:\n",
    "            print(f\"{num} is a positive number.\")\n",
    "    except ValueError as e:\n",
    "        print(f\"Error: {e}\")\n",
    "\n",
    "# Example usage\n",
    "check_positive_number(5)   # 5 is a positive number\n",
    "check_positive_number(-2)   # Error: Number must be positive.\n"
   ]
  },
  {
   "cell_type": "code",
   "execution_count": null,
   "id": "28024fc1-0e40-4e87-97bf-0ea0f82cf3cb",
   "metadata": {},
   "outputs": [],
   "source": []
  },
  {
   "cell_type": "markdown",
   "id": "b699decd-df32-4971-bedd-a87d576c63ac",
   "metadata": {},
   "source": [
    "# Question 4"
   ]
  },
  {
   "cell_type": "markdown",
   "id": "08ed09bc-b7d4-4083-99c8-6a8bf06933ff",
   "metadata": {},
   "source": [
    "What are Custom Exceptions in python? Why do we need Custom Exceptions? Explain with an example"
   ]
  },
  {
   "cell_type": "code",
   "execution_count": 5,
   "id": "2deb71ed-a498-47db-a104-58ae45d9762c",
   "metadata": {},
   "outputs": [
    {
     "name": "stdout",
     "output_type": "stream",
     "text": [
      "Processing positive value: 10\n",
      "Error: NegativeValueError: Value -5 must be non-negative.\n"
     ]
    }
   ],
   "source": [
    "\"\"\"In Python, custom exceptions are user-defined exceptions that allow developers to create their own exception classes tailored to specific application requirements. \n",
    "These exceptions extend the built-in 'Exception' class or its subclasses, providing a way to handle application-specific errors in a structured and meaningful manner.\"\"\"\n",
    "\n",
    "\"\"\" we need custom exception depending upon situations like \n",
    "1. Application-Specific Errors\n",
    "2. Code Readability\n",
    "3. Structured Error Handling\n",
    "4. Modularity and Extensibility\n",
    "\"\"\"\n",
    "\n",
    "# Example \n",
    "\n",
    "class NegativeValueError(Exception):\n",
    "    \"\"\"Custom exception for handling negative values.\"\"\"\n",
    "\n",
    "    def __init__(self, value):\n",
    "        self.value = value\n",
    "        super().__init__(f\"NegativeValueError: Value {value} must be non-negative.\")\n",
    "\n",
    "\n",
    "def process_positive_value(number):\n",
    "    try:\n",
    "        if number < 0:\n",
    "            raise NegativeValueError(number)\n",
    "        else:\n",
    "            print(f\"Processing positive value: {number}\")\n",
    "    except NegativeValueError as e:\n",
    "        print(f\"Error: {e}\")\n",
    "\n",
    "# Example usage\n",
    "process_positive_value(10)   # Processing positive value: 10\n",
    "process_positive_value(-5)   # Error: NegativeValueError: Value -5 must be non-negative."
   ]
  },
  {
   "cell_type": "code",
   "execution_count": null,
   "id": "97b130ec-f083-4e3b-bb48-aec52792cc38",
   "metadata": {},
   "outputs": [],
   "source": []
  },
  {
   "cell_type": "markdown",
   "id": "bd7468d0-cdb0-4f06-a6c9-0d0b955b88ec",
   "metadata": {},
   "source": [
    "# Question 6"
   ]
  },
  {
   "cell_type": "markdown",
   "id": "8b98a30c-c698-4ad6-bf28-39edc686f46f",
   "metadata": {},
   "source": [
    "Create a custom exception class. Use this class to handle an exception."
   ]
  },
  {
   "cell_type": "code",
   "execution_count": 6,
   "id": "7bc1fd23-5088-48d4-bc6c-e1c42c2df193",
   "metadata": {},
   "outputs": [
    {
     "name": "stdout",
     "output_type": "stream",
     "text": [
      "Processing input: 42\n",
      "Error: InvalidInputError: Input value 'invalid' is not valid.\n"
     ]
    }
   ],
   "source": [
    "# Custom exception class\n",
    "class InvalidInputError(Exception):\n",
    "    \"\"\"Custom exception for handling invalid input.\"\"\"\n",
    "\n",
    "    def __init__(self, input_value):\n",
    "        self.input_value = input_value\n",
    "        super().__init__(f\"InvalidInputError: Input value '{input_value}' is not valid.\")\n",
    "\n",
    "\n",
    "# Function using the custom exception\n",
    "def process_input(value):\n",
    "    try:\n",
    "        if not isinstance(value, int):\n",
    "            raise InvalidInputError(value)\n",
    "        else:\n",
    "            print(f\"Processing input: {value}\")\n",
    "    except InvalidInputError as e:\n",
    "        print(f\"Error: {e}\")\n",
    "\n",
    "\n",
    "# Example usage\n",
    "process_input(42)         # Processing input: 42\n",
    "process_input(\"invalid\")  # Error: InvalidInputError: Input value 'invalid' is not valid.\n"
   ]
  },
  {
   "cell_type": "code",
   "execution_count": null,
   "id": "a8357f04-5101-4b1b-86b1-798f5de05fb5",
   "metadata": {},
   "outputs": [],
   "source": []
  }
 ],
 "metadata": {
  "kernelspec": {
   "display_name": "Python 3 (ipykernel)",
   "language": "python",
   "name": "python3"
  },
  "language_info": {
   "codemirror_mode": {
    "name": "ipython",
    "version": 3
   },
   "file_extension": ".py",
   "mimetype": "text/x-python",
   "name": "python",
   "nbconvert_exporter": "python",
   "pygments_lexer": "ipython3",
   "version": "3.10.8"
  }
 },
 "nbformat": 4,
 "nbformat_minor": 5
}
