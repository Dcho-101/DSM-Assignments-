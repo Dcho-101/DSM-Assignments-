{
 "cells": [
  {
   "cell_type": "markdown",
   "id": "42d1cd33-5fc5-40e4-8f4f-d2b7eb4ed8bc",
   "metadata": {},
   "source": [
    "# Question 1"
   ]
  },
  {
   "cell_type": "markdown",
   "id": "88b0505c-a416-4ee0-8b7e-81f9ba6d218f",
   "metadata": {},
   "source": [
    "What is Statistics?"
   ]
  },
  {
   "cell_type": "code",
   "execution_count": 3,
   "id": "3a07e6d1-1928-4904-88de-3eeef9db7117",
   "metadata": {},
   "outputs": [
    {
     "data": {
      "text/plain": [
       "'\\nStatistics in data science involves the collection, analysis, interpretation, presentation, and organization of data. \\nIt helps in making informed decisions by extracting meaningful patterns and insights from datasets. \\nIn statistics, statistical methods, such as hypothesis testing and regression analysis, are fundamental tools \\nfor understanding and modeling complex relationships within the data.\\n'"
      ]
     },
     "execution_count": 3,
     "metadata": {},
     "output_type": "execute_result"
    }
   ],
   "source": [
    "'''\n",
    "Statistics in data science involves the collection, analysis, interpretation, presentation, and organization of data. \n",
    "It helps in making informed decisions by extracting meaningful patterns and insights from datasets. \n",
    "In statistics, statistical methods, such as hypothesis testing and regression analysis, are fundamental tools \n",
    "for understanding and modeling complex relationships within the data.\n",
    "'''"
   ]
  },
  {
   "cell_type": "code",
   "execution_count": null,
   "id": "bbe8003c-d362-48e3-9268-127f4a387fb0",
   "metadata": {},
   "outputs": [],
   "source": []
  },
  {
   "cell_type": "markdown",
   "id": "90a89f2d-b459-4db9-b874-caa0a223b7c6",
   "metadata": {},
   "source": [
    "# Question 2"
   ]
  },
  {
   "cell_type": "markdown",
   "id": "bd5a8c11-e7b5-4aeb-9fc8-531916459ccd",
   "metadata": {},
   "source": [
    "Define the different types of statistics and give an example of when each type might be used."
   ]
  },
  {
   "cell_type": "code",
   "execution_count": 4,
   "id": "48e6c473-dc38-4700-8664-330118865dc2",
   "metadata": {},
   "outputs": [
    {
     "data": {
      "text/plain": [
       "'\\n\\nDescriptive statistics summarize and describe main features of a dataset, like mean or standard deviation. \\nFor instance, calculating the average income in a population.\\n\\nOn the other hand, inferential statistics make predictions or inferences about a population based on a sample, \\nlike estimating the mean income of an entire city from a survey of a representative sample.\\n'"
      ]
     },
     "execution_count": 4,
     "metadata": {},
     "output_type": "execute_result"
    }
   ],
   "source": [
    "'''\n",
    "\n",
    "Descriptive statistics summarize and describe main features of a dataset, like mean or standard deviation. \n",
    "For instance, calculating the average income in a population.\n",
    "\n",
    "On the other hand, inferential statistics make predictions or inferences about a population based on a sample, \n",
    "like estimating the mean income of an entire city from a survey of a representative sample.\n",
    "'''"
   ]
  },
  {
   "cell_type": "code",
   "execution_count": null,
   "id": "2ce8b0d3-c6d8-488d-9683-62d364b3937d",
   "metadata": {},
   "outputs": [],
   "source": []
  },
  {
   "cell_type": "markdown",
   "id": "b7077257-f70f-4230-87a0-8bc9e64dfca2",
   "metadata": {},
   "source": [
    "# Question 3"
   ]
  },
  {
   "cell_type": "markdown",
   "id": "85f01beb-dd13-4a43-9b7f-cd66b54874fc",
   "metadata": {},
   "source": [
    "What are the different types of data and how do they differ from each other? Provide an example of\n",
    "each type of data."
   ]
  },
  {
   "cell_type": "code",
   "execution_count": 5,
   "id": "40f103ec-3435-4bc3-a9c9-e2504a446a62",
   "metadata": {},
   "outputs": [
    {
     "data": {
      "text/plain": [
       "'\\nThere are two main types of data:\\n\\n1. Qualitative Data (Categorical Data) which represents categories or labels. like Colors (red, blue, green), marital status (single, married, divorced).\\n\\n2. Quantitative Data (Numerical Data) which represents measurable quantities with numerical values like Height, income, temperature.\\n\\n\\nAlthough Quantitative data can be further divided into two subtypes\\n\\n1. Discrete Data which consists of separate, distinct values.\\nfor exmaple, Number of cars in a parking lot, number of students in a class. \\n\\n\\n2. Continuous Data which can take any value within a given range.\\nfor example, Weight, temperature, distance.\\n'"
      ]
     },
     "execution_count": 5,
     "metadata": {},
     "output_type": "execute_result"
    }
   ],
   "source": [
    "'''\n",
    "There are two main types of data:\n",
    "\n",
    "1. Qualitative Data (Categorical Data) which represents categories or labels. like Colors (red, blue, green), marital status (single, married, divorced).\n",
    "\n",
    "2. Quantitative Data (Numerical Data) which represents measurable quantities with numerical values like Height, income, temperature.\n",
    "\n",
    "\n",
    "Although Quantitative data can be further divided into two subtypes\n",
    "\n",
    "1. Discrete Data which consists of separate, distinct values.\n",
    "for exmaple, Number of cars in a parking lot, number of students in a class. \n",
    "\n",
    "\n",
    "2. Continuous Data which can take any value within a given range.\n",
    "for example, Weight, temperature, distance.\n",
    "'''"
   ]
  },
  {
   "cell_type": "code",
   "execution_count": null,
   "id": "a2749412-488b-4859-be26-ab0a2d64389a",
   "metadata": {},
   "outputs": [],
   "source": []
  },
  {
   "cell_type": "markdown",
   "id": "a8a513ef-e01d-4fd5-9d49-7fca7522d5c3",
   "metadata": {},
   "source": [
    "# Question 4"
   ]
  },
  {
   "cell_type": "markdown",
   "id": "a119c73a-4cea-445a-992a-67186e128c4d",
   "metadata": {},
   "source": [
    "Q4. Categorise the following datasets with respect to quantitative and qualitative data types:\n",
    "\n",
    "\n",
    "(i) Grading in exam: A+, A, B+, B, C+, C, D, E\n",
    "\n",
    "(ii) Colour of mangoes: yellow, green, orange, red\n",
    "\n",
    "(iii) Height data of a class: [178.9, 179, 179.5, 176, 177.2, 178.3, 175.8,...]\n",
    "\n",
    "(iv) Number of mangoes exported by a farm: [500, 600, 478, 672, ...]"
   ]
  },
  {
   "cell_type": "code",
   "execution_count": 6,
   "id": "d8b20aa3-3883-411b-acb3-f21b787c20d5",
   "metadata": {},
   "outputs": [
    {
     "data": {
      "text/plain": [
       "'\\n(i) Qualitative Data\\n\\n(ii) Qualitative Data\\n\\n(iii) Quantitative Data\\n\\n(iv) Quantitative Data\\n'"
      ]
     },
     "execution_count": 6,
     "metadata": {},
     "output_type": "execute_result"
    }
   ],
   "source": [
    "'''\n",
    "(i) Qualitative Data\n",
    "\n",
    "(ii) Qualitative Data\n",
    "\n",
    "(iii) Quantitative Data\n",
    "\n",
    "(iv) Quantitative Data\n",
    "'''"
   ]
  },
  {
   "cell_type": "code",
   "execution_count": null,
   "id": "5b4206c8-9784-4be5-9e7b-25196afcf7ae",
   "metadata": {},
   "outputs": [],
   "source": []
  },
  {
   "cell_type": "markdown",
   "id": "0082f82b-d05c-4c92-964a-44ea5caab8cf",
   "metadata": {},
   "source": [
    "# Question 5"
   ]
  },
  {
   "cell_type": "markdown",
   "id": "bb126404-26ce-49c7-9280-86d175f0569d",
   "metadata": {},
   "source": [
    "Explain the concept of levels of measurement and give an example of a variable for each level."
   ]
  },
  {
   "cell_type": "code",
   "execution_count": 7,
   "id": "cb776319-ecd2-469d-bc7b-1c12cde09352",
   "metadata": {},
   "outputs": [
    {
     "data": {
      "text/plain": [
       "\"\\nLevels of measurement, also known as scales of measurement, \\nclassify variables based on the nature and properties of the data. \\nThere are four main levels\\n\\n\\n1. Nominal Level which represents categories or labels without any inherent order.\\nexample Gender (Male, Female), Colors (Red, Blue, Green)\\n\\n2. Ordinal Level which represents categories with a meaningful order or ranking, but the intervals between values are not uniform.\\nexample Educational levels (High School, Bachelor's, Master's, Ph.D.), Survey responses (Disagree, Neutral, Agree)\\n\\n3. Interval Level which Represents categories with a meaningful order, and the intervals between values are uniform. However, there is no true zero point.\\nexample temperature in Celsius or Fahrenheit (0°C or 0°F does not indicate the absence of temperature).\\n\\n4. Ratio Level which represents categories with a meaningful order, uniform intervals between values, and a true zero point, indicating the absence of the attribute.\\nexample Height (measured in inches), Weight (measured in pounds), Income (measured in dollars).\\n\""
      ]
     },
     "execution_count": 7,
     "metadata": {},
     "output_type": "execute_result"
    }
   ],
   "source": [
    "'''\n",
    "Levels of measurement, also known as scales of measurement, \n",
    "classify variables based on the nature and properties of the data. \n",
    "There are four main levels\n",
    "\n",
    "\n",
    "1. Nominal Level which represents categories or labels without any inherent order.\n",
    "example Gender (Male, Female), Colors (Red, Blue, Green)\n",
    "\n",
    "2. Ordinal Level which represents categories with a meaningful order or ranking, but the intervals between values are not uniform.\n",
    "example Educational levels (High School, Bachelor's, Master's, Ph.D.), Survey responses (Disagree, Neutral, Agree)\n",
    "\n",
    "3. Interval Level which Represents categories with a meaningful order, and the intervals between values are uniform. However, there is no true zero point.\n",
    "example temperature in Celsius or Fahrenheit (0°C or 0°F does not indicate the absence of temperature).\n",
    "\n",
    "4. Ratio Level which represents categories with a meaningful order, uniform intervals between values, and a true zero point, indicating the absence of the attribute.\n",
    "example Height (measured in inches), Weight (measured in pounds), Income (measured in dollars).\n",
    "'''"
   ]
  },
  {
   "cell_type": "code",
   "execution_count": null,
   "id": "142cbe6c-45e9-4802-bd21-e78b78ec695b",
   "metadata": {},
   "outputs": [],
   "source": []
  },
  {
   "cell_type": "markdown",
   "id": "13542633-cf5b-4519-ab4f-bf3ac194f2f6",
   "metadata": {},
   "source": [
    "# Question 6"
   ]
  },
  {
   "cell_type": "markdown",
   "id": "92572252-b048-439e-b9a7-d65f1f91a3dc",
   "metadata": {},
   "source": [
    "Why is it important to understand the level of measurement when analyzing data? Provide an\n",
    "example to illustrate your answer."
   ]
  },
  {
   "cell_type": "code",
   "execution_count": 8,
   "id": "e1fd236a-f7e4-4de4-b9c2-18abca859b15",
   "metadata": {},
   "outputs": [
    {
     "data": {
      "text/plain": [
       "'\\nunderstanding the level of measurement using two variables: \"Country of Residence\" and \"Income.\"\\n\\nStatistical operations like mode (most frequent category) and frequency distribution are appropriate in analyzing the distribution of countries\\n\\nStatistical operations such as mean, median, standard deviation, and ratio comparisons are meaningful for example calculating the average income of a group or comparing the income ratios between different groups.\\n'"
      ]
     },
     "execution_count": 8,
     "metadata": {},
     "output_type": "execute_result"
    }
   ],
   "source": [
    "'''\n",
    "Understanding the level of measurement is essential in data analysis because it determines the types of statistical analyses \n",
    "that are appropriate and the meaningfulness of certain operations.\n",
    "'''\n",
    "\n",
    "# Example \n",
    "'''\n",
    "understanding the level of measurement using two variables: \"Country of Residence\" and \"Income.\"\n",
    "\n",
    "Statistical operations like mode (most frequent category) and frequency distribution are appropriate in analyzing the distribution of countries\n",
    "\n",
    "Statistical operations such as mean, median, standard deviation, and ratio comparisons are meaningful for example calculating the average income of a group or comparing the income ratios between different groups.\n",
    "'''"
   ]
  },
  {
   "cell_type": "code",
   "execution_count": null,
   "id": "87364ca8-7d35-42bd-8032-02caf515b5a3",
   "metadata": {},
   "outputs": [],
   "source": []
  },
  {
   "cell_type": "markdown",
   "id": "d7eaf45a-6aa3-420c-9b5e-555b4b963599",
   "metadata": {},
   "source": [
    "# Question 7"
   ]
  },
  {
   "cell_type": "markdown",
   "id": "16f185dc-90f8-4d29-8694-a27cd10bbf7a",
   "metadata": {},
   "source": [
    "How nominal data type is different from ordinal data type."
   ]
  },
  {
   "cell_type": "code",
   "execution_count": 9,
   "id": "e27e7032-e75d-438b-ae4c-8a9eda7dd93b",
   "metadata": {},
   "outputs": [
    {
     "data": {
      "text/plain": [
       "\"\\nNominal and ordinal data types are both categorical, \\nbut they differ in the nature of the relationships and distinctions between the categories\\n\\n1. Nominal Data\\nNominal Data represents categories or labels without any inherent order or ranking\\nexample: Colors (Red, Blue, Green), Gender (Male, Female), Types of Fruit (Apple, Orange, Banana)\\n\\nIn nominal data, someone can say one category is different from another, \\nbut cannot establish any meaningful order or ranking among the categories\\n\\n2. Ordinal Data\\nOrdinal Data represents categories with a meaningful order or ranking, but the intervals between values are not consistent or meaningful.\\nExmaple: Educational Levels (High School, Bachelor's, Master's, Ph.D.), Survey Responses (Strongly Disagree, Disagree, Neutral, Agree, Strongly Agree)\\n\\nIn ordinal data, you can determine the relative order or rank of categories, indicating that one category is higher or lower than another\\n\""
      ]
     },
     "execution_count": 9,
     "metadata": {},
     "output_type": "execute_result"
    }
   ],
   "source": [
    "'''\n",
    "Nominal and ordinal data types are both categorical, \n",
    "but they differ in the nature of the relationships and distinctions between the categories\n",
    "\n",
    "1. Nominal Data\n",
    "Nominal Data represents categories or labels without any inherent order or ranking\n",
    "example: Colors (Red, Blue, Green), Gender (Male, Female), Types of Fruit (Apple, Orange, Banana)\n",
    "\n",
    "In nominal data, someone can say one category is different from another, \n",
    "but cannot establish any meaningful order or ranking among the categories\n",
    "\n",
    "2. Ordinal Data\n",
    "Ordinal Data represents categories with a meaningful order or ranking, but the intervals between values are not consistent or meaningful.\n",
    "Exmaple: Educational Levels (High School, Bachelor's, Master's, Ph.D.), Survey Responses (Strongly Disagree, Disagree, Neutral, Agree, Strongly Agree)\n",
    "\n",
    "In ordinal data, you can determine the relative order or rank of categories, indicating that one category is higher or lower than another\n",
    "'''"
   ]
  },
  {
   "cell_type": "code",
   "execution_count": null,
   "id": "0963710a-502c-4382-8fdb-78b84260f858",
   "metadata": {},
   "outputs": [],
   "source": []
  },
  {
   "cell_type": "markdown",
   "id": "a71d52e4-ba1a-4818-b004-fa28f5a9f40e",
   "metadata": {},
   "source": [
    "# Question 8"
   ]
  },
  {
   "cell_type": "markdown",
   "id": "9cf15b94-d6d9-40e2-99c1-7e5c638ce130",
   "metadata": {},
   "source": [
    "Which type of plot can be used to display data in terms of range?"
   ]
  },
  {
   "cell_type": "code",
   "execution_count": 10,
   "id": "7722b19e-4fd8-46fb-9ec3-893e451faba4",
   "metadata": {},
   "outputs": [
    {
     "data": {
      "text/plain": [
       "'\\nthere are several types of plot can be used in terms of display range in a data\\n\\n1. Box: Represents the interquartile range (IQR) between Q1 and Q3, containing the central 50% of the data.\\n\\n2. Whiskers: Extend from the box to the minimum and maximum values within a specified range.\\n\\n3. Median Line: Represents the median value.\\n\\n4. Outliers: Individual data points that fall significantly outside the overall pattern.\\n'"
      ]
     },
     "execution_count": 10,
     "metadata": {},
     "output_type": "execute_result"
    }
   ],
   "source": [
    "'''\n",
    "there are several types of plot can be used in terms of display range in a data\n",
    "\n",
    "1. Box: Represents the interquartile range (IQR) between Q1 and Q3, containing the central 50% of the data.\n",
    "\n",
    "2. Whiskers: Extend from the box to the minimum and maximum values within a specified range.\n",
    "\n",
    "3. Median Line: Represents the median value.\n",
    "\n",
    "4. Outliers: Individual data points that fall significantly outside the overall pattern.\n",
    "'''\n"
   ]
  },
  {
   "cell_type": "code",
   "execution_count": null,
   "id": "715d235b-c623-41ae-b007-b526cc1fc8b7",
   "metadata": {},
   "outputs": [],
   "source": []
  },
  {
   "cell_type": "markdown",
   "id": "d98b9f42-668c-4a2f-b909-c3dd0bd0a7a9",
   "metadata": {},
   "source": [
    "# Question 8"
   ]
  },
  {
   "cell_type": "markdown",
   "id": "77eecdf3-b0cf-4554-bedd-e276d118c942",
   "metadata": {},
   "source": [
    "Describe the difference between descriptive and inferential statistics. Give an example of each\n",
    "type of statistics and explain how they are used."
   ]
  },
  {
   "cell_type": "code",
   "execution_count": 11,
   "id": "0b83c2e1-2a16-4669-9522-4446356b35c0",
   "metadata": {},
   "outputs": [
    {
     "data": {
      "text/plain": [
       "'\\nDifference between descriptive statistics and inferencial statistics\\n\\nDescriptive Statistics\\n\\n1. Summarizes, organizes, and presents data in a meaningful way.\\n2. Provides insights into central tendency, variability, and distribution within a dataset.\\n3. Examples include mean, median, mode, range, and standard deviation.\\n4. Aims to describe and simplify data without making inferences about a larger population.\\n\\n\\nInferencial Sataistics\\n\\n1. Involves making predictions or inferences about a population based on a sample of data.\\n2. Uses probability theory to draw conclusions about characteristics of a population from a subset (sample).\\n3. Examples include hypothesis testing, confidence intervals, and regression analysis.\\n4. Used when researchers want to generalize findings from a sample to a larger population, \\nassessing the likelihood that observed effects are real and not due to chance.\\n'"
      ]
     },
     "execution_count": 11,
     "metadata": {},
     "output_type": "execute_result"
    }
   ],
   "source": [
    "'''\n",
    "Difference between descriptive statistics and inferencial statistics\n",
    "\n",
    "Descriptive Statistics\n",
    "\n",
    "1. Summarizes, organizes, and presents data in a meaningful way.\n",
    "2. Provides insights into central tendency, variability, and distribution within a dataset.\n",
    "3. Examples include mean, median, mode, range, and standard deviation.\n",
    "4. Aims to describe and simplify data without making inferences about a larger population.\n",
    "\n",
    "\n",
    "Inferencial Sataistics\n",
    "\n",
    "1. Involves making predictions or inferences about a population based on a sample of data.\n",
    "2. Uses probability theory to draw conclusions about characteristics of a population from a subset (sample).\n",
    "3. Examples include hypothesis testing, confidence intervals, and regression analysis.\n",
    "4. Used when researchers want to generalize findings from a sample to a larger population, \n",
    "assessing the likelihood that observed effects are real and not due to chance.\n",
    "'''"
   ]
  },
  {
   "cell_type": "code",
   "execution_count": null,
   "id": "d83329a2-2672-4d24-9a91-866745c3cc70",
   "metadata": {},
   "outputs": [],
   "source": []
  }
 ],
 "metadata": {
  "kernelspec": {
   "display_name": "Python 3 (ipykernel)",
   "language": "python",
   "name": "python3"
  },
  "language_info": {
   "codemirror_mode": {
    "name": "ipython",
    "version": 3
   },
   "file_extension": ".py",
   "mimetype": "text/x-python",
   "name": "python",
   "nbconvert_exporter": "python",
   "pygments_lexer": "ipython3",
   "version": "3.10.8"
  }
 },
 "nbformat": 4,
 "nbformat_minor": 5
}
