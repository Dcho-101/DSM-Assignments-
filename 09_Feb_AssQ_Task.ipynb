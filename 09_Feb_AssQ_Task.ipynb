{
 "cells": [
  {
   "cell_type": "markdown",
   "id": "9c40160c-157d-45c8-b435-4a71c1247cbc",
   "metadata": {},
   "source": [
    "# Question 1"
   ]
  },
  {
   "cell_type": "markdown",
   "id": "4a77e28a-0f48-4759-b6af-a034a6f05a5f",
   "metadata": {},
   "source": [
    "Create a vehicle class with an init method having instance variables as name_of_vehicle, max_speed\n",
    "and average_of_vehicle."
   ]
  },
  {
   "cell_type": "code",
   "execution_count": 1,
   "id": "c987ba1f-1037-42a4-8fc0-5672b3471730",
   "metadata": {},
   "outputs": [
    {
     "name": "stdout",
     "output_type": "stream",
     "text": [
      "Car: Max Speed - 200 km/h, Average Speed - 60 km/h\n",
      "Bike: Max Speed - 120 km/h, Average Speed - 40 km/h\n"
     ]
    }
   ],
   "source": [
    "class Vehicle:\n",
    "    def __init__(self, name_of_vehicle, max_speed, average_speed):\n",
    "        self.name_of_vehicle = name_of_vehicle\n",
    "        self.max_speed = max_speed\n",
    "        self.average_speed = average_speed\n",
    "\n",
    "# Example usage:\n",
    "car = Vehicle(name_of_vehicle=\"Car\", max_speed=200, average_speed=60)\n",
    "bike = Vehicle(name_of_vehicle=\"Bike\", max_speed=120, average_speed=40)\n",
    "\n",
    "# Accessing instance variables\n",
    "print(f\"{car.name_of_vehicle}: Max Speed - {car.max_speed} km/h, Average Speed - {car.average_speed} km/h\")\n",
    "print(f\"{bike.name_of_vehicle}: Max Speed - {bike.max_speed} km/h, Average Speed - {bike.average_speed} km/h\")\n"
   ]
  },
  {
   "cell_type": "code",
   "execution_count": null,
   "id": "0a7e1d29-2f2a-4949-9813-4859f0a54c30",
   "metadata": {},
   "outputs": [],
   "source": []
  },
  {
   "cell_type": "markdown",
   "id": "e9e1fa64-3df4-4762-8f9a-ff9419397594",
   "metadata": {},
   "source": [
    "# Question 2"
   ]
  },
  {
   "cell_type": "markdown",
   "id": "c93a7122-28bb-4159-900e-53c167f8c311",
   "metadata": {},
   "source": [
    "Create a child class car from the vehicle class created in Que 1, which will inherit the vehicle class.\n",
    "Create a method named seating_capacity which takes capacity as an argument and returns the name of\n",
    "the vehicle and its seating capacity."
   ]
  },
  {
   "cell_type": "code",
   "execution_count": 2,
   "id": "5e0589e8-bbd6-4444-9ec7-c14fc308db59",
   "metadata": {},
   "outputs": [
    {
     "name": "stdout",
     "output_type": "stream",
     "text": [
      "Car: Max Speed - 200 km/h, Average Speed - 60 km/h\n",
      "Car - Seating Capacity: 5\n"
     ]
    }
   ],
   "source": [
    "class Car(Vehicle):\n",
    "    def __init__(self, name_of_vehicle, max_speed, average_speed):\n",
    "        # Call the constructor of the parent class (Vehicle) using super()\n",
    "        super().__init__(name_of_vehicle, max_speed, average_speed)\n",
    "\n",
    "    def seating_capacity(self, capacity):\n",
    "        return f\"{self.name_of_vehicle} - Seating Capacity: {capacity}\"\n",
    "\n",
    "# Example usage:\n",
    "car = Car(name_of_vehicle=\"Car\", max_speed=200, average_speed=60)\n",
    "\n",
    "# Accessing inherited instance variables\n",
    "print(f\"{car.name_of_vehicle}: Max Speed - {car.max_speed} km/h, Average Speed - {car.average_speed} km/h\")\n",
    "\n",
    "# Calling the method in the child class\n",
    "capacity_result = car.seating_capacity(capacity=5)\n",
    "print(capacity_result)\n"
   ]
  },
  {
   "cell_type": "code",
   "execution_count": null,
   "id": "ed4ade8d-79a5-41a1-a893-acf37005b80e",
   "metadata": {},
   "outputs": [],
   "source": []
  },
  {
   "cell_type": "markdown",
   "id": "9a9f6361-1236-43ca-b16e-d3a884ae289e",
   "metadata": {},
   "source": [
    "# Question 3"
   ]
  },
  {
   "cell_type": "markdown",
   "id": "1f30d074-b9ee-4a07-8ce3-a565f509102e",
   "metadata": {},
   "source": [
    "Q3. What is multiple inheritance? Write a python code to demonstrate multiple inheritance."
   ]
  },
  {
   "cell_type": "code",
   "execution_count": 3,
   "id": "f80c26e1-777e-4978-bad1-d28e6a5d850b",
   "metadata": {},
   "outputs": [
    {
     "name": "stdout",
     "output_type": "stream",
     "text": [
      "Engine started\n",
      "Engine stopped\n",
      "Electric motor powered on\n",
      "Electric motor powered off\n",
      "Hybrid car is driving\n"
     ]
    }
   ],
   "source": [
    "\"\"\"Multiple inheritance is a feature in object-oriented programming where a class can inherit attributes and methods from more than one parent class. \n",
    "In Python, a class can inherit from multiple classes by listing them in the class definition.\"\"\"\n",
    "\n",
    "\n",
    "# Example\n",
    "class Engine:\n",
    "    def start(self):\n",
    "        print(\"Engine started\")\n",
    "\n",
    "    def stop(self):\n",
    "        print(\"Engine stopped\")\n",
    "\n",
    "class ElectricMotor:\n",
    "    def power_on(self):\n",
    "        print(\"Electric motor powered on\")\n",
    "\n",
    "    def power_off(self):\n",
    "        print(\"Electric motor powered off\")\n",
    "\n",
    "class HybridCar(Engine, ElectricMotor):\n",
    "    def drive(self):\n",
    "        print(\"Hybrid car is driving\")\n",
    "\n",
    "# Create an instance of the HybridCar class\n",
    "hybrid_car = HybridCar()\n",
    "\n",
    "# Access methods from the Engine class\n",
    "hybrid_car.start()\n",
    "hybrid_car.stop()\n",
    "\n",
    "# Access methods from the ElectricMotor class\n",
    "hybrid_car.power_on()\n",
    "hybrid_car.power_off()\n",
    "\n",
    "# Access method from the HybridCar class\n",
    "hybrid_car.drive()\n"
   ]
  },
  {
   "cell_type": "code",
   "execution_count": null,
   "id": "df09af68-5e49-40fc-8b92-c4d162258d76",
   "metadata": {},
   "outputs": [],
   "source": []
  },
  {
   "cell_type": "markdown",
   "id": "1cf006cf-3310-4346-b885-2013fcae146f",
   "metadata": {},
   "source": [
    "# Question 4"
   ]
  },
  {
   "cell_type": "markdown",
   "id": "e1be14e8-6035-464b-bf24-c280089d2b9a",
   "metadata": {},
   "source": [
    "What are getter and setter in python? Create a class and create a getter and a setter method in this\n",
    "class."
   ]
  },
  {
   "cell_type": "code",
   "execution_count": 4,
   "id": "cd899de9-7fa5-40d0-b970-73732ade24e6",
   "metadata": {},
   "outputs": [
    {
     "name": "stdout",
     "output_type": "stream",
     "text": [
      "Name: John\n",
      "Age: 20\n",
      "Updated Name: Alice\n",
      "Updated Age: 25\n"
     ]
    }
   ],
   "source": [
    "\"\"\"Getter and Setter methods are used in object-oriented programming to control access to the attributes (data members) of a class.\n",
    "Getter Method: A getter method retrieves the value of an attribute.\n",
    "Setter Method: A setter method sets the value of an attribute.\"\"\"\n",
    "\n",
    "class Student:\n",
    "    def __init__(self, name, age):\n",
    "        self._name = name  # Using _ to indicate a protected attribute\n",
    "        self._age = age\n",
    "\n",
    "    # Getter method for name\n",
    "    def get_name(self):\n",
    "        return self._name\n",
    "\n",
    "    # Getter method for age\n",
    "    def get_age(self):\n",
    "        return self._age\n",
    "\n",
    "    # Setter method for name\n",
    "    def set_name(self, new_name):\n",
    "        if len(new_name) > 0:\n",
    "            self._name = new_name\n",
    "\n",
    "    # Setter method for age with validation\n",
    "    def set_age(self, new_age):\n",
    "        if 0 < new_age < 150:  # Basic age validation\n",
    "            self._age = new_age\n",
    "\n",
    "# Create an instance of the Student class\n",
    "student = Student(name=\"John\", age=20)\n",
    "\n",
    "# Access attributes using getter methods\n",
    "print(f\"Name: {student.get_name()}\")\n",
    "print(f\"Age: {student.get_age()}\")\n",
    "\n",
    "# Use setter methods to update attributes\n",
    "student.set_name(\"Alice\")\n",
    "student.set_age(25)\n",
    "\n",
    "# Access updated attributes\n",
    "print(f\"Updated Name: {student.get_name()}\")\n",
    "print(f\"Updated Age: {student.get_age()}\")\n"
   ]
  },
  {
   "cell_type": "code",
   "execution_count": null,
   "id": "97468503-8fc8-4ad4-a240-b74a65a05de5",
   "metadata": {},
   "outputs": [],
   "source": []
  },
  {
   "cell_type": "markdown",
   "id": "65d5c978-bc91-47ac-90ed-64436a94ac39",
   "metadata": {},
   "source": [
    "# Question 5"
   ]
  },
  {
   "cell_type": "markdown",
   "id": "92bd24d7-4efa-4166-aa8b-511559a20738",
   "metadata": {},
   "source": [
    "Q5.What is method overriding in python? Write a python code to demonstrate method overriding."
   ]
  },
  {
   "cell_type": "code",
   "execution_count": null,
   "id": "8e1ffcb2-7471-48aa-a304-4a84179f0af0",
   "metadata": {},
   "outputs": [],
   "source": [
    "\"\"\"Method overriding in Python occurs when a subclass provides a specific implementation for a method that is already defined in its superclass. \n",
    "The overridden method in the subclass has the same name and signature as the method in the superclass.\"\"\"\n",
    "\n"
   ]
  }
 ],
 "metadata": {
  "kernelspec": {
   "display_name": "Python 3 (ipykernel)",
   "language": "python",
   "name": "python3"
  },
  "language_info": {
   "codemirror_mode": {
    "name": "ipython",
    "version": 3
   },
   "file_extension": ".py",
   "mimetype": "text/x-python",
   "name": "python",
   "nbconvert_exporter": "python",
   "pygments_lexer": "ipython3",
   "version": "3.10.8"
  }
 },
 "nbformat": 4,
 "nbformat_minor": 5
}
