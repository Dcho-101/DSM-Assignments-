{
 "cells": [
  {
   "cell_type": "markdown",
   "id": "7a321dab-6f47-430e-829b-222268febbae",
   "metadata": {},
   "source": [
    "# Question 1"
   ]
  },
  {
   "cell_type": "markdown",
   "id": "e8d4d6d2-cd64-417c-b868-7a90edf2d11a",
   "metadata": {},
   "source": [
    "What is the Probability density function?"
   ]
  },
  {
   "cell_type": "code",
   "execution_count": 1,
   "id": "486523c7-20c6-4f4c-874e-4ef898331d6b",
   "metadata": {},
   "outputs": [
    {
     "data": {
      "text/plain": [
       "'\\nThe Probability Density Function (PDF) is a concept used in probability theory represents the \\nprobability distribution of a continuous random variable.\\nPDF provides a way to model and understand the probability distribution of continuous random variables, \\nhelping to analyze and make predictions about real-world phenomena.\\n'"
      ]
     },
     "execution_count": 1,
     "metadata": {},
     "output_type": "execute_result"
    }
   ],
   "source": [
    "'''\n",
    "The Probability Density Function (PDF) is a concept used in probability theory represents the \n",
    "probability distribution of a continuous random variable.\n",
    "PDF provides a way to model and understand the probability distribution of continuous random variables, \n",
    "helping to analyze and make predictions about real-world phenomena.\n",
    "'''"
   ]
  },
  {
   "cell_type": "code",
   "execution_count": null,
   "id": "7a6f6a03-70cf-4470-a318-c6d8c634587a",
   "metadata": {},
   "outputs": [],
   "source": []
  },
  {
   "cell_type": "markdown",
   "id": "1163b3c7-2a53-44aa-a210-67b46c34d262",
   "metadata": {},
   "source": [
    "# Question 2"
   ]
  },
  {
   "cell_type": "markdown",
   "id": "1b69be49-7a65-4f14-9681-3ec6f4a3a969",
   "metadata": {},
   "source": [
    "What are the types of Probability distribution?"
   ]
  },
  {
   "cell_type": "code",
   "execution_count": 2,
   "id": "e3935a18-76c6-4dea-a5ac-c300587b710e",
   "metadata": {},
   "outputs": [
    {
     "data": {
      "text/plain": [
       "'\\nDiscrete Probability Distributions:\\n\\n1. Discrete Uniform Distribution\\n2. Bernoulli Distribution\\n4. Binomial Distribution\\n5. Poisson Distribution\\n\\nContinuous Probability Distributions\\n\\n1. Continuous Uniform Distribution\\n2. Normal (Gaussian) Distribution\\n3. Exponential Distribution\\n4. Gamma Distribution\\n5. Beta Distribution\\n6. Cauchy Distribution\\n'"
      ]
     },
     "execution_count": 2,
     "metadata": {},
     "output_type": "execute_result"
    }
   ],
   "source": [
    "'''\n",
    "Discrete Probability Distributions:\n",
    "\n",
    "1. Discrete Uniform Distribution\n",
    "2. Bernoulli Distribution\n",
    "4. Binomial Distribution\n",
    "5. Poisson Distribution\n",
    "\n",
    "Continuous Probability Distributions\n",
    "\n",
    "1. Continuous Uniform Distribution\n",
    "2. Normal (Gaussian) Distribution\n",
    "3. Exponential Distribution\n",
    "4. Gamma Distribution\n",
    "5. Beta Distribution\n",
    "6. Cauchy Distribution\n",
    "'''\n"
   ]
  },
  {
   "cell_type": "code",
   "execution_count": null,
   "id": "ac3ac54f-b591-403f-b7c5-72e28df08536",
   "metadata": {},
   "outputs": [],
   "source": []
  },
  {
   "cell_type": "markdown",
   "id": "96a7331a-83e7-49de-9348-303d49def271",
   "metadata": {},
   "source": [
    "# Question 3"
   ]
  },
  {
   "cell_type": "markdown",
   "id": "82ee3726-40ef-4daa-b3a8-4dbf2909e227",
   "metadata": {},
   "source": [
    "Write a Python function to calculate the probability density function of a normal distribution with\n",
    "given mean and standard deviation at a given point."
   ]
  },
  {
   "cell_type": "code",
   "execution_count": 3,
   "id": "7c19c17a-fb80-4d02-9fa8-dd280fd01e99",
   "metadata": {},
   "outputs": [
    {
     "name": "stdout",
     "output_type": "stream",
     "text": [
      "The PDF at 1.5 is 0.12951759566589174\n"
     ]
    }
   ],
   "source": [
    "import math\n",
    "\n",
    "def normal_pdf(x, mean, std_dev):\n",
    "    \"\"\"\n",
    "    Calculate the probability density function (PDF) of a normal distribution at a given point.\n",
    "\n",
    "    Parameters:\n",
    "    - x: The point at which to calculate the PDF.\n",
    "    - mean: The mean of the normal distribution.\n",
    "    - std_dev: The standard deviation of the normal distribution.\n",
    "\n",
    "    Returns:\n",
    "    The PDF value at the given point.\n",
    "    \"\"\"\n",
    "    if std_dev <= 0:\n",
    "        raise ValueError(\"Standard deviation must be positive.\")\n",
    "\n",
    "    coefficient = 1 / math.sqrt(2 * math.pi * std_dev**2)\n",
    "    exponent_term = -((x - mean)**2) / (2 * std_dev**2)\n",
    "\n",
    "    pdf_value = coefficient * math.exp(exponent_term)\n",
    "    return pdf_value\n",
    "\n",
    "# Example usage:\n",
    "mean_value = 0\n",
    "std_dev_value = 1\n",
    "point_to_evaluate = 1.5\n",
    "\n",
    "pdf_result = normal_pdf(point_to_evaluate, mean_value, std_dev_value)\n",
    "print(f\"The PDF at {point_to_evaluate} is {pdf_result}\")\n"
   ]
  },
  {
   "cell_type": "code",
   "execution_count": null,
   "id": "74bf0f22-45d8-4407-8d69-0497117ed7e5",
   "metadata": {},
   "outputs": [],
   "source": []
  },
  {
   "cell_type": "markdown",
   "id": "5fa52641-9b4c-461b-9c6c-d72f71976326",
   "metadata": {},
   "source": [
    "# Question 4"
   ]
  },
  {
   "cell_type": "markdown",
   "id": "0f48de71-9417-4202-86f7-18e880dcaa9f",
   "metadata": {},
   "source": [
    "What are the properties of Binomial distribution? Give two examples of events where binomial\n",
    "distribution can be applied."
   ]
  },
  {
   "cell_type": "code",
   "execution_count": 4,
   "id": "40fb3fd9-7d41-4ebe-828b-88103a9e380e",
   "metadata": {},
   "outputs": [
    {
     "data": {
      "text/plain": [
       "'\\n1. Coin Flips\\n2. Manufacturing Defects\\n3. Winning Game\\n4. Possiblity of Raining Today\\n'"
      ]
     },
     "execution_count": 4,
     "metadata": {},
     "output_type": "execute_result"
    }
   ],
   "source": [
    "# Properties of the binomial distribution:\n",
    "\n",
    "'''\n",
    "1. Fixed Number of Trials (n)\n",
    "2. Independent Trials\n",
    "3. Two Possible Outcomes\n",
    "4. Constant Probability of Success (p)\n",
    "5. Discrete Nature\n",
    "'''\n",
    "# Examples of events where the binomial distribution can be applied:\n",
    "\n",
    "'''\n",
    "1. Coin Flips\n",
    "2. Manufacturing Defects\n",
    "3. Winning Game\n",
    "4. Possiblity of Raining Today\n",
    "'''"
   ]
  },
  {
   "cell_type": "code",
   "execution_count": null,
   "id": "f61357f4-5088-402b-94fd-ff022c517257",
   "metadata": {},
   "outputs": [],
   "source": []
  },
  {
   "cell_type": "markdown",
   "id": "318dc43f-adc7-4ab5-8385-0ed717da4be7",
   "metadata": {},
   "source": [
    "# Question 5"
   ]
  },
  {
   "cell_type": "markdown",
   "id": "5b2a9d6a-ae0b-46f3-ad07-a8f822783f47",
   "metadata": {},
   "source": [
    "Generate a random sample of size 1000 from a binomial distribution with probability of success 0.4\n",
    "and plot a histogram of the results using matplotlib."
   ]
  },
  {
   "cell_type": "code",
   "execution_count": 5,
   "id": "f46ce3be-c005-4c0e-bc34-96d2b938fd7a",
   "metadata": {},
   "outputs": [
    {
     "data": {
      "image/png": "[encoded data removed]",
      "text/plain": [
       "<Figure size 640x480 with 1 Axes>"
      ]
     },
     "metadata": {},
     "output_type": "display_data"
    }
   ],
   "source": [
    "import numpy as np\n",
    "import matplotlib.pyplot as plt\n",
    "\n",
    "# Set the seed for reproducibility (optional)\n",
    "np.random.seed(42)\n",
    "\n",
    "# Generate a random sample of size 1000 from a binomial distribution\n",
    "sample_size = 1000\n",
    "probability_of_success = 0.4\n",
    "random_sample = np.random.binomial(1, probability_of_success, sample_size)\n",
    "\n",
    "# Plot a histogram of the results\n",
    "plt.hist(random_sample, bins=[-0.5, 0.5, 1.5], edgecolor='black', align='mid', color='skyblue')\n",
    "plt.title('Binomial Distribution - Random Sample')\n",
    "plt.xlabel('Number of Successes')\n",
    "plt.ylabel('Frequency')\n",
    "plt.xticks([0, 1], ['Failure', 'Success'])\n",
    "plt.show()\n"
   ]
  },
  {
   "cell_type": "code",
   "execution_count": null,
   "id": "60ab6e44-3fc9-469a-992f-5a6268d388fd",
   "metadata": {},
   "outputs": [],
   "source": []
  },
  {
   "cell_type": "markdown",
   "id": "978ad6cc-473f-4d50-98fd-ec7a95a111bf",
   "metadata": {},
   "source": [
    "# Quesion 6"
   ]
  },
  {
   "cell_type": "markdown",
   "id": "21ee1d25-a8e0-41ac-913b-a0a1a2e8bc30",
   "metadata": {},
   "source": [
    "Write a Python function to calculate the cumulative distribution function of a Poisson distribution\n",
    "with given mean at a given point."
   ]
  },
  {
   "cell_type": "code",
   "execution_count": 6,
   "id": "c28dad8b-0a81-4b2e-a79c-f92660add014",
   "metadata": {},
   "outputs": [
    {
     "name": "stdout",
     "output_type": "stream",
     "text": [
      "The CDF at 2 is 0.42319008112684353\n"
     ]
    }
   ],
   "source": [
    "import math\n",
    "\n",
    "def poisson_cdf(x, mean):\n",
    "    \"\"\"\n",
    "    Calculate the cumulative distribution function (CDF) of a Poisson distribution at a given point.\n",
    "\n",
    "    Parameters:\n",
    "    - x: The point at which to calculate the CDF.\n",
    "    - mean: The mean of the Poisson distribution.\n",
    "\n",
    "    Returns:\n",
    "    The CDF value at the given point.\n",
    "    \"\"\"\n",
    "    if x < 0:\n",
    "        raise ValueError(\"The point x must be a non-negative integer.\")\n",
    "\n",
    "    cdf_value = 0\n",
    "    for k in range(math.floor(x) + 1):\n",
    "        cdf_value += (math.exp(-mean) * mean**k) / math.factorial(k)\n",
    "\n",
    "    return cdf_value\n",
    "\n",
    "# Example usage:\n",
    "poisson_mean = 3\n",
    "point_to_evaluate = 2\n",
    "\n",
    "cdf_result = poisson_cdf(point_to_evaluate, poisson_mean)\n",
    "print(f\"The CDF at {point_to_evaluate} is {cdf_result}\")"
   ]
  },
  {
   "cell_type": "code",
   "execution_count": null,
   "id": "cef63924-eb01-4f0c-ba85-55c421fe6002",
   "metadata": {},
   "outputs": [],
   "source": []
  },
  {
   "cell_type": "code",
   "execution_count": null,
   "id": "80234982-95f8-4aa5-bfe1-21261102926d",
   "metadata": {},
   "outputs": [],
   "source": []
  },
  {
   "cell_type": "markdown",
   "id": "3c7bef11-381d-4f3e-84dd-c1a069dc4b7d",
   "metadata": {},
   "source": [
    "# Question 7"
   ]
  },
  {
   "cell_type": "markdown",
   "id": "04811dad-0912-4eab-9be6-cc68b6f7e78e",
   "metadata": {},
   "source": [
    "How Binomial distribution different from Poisson distribution?"
   ]
  },
  {
   "cell_type": "code",
   "execution_count": 7,
   "id": "1f4dac0c-d06e-40f5-bbf3-97e72432c8cd",
   "metadata": {},
   "outputs": [
    {
     "data": {
      "text/plain": [
       "'\\n1. Number of Trials (n) :\\nThe Binomial distribution is used when there is a fixed number of independent trials (n), \\neach with only two possible outcomes (success or failure).\\non the other hand, The Poisson distribution is used when the number of trials is not fixed but the average rate of success per unit of time \\nor space is known\\n\\n2. Nature of Trials: \\nThe events in a Poisson process are assumed to occur independently over time or space.\\nBut, Each trial in a Binomial distribution is independent, meaning the outcome of one trial does not affect the outcome of another.\\n\\n3. Probability of Success :\\nThe probability of success (p) remains constant across all trials in Binomial distribution.\\nbut, Poisson distribution does not have a fixed probability of success per trial. Instead, it is characterized by the average rate of occurrence\\n'"
      ]
     },
     "execution_count": 7,
     "metadata": {},
     "output_type": "execute_result"
    }
   ],
   "source": [
    "'''\n",
    "1. Number of Trials (n) :\n",
    "The Binomial distribution is used when there is a fixed number of independent trials (n), \n",
    "each with only two possible outcomes (success or failure).\n",
    "on the other hand, The Poisson distribution is used when the number of trials is not fixed but the average rate of success per unit of time \n",
    "or space is known\n",
    "\n",
    "2. Nature of Trials: \n",
    "The events in a Poisson process are assumed to occur independently over time or space.\n",
    "But, Each trial in a Binomial distribution is independent, meaning the outcome of one trial does not affect the outcome of another.\n",
    "\n",
    "3. Probability of Success :\n",
    "The probability of success (p) remains constant across all trials in Binomial distribution.\n",
    "but, Poisson distribution does not have a fixed probability of success per trial. Instead, it is characterized by the average rate of occurrence\n",
    "'''\n"
   ]
  },
  {
   "cell_type": "code",
   "execution_count": null,
   "id": "2a999c6a-d1f8-4c4c-ba05-8aef23ad9d6a",
   "metadata": {},
   "outputs": [],
   "source": []
  },
  {
   "cell_type": "markdown",
   "id": "3cf56ad7-9ff8-482c-962d-4f4e7d12fc24",
   "metadata": {},
   "source": [
    "# Question 8"
   ]
  },
  {
   "cell_type": "markdown",
   "id": "d7497419-376d-43e5-a356-ea03a6c50fd8",
   "metadata": {},
   "source": [
    "Generate a random sample of size 1000 from a Poisson distribution with mean 5 and calculate the\n",
    "sample mean and variance."
   ]
  },
  {
   "cell_type": "code",
   "execution_count": 8,
   "id": "b9466e86-b7a4-4a4f-968f-20268bb3a486",
   "metadata": {},
   "outputs": [
    {
     "name": "stdout",
     "output_type": "stream",
     "text": [
      "Sample Mean: 4.985\n",
      "Sample Variance: 4.9967749999999995\n"
     ]
    }
   ],
   "source": [
    "import numpy as np\n",
    "\n",
    "# Set the seed for reproducibility (optional)\n",
    "np.random.seed(42)\n",
    "\n",
    "# Generate a random sample of size 1000 from a Poisson distribution with mean 5\n",
    "poisson_mean = 5\n",
    "sample_size = 1000\n",
    "random_sample = np.random.poisson(poisson_mean, sample_size)\n",
    "\n",
    "# Calculate the sample mean and variance\n",
    "sample_mean = np.mean(random_sample)\n",
    "sample_variance = np.var(random_sample)\n",
    "\n",
    "# Print the results\n",
    "print(f\"Sample Mean: {sample_mean}\")\n",
    "print(f\"Sample Variance: {sample_variance}\")"
   ]
  },
  {
   "cell_type": "code",
   "execution_count": null,
   "id": "55f2bc18-7e2b-4662-b581-e944cb428e4d",
   "metadata": {},
   "outputs": [],
   "source": []
  },
  {
   "cell_type": "markdown",
   "id": "29292693-53ab-4deb-9ea5-d60c22d7f8fe",
   "metadata": {},
   "source": [
    "# Question 9"
   ]
  },
  {
   "cell_type": "markdown",
   "id": "3de3e653-75bb-426d-a438-4abca6eaa9d4",
   "metadata": {},
   "source": [
    "How mean and variance are related in Binomial distribution and Poisson distribution?"
   ]
  },
  {
   "cell_type": "code",
   "execution_count": 9,
   "id": "7e63d04d-20fd-4f0a-a95b-3e9c17765d43",
   "metadata": {},
   "outputs": [
    {
     "data": {
      "text/plain": [
       "'\\n1. Mean :\\nFor a Binomial distribution with parameters n (number of trials) and p (probability of success in a single trial), the mean is given by\\nμ=np.\\n\\nFor a Poisson distribution with parameter λ (average rate of occurrence), the mean is equal to the parameter, i.e., \\nμ=λ.\\n\\n2. Variance :\\nFor Binomial Distribution, the variance is given by σ 2 =np\\nFor a Poisson distribution,the variance is also equal to the parameter, i.e., σ 2 =λ.\\n'"
      ]
     },
     "execution_count": 9,
     "metadata": {},
     "output_type": "execute_result"
    }
   ],
   "source": [
    "'''\n",
    "1. Mean :\n",
    "For a Binomial distribution with parameters n (number of trials) and p (probability of success in a single trial), the mean is given by\n",
    "μ=np.\n",
    "\n",
    "For a Poisson distribution with parameter λ (average rate of occurrence), the mean is equal to the parameter, i.e., \n",
    "μ=λ.\n",
    "\n",
    "2. Variance :\n",
    "For Binomial Distribution, the variance is given by σ 2 =np\n",
    "For a Poisson distribution,the variance is also equal to the parameter, i.e., σ 2 =λ.\n",
    "'''\n"
   ]
  },
  {
   "cell_type": "code",
   "execution_count": null,
   "id": "cc775bbb-df41-4d76-9c3a-4853fbd5e8f6",
   "metadata": {},
   "outputs": [],
   "source": []
  },
  {
   "cell_type": "markdown",
   "id": "0e588854-5229-4e3b-9d03-2a567cb58b9c",
   "metadata": {},
   "source": [
    "# Question 10 "
   ]
  },
  {
   "cell_type": "markdown",
   "id": "4d9e961c-bfd7-4860-8f12-81a166e138e0",
   "metadata": {},
   "source": [
    "In normal distribution with respect to mean position, where does the least frequent data appear?"
   ]
  },
  {
   "cell_type": "code",
   "execution_count": null,
   "id": "e06a9c01-35ba-453c-806f-17537aa4ad1c",
   "metadata": {},
   "outputs": [],
   "source": [
    "'''\n",
    "In a normal distribution, also known as a Gaussian distribution or a bell curve, the data is symmetrically distributed around the mean. \n",
    "The mean is the central point of the distribution, and the highest point on the curve corresponds to the mean.\n",
    "Since the normal distribution is symmetric, the least frequent data points are found in the tails of the distribution, farthest away from the mean. \n",
    "The data becomes less frequent as moving away from the mean in either the positive or negative direction.\n",
    "'''"
   ]
  }
 ],
 "metadata": {
  "kernelspec": {
   "display_name": "Python 3 (ipykernel)",
   "language": "python",
   "name": "python3"
  },
  "language_info": {
   "codemirror_mode": {
    "name": "ipython",
    "version": 3
   },
   "file_extension": ".py",
   "mimetype": "text/x-python",
   "name": "python",
   "nbconvert_exporter": "python",
   "pygments_lexer": "ipython3",
   "version": "3.10.8"
  }
 },
 "nbformat": 4,
 "nbformat_minor": 5
}
