{
 "cells": [
  {
   "cell_type": "markdown",
   "id": "bd509089-b7e2-40da-a6f6-c0e4d7026174",
   "metadata": {},
   "source": [
    "# Question 1"
   ]
  },
  {
   "cell_type": "markdown",
   "id": "613ea82f-0391-43be-a9cd-29843cd8e2c3",
   "metadata": {},
   "source": [
    "List any five functions of the pandas library with execution."
   ]
  },
  {
   "cell_type": "code",
   "execution_count": 13,
   "id": "f729c66f-433a-4b89-9c21-7f0083d617e1",
   "metadata": {},
   "outputs": [
    {
     "name": "stdout",
     "output_type": "stream",
     "text": [
      "      Rk          Player Pos Age   Tm   G  GS    MP   FG  FGA  ...   FT%  ORB  \\\n",
      "0      1      Quincy Acy  PF  24  NYK  68  22  1287  152  331  ...  .784   79   \n",
      "1      2    Jordan Adams  SG  20  MEM  30   0   248   35   86  ...  .609    9   \n",
      "2      3    Steven Adams   C  21  OKC  70  67  1771  217  399  ...  .502  199   \n",
      "3      4     Jeff Adrien  PF  28  MIN  17   0   215   19   44  ...  .579   23   \n",
      "4      5   Arron Afflalo  SG  29  TOT  78  72  2502  375  884  ...  .843   27   \n",
      "..   ...             ...  ..  ..  ...  ..  ..   ...  ...  ...  ...   ...  ...   \n",
      "670  490  Thaddeus Young  PF  26  TOT  76  68  2434  451  968  ...  .655  127   \n",
      "671  490  Thaddeus Young  PF  26  MIN  48  48  1605  289  641  ...  .682   75   \n",
      "672  490  Thaddeus Young  PF  26  BRK  28  20   829  162  327  ...  .606   52   \n",
      "673  491     Cody Zeller   C  22  CHO  62  45  1487  172  373  ...  .774   97   \n",
      "674  492    Tyler Zeller   C  25  BOS  82  59  1731  340  619  ...  .823  146   \n",
      "\n",
      "     DRB  TRB  AST  STL BLK  TOV   PF   PTS  \n",
      "0    222  301   68   27  22   60  147   398  \n",
      "1     19   28   16   16   7   14   24    94  \n",
      "2    324  523   66   38  86   99  222   537  \n",
      "3     54   77   15    4   9    9   30    60  \n",
      "4    220  247  129   41   7  116  167  1035  \n",
      "..   ...  ...  ...  ...  ..  ...  ...   ...  \n",
      "670  284  411  173  124  25  117  171  1071  \n",
      "671  170  245  135   86  17   75  115   685  \n",
      "672  114  166   38   38   8   42   56   386  \n",
      "673  265  362  100   34  49   62  156   472  \n",
      "674  319  465  113   18  52   76  205   833  \n",
      "\n",
      "[675 rows x 30 columns]\n"
     ]
    }
   ],
   "source": [
    "'''\n",
    "Five function on the pandas library are\n",
    "1. read_csv\n",
    "2. head\n",
    "3. info\n",
    "4. describe\n",
    "5. groupby\n",
    "'''\n",
    "\n",
    "# Example of read.csv\n",
    "import pandas as pd\n",
    "\n",
    "# Reading a CSV file into a DataFrame\n",
    "df = pd.read_csv('players_data.csv')\n",
    "\n",
    "# printing the df\n",
    "print(df)"
   ]
  },
  {
   "cell_type": "code",
   "execution_count": 14,
   "id": "77ec806a-57ab-4f30-b5bb-ab94060f2304",
   "metadata": {},
   "outputs": [
    {
     "name": "stdout",
     "output_type": "stream",
     "text": [
      "  Rk         Player Pos Age   Tm   G  GS    MP   FG  FGA  ...   FT%  ORB  DRB  \\\n",
      "0  1     Quincy Acy  PF  24  NYK  68  22  1287  152  331  ...  .784   79  222   \n",
      "1  2   Jordan Adams  SG  20  MEM  30   0   248   35   86  ...  .609    9   19   \n",
      "2  3   Steven Adams   C  21  OKC  70  67  1771  217  399  ...  .502  199  324   \n",
      "3  4    Jeff Adrien  PF  28  MIN  17   0   215   19   44  ...  .579   23   54   \n",
      "4  5  Arron Afflalo  SG  29  TOT  78  72  2502  375  884  ...  .843   27  220   \n",
      "\n",
      "   TRB  AST STL BLK  TOV   PF   PTS  \n",
      "0  301   68  27  22   60  147   398  \n",
      "1   28   16  16   7   14   24    94  \n",
      "2  523   66  38  86   99  222   537  \n",
      "3   77   15   4   9    9   30    60  \n",
      "4  247  129  41   7  116  167  1035  \n",
      "\n",
      "[5 rows x 30 columns]\n"
     ]
    }
   ],
   "source": [
    "# Displaying the first 5 rows of the DataFrame\n",
    "print(df.head())"
   ]
  },
  {
   "cell_type": "code",
   "execution_count": 15,
   "id": "9ab901a2-b868-4f03-8c6e-2d5e61479359",
   "metadata": {},
   "outputs": [
    {
     "name": "stdout",
     "output_type": "stream",
     "text": [
      "<class 'pandas.core.frame.DataFrame'>\n",
      "RangeIndex: 675 entries, 0 to 674\n",
      "Data columns (total 30 columns):\n",
      " #   Column  Non-Null Count  Dtype \n",
      "---  ------  --------------  ----- \n",
      " 0   Rk      675 non-null    object\n",
      " 1   Player  675 non-null    object\n",
      " 2   Pos     675 non-null    object\n",
      " 3   Age     675 non-null    object\n",
      " 4   Tm      675 non-null    object\n",
      " 5   G       675 non-null    object\n",
      " 6   GS      675 non-null    object\n",
      " 7   MP      675 non-null    object\n",
      " 8   FG      675 non-null    object\n",
      " 9   FGA     675 non-null    object\n",
      " 10  FG%     673 non-null    object\n",
      " 11  3P      675 non-null    object\n",
      " 12  3PA     675 non-null    object\n",
      " 13  3P%     594 non-null    object\n",
      " 14  2P      675 non-null    object\n",
      " 15  2PA     675 non-null    object\n",
      " 16  2P%     671 non-null    object\n",
      " 17  eFG%    673 non-null    object\n",
      " 18  FT      675 non-null    object\n",
      " 19  FTA     675 non-null    object\n",
      " 20  FT%     650 non-null    object\n",
      " 21  ORB     675 non-null    object\n",
      " 22  DRB     675 non-null    object\n",
      " 23  TRB     675 non-null    object\n",
      " 24  AST     675 non-null    object\n",
      " 25  STL     675 non-null    object\n",
      " 26  BLK     675 non-null    object\n",
      " 27  TOV     675 non-null    object\n",
      " 28  PF      675 non-null    object\n",
      " 29  PTS     675 non-null    object\n",
      "dtypes: object(30)\n",
      "memory usage: 158.3+ KB\n",
      "None\n"
     ]
    }
   ],
   "source": [
    "# Displaying information about the DataFrame\n",
    "print(df.info())"
   ]
  },
  {
   "cell_type": "code",
   "execution_count": 16,
   "id": "7df01a27-63b2-46fc-893d-04761fe5cc17",
   "metadata": {},
   "outputs": [
    {
     "name": "stdout",
     "output_type": "stream",
     "text": [
      "         Rk  Player  Pos  Age   Tm    G   GS   MP   FG  FGA  ...   FT%  ORB  \\\n",
      "count   675     675  675  675  675  675  675  675  675  675  ...   650  675   \n",
      "unique  493     493   12   21   32   84   81  557  327  458  ...   275  165   \n",
      "top      Rk  Player   SG   23  TOT   82    0   MP   FG  FGA  ...  .500    1   \n",
      "freq     24      24  145   86   76   27  179   24   24   24  ...    29   30   \n",
      "\n",
      "        DRB  TRB  AST  STL  BLK  TOV   PF  PTS  \n",
      "count   675  675  675  675  675  675  675  675  \n",
      "unique  293  350  249  119   98  177  214  463  \n",
      "top     DRB  TRB  AST    0    0  TOV   PF  PTS  \n",
      "freq     24   24   24   29   88   24   24   24  \n",
      "\n",
      "[4 rows x 30 columns]\n"
     ]
    }
   ],
   "source": [
    "# Generating descriptive statistics for the DataFrame\n",
    "print(df.describe())"
   ]
  },
  {
   "cell_type": "code",
   "execution_count": 18,
   "id": "09b747d2-635b-4793-a0f3-1e2421423d17",
   "metadata": {},
   "outputs": [
    {
     "name": "stdout",
     "output_type": "stream",
     "text": [
      "Empty DataFrame\n",
      "Columns: []\n",
      "Index: [19, 20, 21, 22, 23, 24, 25, 26, 27, 28, 29, 30, 31, 32, 33, 34, 35, 36, 37, 38, Age]\n"
     ]
    },
    {
     "name": "stderr",
     "output_type": "stream",
     "text": [
      "/tmp/ipykernel_77/4093167816.py:2: FutureWarning: The default value of numeric_only in DataFrameGroupBy.mean is deprecated. In a future version, numeric_only will default to False. Either specify numeric_only or select only columns which should be valid for the function.\n",
      "  grouped_data = df.groupby('Age').mean()\n"
     ]
    }
   ],
   "source": [
    "# Grouping the DataFrame by age column and calculating the mean for each group\n",
    "grouped_data = df.groupby('Age').mean()\n",
    "print(grouped_data)\n"
   ]
  },
  {
   "cell_type": "code",
   "execution_count": null,
   "id": "2b53de85-7040-47a1-9329-28e060f4cc6b",
   "metadata": {},
   "outputs": [],
   "source": []
  },
  {
   "cell_type": "markdown",
   "id": "16dce8da-ad62-453c-819e-c22180c24a88",
   "metadata": {},
   "source": [
    "# Question 2"
   ]
  },
  {
   "cell_type": "markdown",
   "id": "13770019-ce74-498f-982c-cff46983b00e",
   "metadata": {},
   "source": [
    "Given a Pandas DataFrame df with columns 'A', 'B', and 'C', write a Python function to re-index the\n",
    "DataFrame with a new index that starts from 1 and increments by 2 for each row."
   ]
  },
  {
   "cell_type": "code",
   "execution_count": 23,
   "id": "1debe0dd-b043-4581-b61d-d4a8a5f0b5bb",
   "metadata": {},
   "outputs": [
    {
     "name": "stdout",
     "output_type": "stream",
     "text": [
      "    A   B   C\n",
      "1  10  40  70\n",
      "3  20  50  80\n",
      "5  30  60  90\n"
     ]
    }
   ],
   "source": [
    "def reindex_dataframe(df):\n",
    "    # Create a new index starting from 1 and incrementing by 2\n",
    "    new_index = pd.RangeIndex(start=1, stop=len(df) * 2, step=2)\n",
    "\n",
    "    # Use set_index to re-index the DataFrame\n",
    "    df_reindexed = df.set_index(new_index)\n",
    "\n",
    "    return df_reindexed\n",
    "\n",
    "# Example usage:\n",
    "# Assuming df is original DataFrame with columns 'A', 'B', and 'C'\n",
    "df = pd.DataFrame({\n",
    "    'A': [10, 20, 30],\n",
    "    'B': [40, 50, 60],\n",
    "    'C': [70, 80, 90]\n",
    "})\n",
    "\n",
    "# Re-indexing the DataFrame\n",
    "df_reindexed = reindex_dataframe(df)\n",
    "\n",
    "# Displaying the re-indexed DataFrame\n",
    "print(df_reindexed)"
   ]
  },
  {
   "cell_type": "code",
   "execution_count": null,
   "id": "332103a7-8347-42e4-9636-66b0dd8050bc",
   "metadata": {},
   "outputs": [],
   "source": []
  },
  {
   "cell_type": "markdown",
   "id": "24da09bf-112a-4d7b-b798-57da71173070",
   "metadata": {},
   "source": [
    "# Question 3"
   ]
  },
  {
   "cell_type": "markdown",
   "id": "aada254a-d010-4d38-b3fd-a5206ae71f02",
   "metadata": {},
   "source": [
    "You have a Pandas DataFrame df with a column named 'Values'. Write a Python function that\n",
    "iterates over the DataFrame and calculates the sum of the first three values in the 'Values' column. The\n",
    "function should print the sum to the console."
   ]
  },
  {
   "cell_type": "code",
   "execution_count": 25,
   "id": "e2c28dd5-6b37-47d4-b371-2ff5423d190c",
   "metadata": {},
   "outputs": [
    {
     "name": "stdout",
     "output_type": "stream",
     "text": [
      "Sum of the first three values in 'Values' column: 60\n"
     ]
    }
   ],
   "source": [
    "def calculate_sum_of_first_three_values(df):\n",
    "    # Check if 'Values' column exists in the DataFrame\n",
    "    if 'Values' not in df.columns:\n",
    "        print(\"Error: 'Values' column not found in the DataFrame.\")\n",
    "        return\n",
    "\n",
    "    # Select the first three values in the 'Values' column\n",
    "    first_three_values = df['Values'].iloc[:3]\n",
    "\n",
    "    # Calculate the sum of the selected values\n",
    "    sum_of_first_three_values = first_three_values.sum()\n",
    "\n",
    "    # Print the result to the console\n",
    "    print(f\"Sum of the first three values in 'Values' column: {sum_of_first_three_values}\")\n",
    "\n",
    "# Example usage:\n",
    "# Assuming df is original DataFrame with the 'Values' column\n",
    "df = pd.DataFrame({\n",
    "    'Values': [10, 20, 30, 40, 50]\n",
    "})\n",
    "\n",
    "# Calling the function to calculate the sum\n",
    "calculate_sum_of_first_three_values(df)\n"
   ]
  },
  {
   "cell_type": "code",
   "execution_count": null,
   "id": "d8200969-f742-406a-8b3e-72e144b13a09",
   "metadata": {},
   "outputs": [],
   "source": []
  },
  {
   "cell_type": "markdown",
   "id": "7a3a40c4-d06f-4c5c-a701-7154f42eeedb",
   "metadata": {},
   "source": [
    "# Question 4 "
   ]
  },
  {
   "cell_type": "markdown",
   "id": "c4897593-f556-4465-a4c7-b606da18902e",
   "metadata": {},
   "source": [
    "Given a Pandas DataFrame df with a column 'Text', write a Python function to create a new column\n",
    "'Word_Count' that contains the number of words in each row of the 'Text' column."
   ]
  },
  {
   "cell_type": "code",
   "execution_count": 26,
   "id": "5726bce5-454c-4688-b009-4ca1b4b8abe8",
   "metadata": {},
   "outputs": [
    {
     "name": "stdout",
     "output_type": "stream",
     "text": [
      "                     Text  Word_Count\n",
      "0  This is a sample text.           5\n",
      "1   Count the words here.           4\n",
      "2        Another example.           2\n"
     ]
    }
   ],
   "source": [
    "def add_word_count_column(df):\n",
    "    # Check if 'Text' column exists in the DataFrame\n",
    "    if 'Text' not in df.columns:\n",
    "        print(\"Error: 'Text' column not found in the DataFrame.\")\n",
    "        return\n",
    "\n",
    "    # Create a new 'Word_Count' column by applying a lambda function\n",
    "    df['Word_Count'] = df['Text'].apply(lambda x: len(str(x).split()))\n",
    "\n",
    "# Example usage:\n",
    "# Assuming df is original DataFrame with the 'Text' column\n",
    "df = pd.DataFrame({\n",
    "    'Text': ['This is a sample text.', 'Count the words here.', 'Another example.']\n",
    "})\n",
    "\n",
    "# Calling the function to add the 'Word_Count' column\n",
    "add_word_count_column(df)\n",
    "\n",
    "# Displaying the DataFrame with the new 'Word_Count' column\n",
    "print(df)"
   ]
  },
  {
   "cell_type": "code",
   "execution_count": null,
   "id": "a7c69f0c-4ff2-41e6-b126-bb888db73d3c",
   "metadata": {},
   "outputs": [],
   "source": []
  },
  {
   "cell_type": "markdown",
   "id": "4db9ad69-5c73-453c-aff0-77cbb1d10d56",
   "metadata": {},
   "source": [
    "# Question 5"
   ]
  },
  {
   "cell_type": "markdown",
   "id": "113317cf-8ee8-4557-b344-3771707bef4d",
   "metadata": {},
   "source": [
    "How are DataFrame.size() and DataFrame.shape() different?"
   ]
  },
  {
   "cell_type": "code",
   "execution_count": 27,
   "id": "e25f4210-6e15-45fa-b725-c58514f16d74",
   "metadata": {},
   "outputs": [
    {
     "data": {
      "text/plain": [
       "'\\n\\nDataFrame.size() in pandas returns the total number of elements in a DataFrame, calculated as the product of its number of rows and columns. \\nOn the other hand, DataFrame.shape() returns a tuple representing the number of rows and columns in the DataFrame\\n'"
      ]
     },
     "execution_count": 27,
     "metadata": {},
     "output_type": "execute_result"
    }
   ],
   "source": [
    "'''\n",
    "\n",
    "DataFrame.size() in pandas returns the total number of elements in a DataFrame, calculated as the product of its number of rows and columns. \n",
    "On the other hand, DataFrame.shape() returns a tuple representing the number of rows and columns in the DataFrame\n",
    "'''"
   ]
  },
  {
   "cell_type": "code",
   "execution_count": null,
   "id": "d0317dca-08e6-40b1-9d84-7a8405e86c49",
   "metadata": {},
   "outputs": [],
   "source": []
  },
  {
   "cell_type": "markdown",
   "id": "a7e1c23a-75c3-4c2b-93f1-752be111b917",
   "metadata": {},
   "source": [
    "# Question 6"
   ]
  },
  {
   "cell_type": "markdown",
   "id": "039e2819-5232-4a61-9387-d96f628c2f9e",
   "metadata": {},
   "source": [
    "Which function of pandas do we use to read an excel file?"
   ]
  },
  {
   "cell_type": "code",
   "execution_count": 28,
   "id": "4b68c929-7443-4126-aaa8-f574671c02c4",
   "metadata": {},
   "outputs": [
    {
     "data": {
      "text/plain": [
       "\"\\nIn pandas, the function used to read an Excel file is pd.read_excel(). \\nThis function allows you to read data from an Excel file and create a DataFrame, \\nproviding various parameters for customization based on the Excel file's structure and content.\\n\""
      ]
     },
     "execution_count": 28,
     "metadata": {},
     "output_type": "execute_result"
    }
   ],
   "source": [
    "'''\n",
    "In pandas, the function used to read an Excel file is pd.read_excel(). \n",
    "This function allows you to read data from an Excel file and create a DataFrame, \n",
    "providing various parameters for customization based on the Excel file's structure and content.\n",
    "'''"
   ]
  },
  {
   "cell_type": "code",
   "execution_count": null,
   "id": "9df4b74d-4e12-4c02-aaf7-bcfbd573e9ce",
   "metadata": {},
   "outputs": [],
   "source": []
  },
  {
   "cell_type": "markdown",
   "id": "20de1077-dae4-4e12-80e4-4692388e8162",
   "metadata": {},
   "source": [
    "# Question 7"
   ]
  },
  {
   "cell_type": "markdown",
   "id": "c21229be-b202-404d-a232-bec7de10f054",
   "metadata": {},
   "source": [
    "You have a Pandas DataFrame df that contains a column named 'Email' that contains email\n",
    "addresses in the format 'username@domain.com'. Write a Python function that creates a new column\n",
    "'Username' in df that contains only the username part of each email address."
   ]
  },
  {
   "cell_type": "code",
   "execution_count": 30,
   "id": "f86e0ab1-2432-4d2a-93ad-f9d4aebe7e17",
   "metadata": {},
   "outputs": [
    {
     "name": "stdout",
     "output_type": "stream",
     "text": [
      "                    Email    Username\n",
      "0    john.doe@example.com    john.doe\n",
      "1  jane.smith@example.com  jane.smith\n",
      "2   bob.jones@example.com   bob.jones\n"
     ]
    }
   ],
   "source": [
    "def extract_username(df):\n",
    "    # Check if 'Email' column exists in the DataFrame\n",
    "    if 'Email' not in df.columns:\n",
    "        print(\"Error: 'Email' column not found in the DataFrame.\")\n",
    "        return\n",
    "\n",
    "    # Extract the username from the 'Email' column and create a new 'Username' column\n",
    "    df['Username'] = df['Email'].str.split('@').str.get(0)\n",
    "\n",
    "# Example usage:\n",
    "# Assuming df is original DataFrame with the 'Email' column\n",
    "df = pd.DataFrame({\n",
    "    'Email': ['john.doe@example.com', 'jane.smith@example.com', 'bob.jones@example.com']\n",
    "})\n",
    "\n",
    "# Calling the function to add the 'Username' column\n",
    "extract_username(df)\n",
    "\n",
    "# Displaying the DataFrame with the new 'Username' column\n",
    "print(df)"
   ]
  },
  {
   "cell_type": "code",
   "execution_count": null,
   "id": "f123e5a6-4333-42d4-ac4d-96c37a784e39",
   "metadata": {},
   "outputs": [],
   "source": []
  },
  {
   "cell_type": "markdown",
   "id": "352d9b99-2a64-4dad-ae81-d8d6e5078f9e",
   "metadata": {},
   "source": [
    "# Question 8"
   ]
  },
  {
   "cell_type": "markdown",
   "id": "41087306-99b1-4cee-9995-bcf5fa825d1b",
   "metadata": {},
   "source": [
    "You have a Pandas DataFrame df with columns 'A', 'B', and 'C'. Write a Python function that selects\n",
    "all rows where the value in column 'A' is greater than 5 and the value in column 'B' is less than 10. The\n",
    "function should return a new DataFrame that contains only the selected rows.\n",
    "\n",
    "For example, if df contains the following values:\n",
    "\n",
    "A B C\n",
    "\n",
    "0 3 5 1\n",
    "\n",
    "1 8 2 7\n",
    "\n",
    "2 6 9 4\n",
    "\n",
    "3 2 3 5\n",
    "\n",
    "4 9 1 2\n",
    "\n",
    "1 8 2 7\n",
    "\n",
    "4 9 1 2\n",
    "\n",
    "Your function should select the following rows: A B C\n",
    "\n",
    "The function should return a new DataFrame that contains only the selected rows."
   ]
  },
  {
   "cell_type": "code",
   "execution_count": 31,
   "id": "4c7ea9a0-dd1b-46aa-8bd8-89650eff37ec",
   "metadata": {},
   "outputs": [
    {
     "name": "stdout",
     "output_type": "stream",
     "text": [
      "   A  B  C\n",
      "1  8  2  7\n",
      "2  6  9  4\n",
      "4  9  1  2\n",
      "5  8  2  7\n",
      "6  9  1  2\n"
     ]
    }
   ],
   "source": [
    "def select_rows_condition(df):\n",
    "    # Check if columns 'A' and 'B' exist in the DataFrame\n",
    "    if 'A' not in df.columns or 'B' not in df.columns:\n",
    "        print(\"Error: Columns 'A' and 'B' are required in the DataFrame.\")\n",
    "        return None\n",
    "\n",
    "    # Use boolean indexing to select rows based on the conditions\n",
    "    selected_rows = df[(df['A'] > 5) & (df['B'] < 10)]\n",
    "\n",
    "    return selected_rows\n",
    "\n",
    "# Example usage:\n",
    "# Assuming df is original DataFrame with columns 'A', 'B', and 'C'\n",
    "df = pd.DataFrame({\n",
    "    'A': [3, 8, 6, 2, 9, 8, 9],\n",
    "    'B': [5, 2, 9, 3, 1, 2, 1],\n",
    "    'C': [1, 7, 4, 5, 2, 7, 2]\n",
    "})\n",
    "\n",
    "# Calling the function to select rows based on the conditions\n",
    "selected_df = select_rows_condition(df)\n",
    "\n",
    "# Displaying the new DataFrame with selected rows\n",
    "print(selected_df)\n"
   ]
  },
  {
   "cell_type": "code",
   "execution_count": null,
   "id": "31604d7e-07ee-4fd2-aa04-fd29e1a0b330",
   "metadata": {},
   "outputs": [],
   "source": []
  },
  {
   "cell_type": "markdown",
   "id": "2169e6a8-bb87-4621-b04a-f69c8beee319",
   "metadata": {},
   "source": [
    "# Question 9"
   ]
  },
  {
   "cell_type": "markdown",
   "id": "b256f834-5cb0-454f-bb63-799ed150dce1",
   "metadata": {},
   "source": [
    "Given a Pandas DataFrame df with a column 'Values', write a Python function to calculate the mean,\n",
    "median, and standard deviation of the values in the 'Values' column."
   ]
  },
  {
   "cell_type": "code",
   "execution_count": 32,
   "id": "ee4b35a1-84ad-435e-b680-bc2011bf4b74",
   "metadata": {},
   "outputs": [
    {
     "name": "stdout",
     "output_type": "stream",
     "text": [
      "Mean: 20.0\n",
      "Median: 20.0\n",
      "Standard Deviation: 7.905694150420948\n"
     ]
    }
   ],
   "source": [
    "def calculate_statistics(df):\n",
    "    # Check if 'Values' column exists in the DataFrame\n",
    "    if 'Values' not in df.columns:\n",
    "        print(\"Error: 'Values' column not found in the DataFrame.\")\n",
    "        return None\n",
    "\n",
    "    # Calculate mean, median, and standard deviation\n",
    "    mean_value = df['Values'].mean()\n",
    "    median_value = df['Values'].median()\n",
    "    std_deviation = df['Values'].std()\n",
    "\n",
    "    # Display the results\n",
    "    print(\"Mean:\", mean_value)\n",
    "    print(\"Median:\", median_value)\n",
    "    print(\"Standard Deviation:\", std_deviation)\n",
    "\n",
    "# Example usage:\n",
    "# Assuming df is original DataFrame with the 'Values' column\n",
    "df = pd.DataFrame({\n",
    "    'Values': [10, 15, 20, 25, 30]\n",
    "})\n",
    "\n",
    "# Calling the function to calculate statistics\n",
    "calculate_statistics(df)"
   ]
  },
  {
   "cell_type": "code",
   "execution_count": null,
   "id": "7b227d6b-e3a0-4672-a8f8-eb1f27bad0e5",
   "metadata": {},
   "outputs": [],
   "source": []
  },
  {
   "cell_type": "markdown",
   "id": "e2099b23-2e1d-4366-b314-221e8d2a9c64",
   "metadata": {},
   "source": [
    "# Question 10"
   ]
  },
  {
   "cell_type": "markdown",
   "id": "30326f0d-88d6-4fef-a3e8-2585c5f304ae",
   "metadata": {},
   "source": [
    "Given a Pandas DataFrame df with a column 'Sales' and a column 'Date', write a Python function to\n",
    "create a new column 'MovingAverage' that contains the moving average of the sales for the past 7 days\n",
    "for each row in the DataFrame. The moving average should be calculated using a window of size 7 and\n",
    "should include the current day."
   ]
  },
  {
   "cell_type": "code",
   "execution_count": 34,
   "id": "0bdf5b59-ee19-4514-a369-9bfa76c22660",
   "metadata": {},
   "outputs": [
    {
     "name": "stdout",
     "output_type": "stream",
     "text": [
      "   Sales       Date  MovingAverage\n",
      "0     10 2022-01-01           10.0\n",
      "1     15 2022-01-02           12.5\n",
      "2     20 2022-01-03           15.0\n",
      "3     25 2022-01-04           17.5\n",
      "4     30 2022-01-05           20.0\n",
      "5     35 2022-01-06           22.5\n",
      "6     40 2022-01-07           25.0\n",
      "7     45 2022-01-08           30.0\n",
      "8     50 2022-01-09           35.0\n"
     ]
    }
   ],
   "source": [
    "def calculate_moving_average(df):\n",
    "    # Check if 'Sales' and 'Date' columns exist in the DataFrame\n",
    "    if 'Sales' not in df.columns or 'Date' not in df.columns:\n",
    "        print(\"Error: 'Sales' and 'Date' columns are required in the DataFrame.\")\n",
    "        return None\n",
    "\n",
    "    # Sort the DataFrame based on the 'Date' column\n",
    "    df = df.sort_values(by='Date')\n",
    "\n",
    "    # Calculate the moving average with a window size of 7\n",
    "    df['MovingAverage'] = df['Sales'].rolling(window=7, min_periods=1).mean()\n",
    "\n",
    "    return df\n",
    "\n",
    "# Example usage:\n",
    "# Assuming df is original DataFrame with 'Sales' and 'Date' columns\n",
    "df = pd.DataFrame({\n",
    "    'Sales': [10, 15, 20, 25, 30, 35, 40, 45, 50],\n",
    "    'Date': pd.date_range('2022-01-01', periods=9)\n",
    "})\n",
    "\n",
    "# Calling the function to calculate moving average\n",
    "df = calculate_moving_average(df)\n",
    "\n",
    "# Displaying the DataFrame with the new 'MovingAverage' column\n",
    "print(df)"
   ]
  },
  {
   "cell_type": "code",
   "execution_count": null,
   "id": "cb2a9345-dbc3-4155-b4a7-52a15699c281",
   "metadata": {},
   "outputs": [],
   "source": []
  },
  {
   "cell_type": "markdown",
   "id": "6a2f5ff1-11b1-409b-9da2-263f713315fb",
   "metadata": {},
   "source": [
    "# Question 11"
   ]
  },
  {
   "cell_type": "markdown",
   "id": "91ff5839-f7ec-41ee-a474-53bcc101f9be",
   "metadata": {},
   "source": [
    "You have a Pandas DataFrame df with a column 'Date'. Write a Python function that creates a new\n",
    "column 'Weekday' in the DataFrame. The 'Weekday' column should contain the weekday name (e.g.\n",
    "Monday, Tuesday) corresponding to each date in the 'Date' column.\n",
    "\n",
    "For example, if df contains the following values:\n",
    "\n",
    "    Date\n",
    "0 2023-01-01\n",
    "\n",
    "1 2023-01-02\n",
    "\n",
    "2 2023-01-03\n",
    "\n",
    "3 2023-01-04\n",
    "\n",
    "4 2023-01-05\n",
    "\n",
    "Your function should create the following DataFrame:\n",
    "\n",
    "        Date Weekday\n",
    "        \n",
    "0 2023-01-01 Sunday\n",
    "\n",
    "1 2023-01-02 Monday\n",
    "\n",
    "2 2023-01-03 Tuesday\n",
    "\n",
    "3 2023-01-04 Wednesday\n",
    "\n",
    "4 2023-01-05 Thursday\n",
    "\n",
    "The function should return the modified DataFrame."
   ]
  },
  {
   "cell_type": "code",
   "execution_count": 35,
   "id": "7ed3b184-9578-4aff-a2c3-887325d24a21",
   "metadata": {},
   "outputs": [
    {
     "name": "stdout",
     "output_type": "stream",
     "text": [
      "        Date    Weekday\n",
      "0 2023-01-01     Sunday\n",
      "1 2023-01-02     Monday\n",
      "2 2023-01-03    Tuesday\n",
      "3 2023-01-04  Wednesday\n",
      "4 2023-01-05   Thursday\n"
     ]
    }
   ],
   "source": [
    "def add_weekday_column(df):\n",
    "    # Check if 'Date' column exists in the DataFrame\n",
    "    if 'Date' not in df.columns:\n",
    "        print(\"Error: 'Date' column not found in the DataFrame.\")\n",
    "        return None\n",
    "\n",
    "    # Convert 'Date' column to datetime if it's not already\n",
    "    df['Date'] = pd.to_datetime(df['Date'])\n",
    "\n",
    "    # Create a new 'Weekday' column with weekday names\n",
    "    df['Weekday'] = df['Date'].dt.day_name()\n",
    "\n",
    "    return df\n",
    "\n",
    "# Example usage:\n",
    "# Assuming df is original DataFrame with the 'Date' column\n",
    "df = pd.DataFrame({\n",
    "    'Date': ['2023-01-01', '2023-01-02', '2023-01-03', '2023-01-04', '2023-01-05']\n",
    "})\n",
    "\n",
    "# Calling the function to add the 'Weekday' column\n",
    "df = add_weekday_column(df)\n",
    "\n",
    "# Displaying the modified DataFrame with the new 'Weekday' column\n",
    "print(df)"
   ]
  },
  {
   "cell_type": "code",
   "execution_count": null,
   "id": "509395ba-c0c5-418b-970a-64d732fd30b5",
   "metadata": {},
   "outputs": [],
   "source": []
  },
  {
   "cell_type": "markdown",
   "id": "09a965a7-2965-44d2-a251-85f1a22e093c",
   "metadata": {},
   "source": [
    "# Question 12"
   ]
  },
  {
   "cell_type": "markdown",
   "id": "ab21fdfd-a0d7-4d58-9840-327e76679ffc",
   "metadata": {},
   "source": [
    "Given a Pandas DataFrame df with a column 'Date' that contains timestamps, write a Python\n",
    "function to select all rows where the date is between '2023-01-01' and '2023-01-31'."
   ]
  },
  {
   "cell_type": "code",
   "execution_count": 36,
   "id": "9cae3e60-91fb-4052-905f-d5824d0eef5f",
   "metadata": {},
   "outputs": [
    {
     "name": "stdout",
     "output_type": "stream",
     "text": [
      "        Date\n",
      "0 2023-01-05\n",
      "1 2023-01-15\n",
      "2 2023-01-25\n"
     ]
    }
   ],
   "source": [
    "def select_rows_in_date_range(df):\n",
    "    # Check if 'Date' column exists in the DataFrame\n",
    "    if 'Date' not in df.columns:\n",
    "        print(\"Error: 'Date' column not found in the DataFrame.\")\n",
    "        return None\n",
    "\n",
    "    # Convert 'Date' column to datetime if it's not already\n",
    "    df['Date'] = pd.to_datetime(df['Date'])\n",
    "\n",
    "    # Specify the date range\n",
    "    start_date = '2023-01-01'\n",
    "    end_date = '2023-01-31'\n",
    "\n",
    "    # Use boolean indexing to select rows within the date range\n",
    "    selected_rows = df[(df['Date'] >= start_date) & (df['Date'] <= end_date)]\n",
    "\n",
    "    return selected_rows\n",
    "\n",
    "# Example usage:\n",
    "# Assuming df is original DataFrame with the 'Date' column\n",
    "df = pd.DataFrame({\n",
    "    'Date': ['2023-01-05', '2023-01-15', '2023-01-25', '2023-02-05', '2023-02-15']\n",
    "})\n",
    "\n",
    "# Calling the function to select rows in the specified date range\n",
    "selected_df = select_rows_in_date_range(df)\n",
    "\n",
    "# Displaying the DataFrame with selected rows\n",
    "print(selected_df)"
   ]
  },
  {
   "cell_type": "code",
   "execution_count": null,
   "id": "f88e7a7b-02a1-466d-9508-2e8e371dbb72",
   "metadata": {},
   "outputs": [],
   "source": []
  },
  {
   "cell_type": "markdown",
   "id": "78030d62-8130-41af-802f-c21a8b35371a",
   "metadata": {},
   "source": [
    "# Question 13"
   ]
  },
  {
   "cell_type": "markdown",
   "id": "1fd7f35f-a4fb-4e91-938a-8ac19d1fa148",
   "metadata": {},
   "source": [
    "To use the basic functions of pandas, what is the first and foremost necessary library that needs to\n",
    "be imported?"
   ]
  },
  {
   "cell_type": "code",
   "execution_count": 37,
   "id": "a4998f4b-c963-4744-aefc-c4d092e68112",
   "metadata": {},
   "outputs": [
    {
     "data": {
      "text/plain": [
       "'\\nto use the basic functions of pandas, the first and formost nesessary libraty which is needs to be installed is known as pandas.\\npandas helps to provide essential data structures like DataFrames and Series, \\nalong with a wide range of functions for data manipulation, analysis, and exploration in Python.\\n'"
      ]
     },
     "execution_count": 37,
     "metadata": {},
     "output_type": "execute_result"
    }
   ],
   "source": [
    "'''\n",
    "to use the basic functions of pandas, the first and formost nesessary libraty which is needs to be installed is known as pandas.\n",
    "pandas helps to provide essential data structures like DataFrames and Series, \n",
    "along with a wide range of functions for data manipulation, analysis, and exploration in Python.\n",
    "'''"
   ]
  },
  {
   "cell_type": "code",
   "execution_count": null,
   "id": "da71f0cc-5c07-4c13-aa6c-098b7ea74455",
   "metadata": {},
   "outputs": [],
   "source": []
  }
 ],
 "metadata": {
  "kernelspec": {
   "display_name": "Python 3 (ipykernel)",
   "language": "python",
   "name": "python3"
  },
  "language_info": {
   "codemirror_mode": {
    "name": "ipython",
    "version": 3
   },
   "file_extension": ".py",
   "mimetype": "text/x-python",
   "name": "python",
   "nbconvert_exporter": "python",
   "pygments_lexer": "ipython3",
   "version": "3.10.8"
  }
 },
 "nbformat": 4,
 "nbformat_minor": 5
}
