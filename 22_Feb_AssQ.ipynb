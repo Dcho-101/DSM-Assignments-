{
 "cells": [
  {
   "cell_type": "markdown",
   "id": "b32e0efb-f38e-4f68-9852-0b410a9cf4ed",
   "metadata": {},
   "source": [
    "# Question 1"
   ]
  },
  {
   "cell_type": "markdown",
   "id": "2ed65aed-e3c0-4186-ba2f-d6d4ff9ae31a",
   "metadata": {},
   "source": [
    "Create a Pandas Series that contains the following data: 4, 8, 15, 16, 23, and 42. Then, print the series."
   ]
  },
  {
   "cell_type": "code",
   "execution_count": 2,
   "id": "0628a92c-a6e1-4d02-b561-7dbd69ed0008",
   "metadata": {},
   "outputs": [],
   "source": [
    "# first importing the library\n",
    "\n",
    "import pandas as pd\n",
    "\n",
    "# data stored in the data variable\n",
    "data = [4,8,15,16,23,42]\n",
    "\n",
    "# creating series\n",
    "pandas_series = pd.Series(data)"
   ]
  },
  {
   "cell_type": "code",
   "execution_count": 3,
   "id": "262eb1c8-8b42-4a64-967e-cd4cbb6ca716",
   "metadata": {},
   "outputs": [
    {
     "data": {
      "text/plain": [
       "0     4\n",
       "1     8\n",
       "2    15\n",
       "3    16\n",
       "4    23\n",
       "5    42\n",
       "dtype: int64"
      ]
     },
     "execution_count": 3,
     "metadata": {},
     "output_type": "execute_result"
    }
   ],
   "source": [
    "pandas_series"
   ]
  },
  {
   "cell_type": "code",
   "execution_count": null,
   "id": "729e8ba0-c7cf-4de8-9e79-1c61b0724b41",
   "metadata": {},
   "outputs": [],
   "source": []
  },
  {
   "cell_type": "markdown",
   "id": "4bcd2133-4a84-48db-bbf7-a8c07b8b98d6",
   "metadata": {},
   "source": [
    "# Question 2"
   ]
  },
  {
   "cell_type": "markdown",
   "id": "c6546332-b801-4768-a964-b82891361eab",
   "metadata": {},
   "source": [
    "Create a variable of list type containing 10 elements in it, and apply pandas.Series function on the\n",
    "variable print it"
   ]
  },
  {
   "cell_type": "code",
   "execution_count": 5,
   "id": "fef4f3fd-22de-48f4-90d6-579affca00cd",
   "metadata": {},
   "outputs": [
    {
     "data": {
      "text/plain": [
       "0     2\n",
       "1     5\n",
       "2     4\n",
       "3    76\n",
       "4     9\n",
       "5     5\n",
       "6     8\n",
       "7    12\n",
       "8     3\n",
       "9    77\n",
       "dtype: int64"
      ]
     },
     "execution_count": 5,
     "metadata": {},
     "output_type": "execute_result"
    }
   ],
   "source": [
    "# creating variable\n",
    "\n",
    "variable = [2,5,4,76,9,5,8,12,3,77]\n",
    "\n",
    "# applying pandas series on the variable\n",
    "\n",
    "pd.Series(variable)"
   ]
  },
  {
   "cell_type": "code",
   "execution_count": null,
   "id": "2960f73d-90c6-40e1-81f5-f79f7b2976bc",
   "metadata": {},
   "outputs": [],
   "source": []
  },
  {
   "cell_type": "markdown",
   "id": "ad877ea0-4684-489d-b4ae-f493ace53e38",
   "metadata": {},
   "source": [
    "# Question 3"
   ]
  },
  {
   "cell_type": "markdown",
   "id": "9cb73796-99e3-4039-a9a4-15f5c41dfcbb",
   "metadata": {},
   "source": [
    "Create a Pandas DataFrame that contains the following data\n",
    "\n",
    "Name:\n",
    "Alice\n",
    "Bob\n",
    "Claire\n",
    "\n",
    "Age:\n",
    "25\n",
    "30\n",
    "27\n",
    "\n",
    "Gender:\n",
    "Female\n",
    "Male\n",
    "Female"
   ]
  },
  {
   "cell_type": "code",
   "execution_count": 7,
   "id": "d51f3612-1b88-4b33-98f0-4f8db78fc3a9",
   "metadata": {},
   "outputs": [],
   "source": [
    "# creating dictionary for the data\n",
    "\n",
    "data = {\n",
    "    'Name' : ['Alice', 'Bob', 'Claire'],\n",
    "    'Age' : [25,30,27],\n",
    "    'Gender' : ['Female', 'Male', 'Female']\n",
    "}"
   ]
  },
  {
   "cell_type": "code",
   "execution_count": 9,
   "id": "fe193e42-a5b1-4431-82c5-f808138a8927",
   "metadata": {},
   "outputs": [],
   "source": [
    "# creating series and storing into variable\n",
    "df = pd.Series(data)"
   ]
  },
  {
   "cell_type": "code",
   "execution_count": 10,
   "id": "ee9f7130-96cf-4bf2-b82c-b1cb025a468f",
   "metadata": {},
   "outputs": [
    {
     "data": {
      "text/plain": [
       "Name        [Alice, Bob, Claire]\n",
       "Age                 [25, 30, 27]\n",
       "Gender    [Female, Male, Female]\n",
       "dtype: object"
      ]
     },
     "execution_count": 10,
     "metadata": {},
     "output_type": "execute_result"
    }
   ],
   "source": [
    "df"
   ]
  },
  {
   "cell_type": "code",
   "execution_count": null,
   "id": "1a3ba94b-2d31-4ae8-904a-2000175b452b",
   "metadata": {},
   "outputs": [],
   "source": []
  },
  {
   "cell_type": "markdown",
   "id": "1b6ee2a8-2605-4e1d-89f3-2a7c8bd06c9f",
   "metadata": {},
   "source": [
    "# Question 4"
   ]
  },
  {
   "cell_type": "markdown",
   "id": "c266482d-af32-4a5a-b472-b0ce862695c1",
   "metadata": {},
   "source": [
    "What is ‘DataFrame’ in pandas and how is it different from pandas.series? Explain with an example."
   ]
  },
  {
   "cell_type": "code",
   "execution_count": 11,
   "id": "eae4ada1-883d-459a-a9f0-233623e1ee8a",
   "metadata": {},
   "outputs": [
    {
     "name": "stdout",
     "output_type": "stream",
     "text": [
      "DataFrame:\n",
      "     Name  Age  Gender\n",
      "0   Alice   25  Female\n",
      "1     Bob   30    Male\n",
      "2  Claire   27  Female\n",
      "\n",
      "Series:\n",
      "0    25\n",
      "1    30\n",
      "2    27\n",
      "Name: Age, dtype: int64\n"
     ]
    }
   ],
   "source": [
    "'''\n",
    "\n",
    "In Pandas, a DataFrame is a two-dimensional labeled data structure that is widely used for data manipulation and analysis. \n",
    "It consists of rows and columns,\n",
    "\n",
    "On the other hand, a Pandas Series is a one-dimensional labeled array that can hold any data type.\n",
    "'''\n",
    "\n",
    "# Example\n",
    "\n",
    "# creating dictionary for the data\n",
    "\n",
    "data = {\n",
    "    'Name' : ['Alice', 'Bob', 'Claire'],\n",
    "    'Age' : [25,30,27],\n",
    "    'Gender' : ['Female', 'Male', 'Female']\n",
    "}\n",
    "\n",
    "# creating dataframe\n",
    "df = pd.DataFrame(data)\n",
    "\n",
    "# Creating a Series\n",
    "ages = pd.Series([25, 30, 27], name='Age')\n",
    "\n",
    "# Printing the DataFrame and Series\n",
    "print(\"DataFrame:\")\n",
    "print(df)\n",
    "print(\"\\nSeries:\")\n",
    "print(ages)"
   ]
  },
  {
   "cell_type": "code",
   "execution_count": null,
   "id": "20d09d20-64f2-4836-ab35-ea6b8dbc854d",
   "metadata": {},
   "outputs": [],
   "source": []
  },
  {
   "cell_type": "markdown",
   "id": "30b70006-dc0c-42d5-9dba-6075e706626d",
   "metadata": {},
   "source": [
    "# Question 5"
   ]
  },
  {
   "cell_type": "markdown",
   "id": "1df3c5ab-cff1-44d5-915b-5386b2ee86d5",
   "metadata": {},
   "source": [
    "What are some common functions you can use to manipulate data in a Pandas DataFrame? Can\n",
    "you give an example of when you might use one of these functions?"
   ]
  },
  {
   "cell_type": "code",
   "execution_count": 12,
   "id": "c0a3ca2c-2166-49e1-b9c4-43b243415f55",
   "metadata": {},
   "outputs": [
    {
     "data": {
      "text/plain": [
       "'\\nthere are some common function available for manipulation of the dataset\\nhead(), describe(),info(),mean(), sum(), min(), max(), groupby(), sort_values(), filter(), drop(), rename(), pivot_table(), etc.\\n'"
      ]
     },
     "execution_count": 12,
     "metadata": {},
     "output_type": "execute_result"
    }
   ],
   "source": [
    "'''\n",
    "there are some common function available for manipulation of the dataset\n",
    "head(), describe(),info(),mean(), sum(), min(), max(), groupby(), sort_values(), filter(), drop(), rename(), pivot_table(), etc.\n",
    "'''"
   ]
  },
  {
   "cell_type": "code",
   "execution_count": null,
   "id": "d55e72ac-c2ad-4433-a821-e4e616407c66",
   "metadata": {},
   "outputs": [],
   "source": []
  },
  {
   "cell_type": "markdown",
   "id": "fafdb132-641b-43c0-b9dc-32cd429e8b48",
   "metadata": {},
   "source": [
    "# Question 6"
   ]
  },
  {
   "cell_type": "markdown",
   "id": "de57b25c-9fd8-49c1-bd1d-b1354dfadd03",
   "metadata": {},
   "source": [
    "Which of the following is mutable in nature Series, DataFrame, Panel?"
   ]
  },
  {
   "cell_type": "code",
   "execution_count": 13,
   "id": "8ddb5378-d4f5-4e14-b18d-9032ab435568",
   "metadata": {},
   "outputs": [
    {
     "data": {
      "text/plain": [
       "'\\nIn Pandas, both Series and DataFrame are mutable in nature, it allows to modify their content after creation.\\non the other hand, the concept of a Panel has been deprecated in recent versions of Pandas, \\nand its functionality has been incorporated into the DataFrame. \\n'"
      ]
     },
     "execution_count": 13,
     "metadata": {},
     "output_type": "execute_result"
    }
   ],
   "source": [
    "'''\n",
    "In Pandas, both Series and DataFrame are mutable in nature, it allows to modify their content after creation.\n",
    "on the other hand, the concept of a Panel has been deprecated in recent versions of Pandas, \n",
    "and its functionality has been incorporated into the DataFrame. \n",
    "'''"
   ]
  },
  {
   "cell_type": "code",
   "execution_count": null,
   "id": "5e497898-68ab-4a6c-82f3-e6730866c095",
   "metadata": {},
   "outputs": [],
   "source": []
  },
  {
   "cell_type": "markdown",
   "id": "6023f323-75fc-4c34-a457-bd52001b122f",
   "metadata": {},
   "source": [
    "# Question 7"
   ]
  },
  {
   "cell_type": "markdown",
   "id": "07f4a3a3-943d-4e5c-83f3-91600c24e978",
   "metadata": {},
   "source": [
    "Create a DataFrame using multiple Series. Explain with an example."
   ]
  },
  {
   "cell_type": "code",
   "execution_count": 14,
   "id": "41db3b96-4bb6-4797-93af-428bb94b3808",
   "metadata": {},
   "outputs": [],
   "source": [
    "# Creating multiple Series\n",
    "\n",
    "names = pd.Series(['Alice', 'Bob', 'Charlie'])\n",
    "ages = pd.Series([25, 30, 35])\n",
    "cities = pd.Series(['New York', 'San Francisco', 'Los Angeles'])\n",
    "\n",
    "# Combining Series into a dictionary\n",
    "data = {\n",
    "    'Name': names,\n",
    "    'Age': ages,\n",
    "    'City': cities\n",
    "}\n",
    "\n",
    "# Creating a DataFrame from the dictionary\n",
    "df = pd.DataFrame(data)"
   ]
  },
  {
   "cell_type": "code",
   "execution_count": 15,
   "id": "363eaa3a-c72f-4412-a15e-70e70ceff882",
   "metadata": {},
   "outputs": [
    {
     "data": {
      "text/html": [
       "<div>\n",
       "<style scoped>\n",
       "    .dataframe tbody tr th:only-of-type {\n",
       "        vertical-align: middle;\n",
       "    }\n",
       "\n",
       "    .dataframe tbody tr th {\n",
       "        vertical-align: top;\n",
       "    }\n",
       "\n",
       "    .dataframe thead th {\n",
       "        text-align: right;\n",
       "    }\n",
       "</style>\n",
       "<table border=\"1\" class=\"dataframe\">\n",
       "  <thead>\n",
       "    <tr style=\"text-align: right;\">\n",
       "      <th></th>\n",
       "      <th>Name</th>\n",
       "      <th>Age</th>\n",
       "      <th>City</th>\n",
       "    </tr>\n",
       "  </thead>\n",
       "  <tbody>\n",
       "    <tr>\n",
       "      <th>0</th>\n",
       "      <td>Alice</td>\n",
       "      <td>25</td>\n",
       "      <td>New York</td>\n",
       "    </tr>\n",
       "    <tr>\n",
       "      <th>1</th>\n",
       "      <td>Bob</td>\n",
       "      <td>30</td>\n",
       "      <td>San Francisco</td>\n",
       "    </tr>\n",
       "    <tr>\n",
       "      <th>2</th>\n",
       "      <td>Charlie</td>\n",
       "      <td>35</td>\n",
       "      <td>Los Angeles</td>\n",
       "    </tr>\n",
       "  </tbody>\n",
       "</table>\n",
       "</div>"
      ],
      "text/plain": [
       "      Name  Age           City\n",
       "0    Alice   25       New York\n",
       "1      Bob   30  San Francisco\n",
       "2  Charlie   35    Los Angeles"
      ]
     },
     "execution_count": 15,
     "metadata": {},
     "output_type": "execute_result"
    }
   ],
   "source": [
    "df"
   ]
  },
  {
   "cell_type": "code",
   "execution_count": null,
   "id": "e58171e6-b3bc-4724-98dc-1e5a4aa7156a",
   "metadata": {},
   "outputs": [],
   "source": []
  }
 ],
 "metadata": {
  "kernelspec": {
   "display_name": "Python 3 (ipykernel)",
   "language": "python",
   "name": "python3"
  },
  "language_info": {
   "codemirror_mode": {
    "name": "ipython",
    "version": 3
   },
   "file_extension": ".py",
   "mimetype": "text/x-python",
   "name": "python",
   "nbconvert_exporter": "python",
   "pygments_lexer": "ipython3",
   "version": "3.10.8"
  }
 },
 "nbformat": 4,
 "nbformat_minor": 5
}
