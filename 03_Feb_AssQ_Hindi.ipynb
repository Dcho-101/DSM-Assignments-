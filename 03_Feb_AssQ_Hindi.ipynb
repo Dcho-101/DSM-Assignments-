{
 "cells": [
  {
   "cell_type": "markdown",
   "id": "819b0ce8-6e9e-4bae-a0a1-106975075d7f",
   "metadata": {},
   "source": [
    "# Question 1"
   ]
  },
  {
   "cell_type": "markdown",
   "id": "58d59e3e-6cde-45bd-ae45-33b177d4f29f",
   "metadata": {},
   "source": [
    "Which keyword is used to create a function? Create a function to return a list of odd numbers in the\n",
    "range of 1 to 25."
   ]
  },
  {
   "cell_type": "code",
   "execution_count": 18,
   "id": "7216ca65-f61f-41c1-9fe9-24bdec1ade1f",
   "metadata": {},
   "outputs": [
    {
     "name": "stdout",
     "output_type": "stream",
     "text": [
      "List of odd numbers in the range of 1 to 25: [1, 3, 5, 7, 9, 11, 13, 15, 17, 19, 21, 23, 25]\n"
     ]
    }
   ],
   "source": [
    "\"\"\" 'def' keyword is used in python in order to create a function. \"\"\" \n",
    "\n",
    "# creating function for returning list of odd numbers\n",
    "def odd_nums() :\n",
    "    odd_list = [i for i in range(1,26) if i%2 != 0]\n",
    "    return odd_list\n",
    "\n",
    "# Display the result\n",
    "print(\"List of odd numbers in the range of 1 to 25:\", odd_nums())"
   ]
  },
  {
   "cell_type": "code",
   "execution_count": null,
   "id": "f2d39181-e95b-42de-be28-f6055d0235c2",
   "metadata": {},
   "outputs": [],
   "source": []
  },
  {
   "cell_type": "markdown",
   "id": "878c2ea9-c9e9-4271-a15a-a55b69ab9c6d",
   "metadata": {},
   "source": [
    "# Question 2"
   ]
  },
  {
   "cell_type": "markdown",
   "id": "740c047d-4716-4f19-9d64-2f81640f9e6f",
   "metadata": {},
   "source": [
    "Why *args and **kwargs is used in some functions? Create a function each for *args and **kwargs\n",
    "to demonstrate their use."
   ]
  },
  {
   "cell_type": "code",
   "execution_count": 22,
   "id": "f211cbbb-e69e-4fa6-bc38-201920e81864",
   "metadata": {},
   "outputs": [
    {
     "name": "stdout",
     "output_type": "stream",
     "text": [
      "Using *args, \n",
      "Sum of all numbers: 15\n",
      "\n",
      "Using **kwargs:\n",
      "name: John\n",
      "age: 25\n",
      "city: New York\n"
     ]
    }
   ],
   "source": [
    "\"\"\"In Python, *args and **kwargs are normally used in function definitions to allow the function to accept a variable number of arguments.\n",
    "\n",
    "*args is used to pass a variable number of non-keyword arguments to a function. \n",
    "It allows you to pass any number of arguments to the function without explicitly defining them.\n",
    "\n",
    "**kwargs is used to pass a variable number of keyword arguments to a function. \n",
    "It allows you to pass any number of keyword arguments to the function without explicitly defining them.\"\"\"\n",
    "\n",
    "# Function using *args\n",
    "def sum_all(*args):\n",
    "    total = sum(args)\n",
    "    return total\n",
    "\n",
    "# Function using **kwargs\n",
    "def print_kwargs(**kwargs):\n",
    "    for key, value in kwargs.items():\n",
    "        print(f\"{key}: {value}\")\n",
    "\n",
    "# Example usage\n",
    "result_sum = sum_all(1, 2, 3, 4, 5)\n",
    "print(\"Using *args, \\nSum of all numbers:\", result_sum)\n",
    "\n",
    "print(\"\\nUsing **kwargs:\")\n",
    "print_kwargs(name=\"John\", age=25, city=\"New York\")\n"
   ]
  },
  {
   "cell_type": "code",
   "execution_count": null,
   "id": "d717740f-061d-4c3c-bb29-0830579b6f57",
   "metadata": {},
   "outputs": [],
   "source": []
  },
  {
   "cell_type": "markdown",
   "id": "7863d4ea-fb63-4c9a-a8a4-3f755871cece",
   "metadata": {},
   "source": [
    "# Question 3"
   ]
  },
  {
   "cell_type": "markdown",
   "id": "4c527ff8-a957-4cee-9006-2415221ff2c1",
   "metadata": {},
   "source": [
    "What is an iterator in python? Name the method used to initialise the iterator object and the method\n",
    "used for iteration. Use these methods to print the first five elements of the given list [2, 4, 6, 8, 10, 12, 14,\n",
    "16, 18, 20]."
   ]
  },
  {
   "cell_type": "code",
   "execution_count": 23,
   "id": "790c6229-59b8-4b3f-894b-a09314ad199b",
   "metadata": {},
   "outputs": [
    {
     "name": "stdout",
     "output_type": "stream",
     "text": [
      "Using iterator:\n",
      "2\n",
      "4\n",
      "6\n",
      "8\n",
      "10\n"
     ]
    }
   ],
   "source": [
    "\"\"\" \n",
    "In Python, an iterator is an object that represents a stream of data. \n",
    "It implements two methods, __iter__() and __next__(), that are used to iterate over the elements of the object. \n",
    "The __iter__() method initializes the iterator object, and \n",
    "the __next__() method is responsible for returning the next element in the sequence.\n",
    "\n",
    "Here's an example using the given list [2, 4, 6, 8, 10, 12, 14, 16, 18, 20]: \"\"\"\n",
    "\n",
    "# Create an iterator for the list\n",
    "my_list = [2, 4, 6, 8, 10, 12, 14, 16, 18, 20]\n",
    "my_iterator = iter(my_list)\n",
    "\n",
    "# Use the iterator to print the first five elements\n",
    "print(\"Using iterator:\")\n",
    "for _ in range(5):\n",
    "    element = next(my_iterator)\n",
    "    print(element)\n"
   ]
  },
  {
   "cell_type": "code",
   "execution_count": null,
   "id": "6e90a5a4-8530-4cea-ae4b-a279af3f29ce",
   "metadata": {},
   "outputs": [],
   "source": []
  },
  {
   "cell_type": "markdown",
   "id": "ed632be9-4e6c-415f-88fd-3454a218c571",
   "metadata": {},
   "source": [
    "# Question 4"
   ]
  },
  {
   "cell_type": "markdown",
   "id": "4dc2c463-dcea-49c8-ae52-e022b57a8b3b",
   "metadata": {},
   "source": [
    "What is a generator function in python? Why yield keyword is used? Give an example of a generator\n",
    "function."
   ]
  },
  {
   "cell_type": "code",
   "execution_count": 25,
   "id": "bf559d48-df7f-4a9a-bed5-c68d7b1c37f0",
   "metadata": {},
   "outputs": [
    {
     "name": "stdout",
     "output_type": "stream",
     "text": [
      "Squares of numbers up to 5:\n",
      "1\n",
      "4\n",
      "9\n",
      "16\n",
      "25\n"
     ]
    }
   ],
   "source": [
    "\"\"\" A generator function in Python is a special type of function that allows you to iterate over a potentially large sequence of data \n",
    "without creating the entire sequence in memory at once. \n",
    "It is defined using the yield keyword, which allows the function to pause its execution \n",
    "and yield a value to the calling code. \n",
    "The state of the function is saved, and it can be resumed later from where it left off.\n",
    "\n",
    "The yield keyword is used to produce a value from the generator and temporarily suspend the function's execution \n",
    "until the next value is requested. \"\"\"\n",
    "\n",
    "# example of a simple generator function that generates squares of numbers up to a specified limit \n",
    "\n",
    "def square_generator(limit):\n",
    "    n = 1\n",
    "    while n <= limit:\n",
    "        yield n ** 2\n",
    "        n += 1\n",
    "\n",
    "# Using the generator function\n",
    "limit = 5\n",
    "squares = square_generator(limit)\n",
    "\n",
    "# Iterating over the generated squares\n",
    "print(f\"Squares of numbers up to {limit}:\")\n",
    "for square in squares:\n",
    "    print(square)"
   ]
  },
  {
   "cell_type": "code",
   "execution_count": null,
   "id": "1573a61f-10a4-4be5-96d1-b5f3075c2b8c",
   "metadata": {},
   "outputs": [],
   "source": []
  },
  {
   "cell_type": "markdown",
   "id": "ab93c09c-7155-4186-986f-d6067e1e9c5b",
   "metadata": {},
   "source": [
    "# Question 5"
   ]
  },
  {
   "cell_type": "markdown",
   "id": "ed885c01-3f8c-47bd-a638-731c385698ff",
   "metadata": {},
   "source": [
    "Create a generator function for prime numbers less than 1000. Use the next() method to print the\n",
    "first 20 prime numbers."
   ]
  },
  {
   "cell_type": "code",
   "execution_count": 27,
   "id": "e14d723a-d03d-4379-834c-69fc84d0c160",
   "metadata": {},
   "outputs": [
    {
     "name": "stdout",
     "output_type": "stream",
     "text": [
      "First 20 prime numbers less than 1000:\n",
      "2\n",
      "2\n",
      "2\n",
      "2\n",
      "2\n",
      "2\n",
      "2\n",
      "2\n",
      "2\n",
      "2\n",
      "2\n",
      "2\n",
      "2\n",
      "2\n",
      "2\n",
      "2\n",
      "2\n",
      "2\n",
      "2\n",
      "2\n"
     ]
    }
   ],
   "source": [
    "def is_prime(number):\n",
    "    # Checking if a number is prime\n",
    "    if number < 2:\n",
    "        return False\n",
    "    for i in range(2, int(number**0.5) + 1):\n",
    "        if number % i == 0:\n",
    "            return False\n",
    "    return True\n",
    "\n",
    "def prime_generator():\n",
    "    # Generate prime numbers less than 1000\n",
    "    number = 2\n",
    "    count = 0\n",
    "    while count < 20 and number < 1000:\n",
    "        if is_prime(number):\n",
    "            yield number\n",
    "            count += 1\n",
    "        number += 1\n",
    "\n",
    "# Using the generator function with next() to print the first 20 prime numbers\n",
    "print(\"First 20 prime numbers less than 1000:\")\n",
    "for _ in range(20):\n",
    "    prime = next(prime_generator())\n",
    "    print(prime)"
   ]
  },
  {
   "cell_type": "code",
   "execution_count": null,
   "id": "ad92ad1c-551b-4582-9a92-7f72aa7bde8e",
   "metadata": {},
   "outputs": [],
   "source": []
  },
  {
   "cell_type": "markdown",
   "id": "1ec8564d-1b4e-4771-8515-9108f8facaf5",
   "metadata": {},
   "source": [
    "# Question 6"
   ]
  },
  {
   "cell_type": "markdown",
   "id": "c4255322-cb56-4f9f-81b1-b5319ef27175",
   "metadata": {},
   "source": [
    "Write a python program to print the first 10 Fibonacci numbers using a while loop."
   ]
  },
  {
   "cell_type": "code",
   "execution_count": 28,
   "id": "a39cd313-01fc-49f2-bce9-b9e323185071",
   "metadata": {},
   "outputs": [
    {
     "name": "stdout",
     "output_type": "stream",
     "text": [
      "First 10 Fibonacci numbers:\n",
      "0\n",
      "1\n",
      "1\n",
      "2\n",
      "3\n",
      "5\n",
      "8\n",
      "13\n",
      "21\n",
      "34\n"
     ]
    }
   ],
   "source": [
    "# Function to generate Fibonacci numbers up to a given limit\n",
    "def fibonacci(limit):\n",
    "    fib_numbers = []\n",
    "    a, b = 0, 1\n",
    "\n",
    "    while len(fib_numbers) < limit:\n",
    "        fib_numbers.append(a)\n",
    "        a, b = b, a + b\n",
    "\n",
    "    return fib_numbers\n",
    "\n",
    "# Print the first 10 Fibonacci numbers using a while loop\n",
    "limit = 10\n",
    "fibonacci_numbers = fibonacci(limit)\n",
    "\n",
    "print(\"First 10 Fibonacci numbers:\")\n",
    "for num in fibonacci_numbers:\n",
    "    print(num)"
   ]
  },
  {
   "cell_type": "code",
   "execution_count": null,
   "id": "bf09729b-e57d-4ff1-96cb-89eea04a28a5",
   "metadata": {},
   "outputs": [],
   "source": []
  },
  {
   "cell_type": "markdown",
   "id": "cd1dfd3f-28bf-4692-94a1-ef8432d1cd01",
   "metadata": {},
   "source": [
    "# Question 7"
   ]
  },
  {
   "cell_type": "markdown",
   "id": "b779a08d-b41e-49bc-b6e5-29342ea0ad9a",
   "metadata": {},
   "source": [
    "Write a List Comprehension to iterate through the given string: ‘pwskills’.\n",
    "Expected output: ['p', 'w', 's', 'k', 'i', 'l', 'l', 's']"
   ]
  },
  {
   "cell_type": "code",
   "execution_count": 29,
   "id": "23f4f0bd-0fdd-4ee7-adcb-67a781982b64",
   "metadata": {},
   "outputs": [
    {
     "name": "stdout",
     "output_type": "stream",
     "text": [
      "['p', 'w', 's', 'k', 'i', 'l', 'l', 's']\n"
     ]
    }
   ],
   "source": [
    "# Given string\n",
    "input_string = 'pwskills'\n",
    "\n",
    "# List comprehension to iterate through the string\n",
    "result_list = [char for char in input_string]\n",
    "\n",
    "# Print the result\n",
    "print(result_list)"
   ]
  },
  {
   "cell_type": "code",
   "execution_count": null,
   "id": "a02b4726-a196-45dc-a31e-82c3d66ac4f4",
   "metadata": {},
   "outputs": [],
   "source": []
  },
  {
   "cell_type": "markdown",
   "id": "ad0084c4-14cf-4a6f-9033-945e93ccc834",
   "metadata": {},
   "source": [
    "# Question 8"
   ]
  },
  {
   "cell_type": "markdown",
   "id": "7b77467c-8a25-4f3a-807d-47022690b659",
   "metadata": {},
   "source": [
    "Q8. Write a python program to check whether a given number is Palindrome or not using a while loop."
   ]
  },
  {
   "cell_type": "code",
   "execution_count": 31,
   "id": "6efdaab6-b315-43cd-aaaa-7ed5670b65fe",
   "metadata": {},
   "outputs": [
    {
     "name": "stdin",
     "output_type": "stream",
     "text": [
      "Enter a number:  121\n"
     ]
    },
    {
     "name": "stdout",
     "output_type": "stream",
     "text": [
      "121 is a palindrome.\n"
     ]
    }
   ],
   "source": [
    "def is_palindrome(number):\n",
    "    original_number = number\n",
    "    reverse_number = 0\n",
    "\n",
    "    while number > 0:\n",
    "        digit = number % 10\n",
    "        reverse_number = reverse_number * 10 + digit\n",
    "        number = number // 10\n",
    "\n",
    "    return original_number == reverse_number\n",
    "\n",
    "# Input: Number to check for palindrome\n",
    "num = int(input(\"Enter a number: \"))\n",
    "\n",
    "# Check if the number is a palindrome\n",
    "if is_palindrome(num):\n",
    "    print(f\"{num} is a palindrome.\")\n",
    "else:\n",
    "    print(f\"{num} is not a palindrome.\")"
   ]
  },
  {
   "cell_type": "code",
   "execution_count": null,
   "id": "4cadb59e-5e9b-4b39-a4c0-910fc54a6805",
   "metadata": {},
   "outputs": [],
   "source": []
  },
  {
   "cell_type": "markdown",
   "id": "286a15c2-fd69-411a-bca1-53be524751b8",
   "metadata": {},
   "source": [
    "# Question 9"
   ]
  },
  {
   "cell_type": "markdown",
   "id": "234557d4-9486-49f8-bce5-79eaad190d56",
   "metadata": {},
   "source": [
    "Write a code to print odd numbers from 1 to 100 using list comprehension.\n",
    "Note: Use a list comprehension to create a list from 1 to 100 and use another List comprehension to filter\n",
    "out odd numbers."
   ]
  },
  {
   "cell_type": "code",
   "execution_count": 32,
   "id": "39965dac-4ff1-4d52-b6eb-c363e07e7932",
   "metadata": {},
   "outputs": [
    {
     "name": "stdout",
     "output_type": "stream",
     "text": [
      "Odd numbers from 1 to 100: [1, 3, 5, 7, 9, 11, 13, 15, 17, 19, 21, 23, 25, 27, 29, 31, 33, 35, 37, 39, 41, 43, 45, 47, 49, 51, 53, 55, 57, 59, 61, 63, 65, 67, 69, 71, 73, 75, 77, 79, 81, 83, 85, 87, 89, 91, 93, 95, 97, 99]\n"
     ]
    }
   ],
   "source": [
    "# Using list comprehension to create a list from 1 to 100\n",
    "numbers = [num for num in range(1, 101)]\n",
    "\n",
    "# Using another list comprehension to filter out odd numbers\n",
    "odd_numbers = [num for num in numbers if num % 2 != 0]\n",
    "\n",
    "# Print the result\n",
    "print(\"Odd numbers from 1 to 100:\", odd_numbers)"
   ]
  },
  {
   "cell_type": "code",
   "execution_count": null,
   "id": "dbf4bcc9-9167-4656-8b27-4f43d5603b0c",
   "metadata": {},
   "outputs": [],
   "source": []
  }
 ],
 "metadata": {
  "kernelspec": {
   "display_name": "Python 3 (ipykernel)",
   "language": "python",
   "name": "python3"
  },
  "language_info": {
   "codemirror_mode": {
    "name": "ipython",
    "version": 3
   },
   "file_extension": ".py",
   "mimetype": "text/x-python",
   "name": "python",
   "nbconvert_exporter": "python",
   "pygments_lexer": "ipython3",
   "version": "3.10.8"
  }
 },
 "nbformat": 4,
 "nbformat_minor": 5
}
