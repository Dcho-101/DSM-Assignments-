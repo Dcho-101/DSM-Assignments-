{
 "cells": [
  {
   "cell_type": "markdown",
   "id": "892a6ae7-498f-4846-86de-5e21267f2cc0",
   "metadata": {},
   "source": [
    "# Question 1"
   ]
  },
  {
   "cell_type": "markdown",
   "id": "6e8ce611-7bf4-4331-8f08-8e7232c585d8",
   "metadata": {},
   "source": [
    "What are the three measures of central tendency"
   ]
  },
  {
   "cell_type": "code",
   "execution_count": 1,
   "id": "281b4932-c394-47fb-bbf3-b0e447c419ff",
   "metadata": {},
   "outputs": [],
   "source": [
    "# Three Measures of central tendency are \n",
    "# 1. Mean\n",
    "# 2. Median\n",
    "# 3. Mode"
   ]
  },
  {
   "cell_type": "code",
   "execution_count": null,
   "id": "713892ef-4c5e-4398-8c19-4efd8cda0a26",
   "metadata": {},
   "outputs": [],
   "source": []
  },
  {
   "cell_type": "markdown",
   "id": "ff799948-66e9-4e96-8357-7d32f76fc737",
   "metadata": {},
   "source": [
    "# Question 2"
   ]
  },
  {
   "cell_type": "markdown",
   "id": "e851af64-680e-4164-8a85-f2aff7928b71",
   "metadata": {},
   "source": [
    "What is the difference between the mean, median, and mode? How are they used to measure the\n",
    "central tendency of a dataset?"
   ]
  },
  {
   "cell_type": "code",
   "execution_count": 2,
   "id": "6f38470c-1aca-4a58-b0ff-0b07241f37bf",
   "metadata": {},
   "outputs": [
    {
     "data": {
      "text/plain": [
       "'\\nMean can commonly used when the data is roughly symmetric and does not have extreme values. However, it can be heavily influenced by outliers.\\n\\nMedian can preferred when dealing with skewed distributions or datasets with outliers because it is not affected by extreme values.\\n\\nMode useful for identifying the most frequent values in a dataset, especially in categorical data.\\n'"
      ]
     },
     "execution_count": 2,
     "metadata": {},
     "output_type": "execute_result"
    }
   ],
   "source": [
    "# Mean\n",
    "\n",
    "'''\n",
    "The mean, often referred to as the average, \n",
    "which is calculated by summing up all the values in a dataset and then dividing by the number of observations.\n",
    "'''\n",
    "\n",
    "# Median \n",
    "\n",
    "'''\n",
    "The median is the middle value in a sorted list of values. \n",
    "To find the median, the data needs to arrange in ascending order and identify the middle value.\n",
    "'''\n",
    "\n",
    "# Mode\n",
    "\n",
    "'''\n",
    "The mode is the value that appears most frequently in a dataset. \n",
    "A dataset can be unimodal (one mode), bimodal (two modes), trimodal (three modes), or multimodal\n",
    "'''\n",
    "\n",
    "# How they are used\n",
    "'''\n",
    "Mean can commonly used when the data is roughly symmetric and does not have extreme values. However, it can be heavily influenced by outliers.\n",
    "\n",
    "Median can preferred when dealing with skewed distributions or datasets with outliers because it is not affected by extreme values.\n",
    "\n",
    "Mode useful for identifying the most frequent values in a dataset, especially in categorical data.\n",
    "'''\n",
    "\n"
   ]
  },
  {
   "cell_type": "code",
   "execution_count": null,
   "id": "5ad6c506-44c5-4053-9638-5270bfa41d8f",
   "metadata": {},
   "outputs": [],
   "source": []
  },
  {
   "cell_type": "markdown",
   "id": "4fd6039a-0289-4d34-bf72-2c13e8b96d96",
   "metadata": {},
   "source": [
    "# Question 3"
   ]
  },
  {
   "cell_type": "markdown",
   "id": "e1a8ca04-e868-4d38-ae68-48d7ba5d2811",
   "metadata": {},
   "source": [
    "Measure the three measures of central tendency for the given height data:\n",
    "\n",
    "[178,177,176,177,178.2,178,175,179,180,175,178.9,176.2,177,172.5,178,176.5]"
   ]
  },
  {
   "cell_type": "code",
   "execution_count": 3,
   "id": "f6b4244a-d149-4d89-ab88-9647163655cd",
   "metadata": {},
   "outputs": [
    {
     "data": {
      "text/plain": [
       "'\\nSum of all observarion = 2824.3\\ntherefore, mean is 2824.3/16 which is approximately 176.52\\n\\n\\nFirst, sorting the data: [172.5, 175, 175, 176, 176, 176.2, 176.5, 177, 177, 177, 178, 178, 178, 178.2, 178.9, 180]\\nThe median is the middle value, which is the 8th value in this sorted list.\\nMedian=177\\n\\n\\nThe mode is the value(s) that appear most frequently.\\nIn this dataset, there is no clear mode as each value appears only once, and there are no repeated values.\\n'"
      ]
     },
     "execution_count": 3,
     "metadata": {},
     "output_type": "execute_result"
    }
   ],
   "source": [
    "# Measures of Central Tendency\n",
    "\n",
    "'''\n",
    "Sum of all observarion = 2824.3\n",
    "therefore, mean is 2824.3/16 which is approximately 176.52\n",
    "\n",
    "\n",
    "First, sorting the data: [172.5, 175, 175, 176, 176, 176.2, 176.5, 177, 177, 177, 178, 178, 178, 178.2, 178.9, 180]\n",
    "The median is the middle value, which is the 8th value in this sorted list.\n",
    "Median=177\n",
    "\n",
    "\n",
    "The mode is the value(s) that appear most frequently.\n",
    "In this dataset, there is no clear mode as each value appears only once, and there are no repeated values.\n",
    "'''"
   ]
  },
  {
   "cell_type": "code",
   "execution_count": null,
   "id": "e7426364-12d5-4fd4-a8fa-d0598f7367f0",
   "metadata": {},
   "outputs": [],
   "source": []
  },
  {
   "cell_type": "markdown",
   "id": "ea78d159-f828-465f-9cb6-e62b1ecd8d95",
   "metadata": {},
   "source": [
    "# Question 4"
   ]
  },
  {
   "cell_type": "markdown",
   "id": "5f1bca07-fb8d-4251-a922-d3d7be2640a7",
   "metadata": {},
   "source": [
    "Find the standard deviation for the given data:\n",
    "\n",
    "[178,177,176,177,178.2,178,175,179,180,175,178.9,176.2,177,172.5,178,176.5]\n"
   ]
  },
  {
   "cell_type": "code",
   "execution_count": 5,
   "id": "5b779a8d-5051-4b49-8b2d-bfe29518a47a",
   "metadata": {},
   "outputs": [
    {
     "data": {
      "text/plain": [
       "'\\nData: [178, 177, 176, 177, 178.2, 178, 175, 179, 180, 175, 178.9, 176.2, 177, 172.5, 178, 176.5]\\n\\nCalculating the mean ≈ 176.52\\n\\n\\nSubtract the mean from each data point and square the result:\\nSquared differences: (1.48)2,(0.48)2,(−0.52)2,(0.48)2,(1.68)2,(1.48)2,(−1.52)2,(2.48)2,(3.48)2,(−1.52)2,(2.38)2,(−0.32)2,(0.48)2,(−4.02)2,(1.48)2,(−0.02)2\\n\\nFinding the average of these squared differences:\\n\\nAverage of squared differences≈ 161\\u200b ×(∑squared differences)\\n\\nStandard Deviation for the given height data is approximately 1.42.\\n'"
      ]
     },
     "execution_count": 5,
     "metadata": {},
     "output_type": "execute_result"
    }
   ],
   "source": [
    "'''\n",
    "Data: [178, 177, 176, 177, 178.2, 178, 175, 179, 180, 175, 178.9, 176.2, 177, 172.5, 178, 176.5]\n",
    "\n",
    "Calculating the mean ≈ 176.52\n",
    "\n",
    "\n",
    "Subtract the mean from each data point and square the result:\n",
    "Squared differences: (1.48)2,(0.48)2,(−0.52)2,(0.48)2,(1.68)2,(1.48)2,(−1.52)2,(2.48)2,(3.48)2,(−1.52)2,(2.38)2,(−0.32)2,(0.48)2,(−4.02)2,(1.48)2,(−0.02)2\n",
    "\n",
    "Finding the average of these squared differences:\n",
    "\n",
    "Average of squared differences≈ 161​ ×(∑squared differences)\n",
    "\n",
    "Standard Deviation for the given height data is approximately 1.42.\n",
    "'''"
   ]
  },
  {
   "cell_type": "code",
   "execution_count": null,
   "id": "25c4465e-16a0-4fb9-a0d4-bf4b44e7ce49",
   "metadata": {},
   "outputs": [],
   "source": []
  },
  {
   "cell_type": "markdown",
   "id": "d605a13e-864b-485c-ba66-a0d10150e58c",
   "metadata": {},
   "source": [
    "# Question 5"
   ]
  },
  {
   "cell_type": "markdown",
   "id": "198a6374-4031-427a-96f0-5445c5b32143",
   "metadata": {},
   "source": [
    "How are measures of dispersion such as range, variance, and standard deviation used to describe\n",
    "the spread of a dataset? Provide an example."
   ]
  },
  {
   "cell_type": "code",
   "execution_count": 6,
   "id": "078e30f6-312c-4dea-a8c7-3e75fa521886",
   "metadata": {},
   "outputs": [
    {
     "data": {
      "text/plain": [
       "'\\nThe standard deviation is the square root of the variance. It provides a measure of the average distance between each data point and the mean.\\nExample: If the calculated variance is 8, the standard deviation is ≈ 2.83.\\n'"
      ]
     },
     "execution_count": 6,
     "metadata": {},
     "output_type": "execute_result"
    }
   ],
   "source": [
    "# Range:\n",
    "'''\n",
    "The range is the simplest measure of dispersion and is calculated as the difference between the maximum and minimum values in a dataset.\n",
    "Range = Maximum value - Minimum value\n",
    "Example: For the dataset [10, 15, 12, 17, 20], the range is 20 - 10 = 10.\n",
    "'''\n",
    "\n",
    "# Variance:\n",
    "\n",
    "'''\n",
    "Variance measures the average squared deviation of each data point from the mean. It gives more weight to larger deviations.\n",
    "Example: For the dataset [10, 15, 12, 17, 20], let's assume the mean is 14.8. Then, the variance is calculated using the formula.\n",
    "'''\n",
    "\n",
    "# Standard Deviation:\n",
    "\n",
    "'''\n",
    "The standard deviation is the square root of the variance. It provides a measure of the average distance between each data point and the mean.\n",
    "Example: If the calculated variance is 8, the standard deviation is ≈ 2.83.\n",
    "'''"
   ]
  },
  {
   "cell_type": "code",
   "execution_count": null,
   "id": "b659a535-29a2-4f31-9be3-e44179935c84",
   "metadata": {},
   "outputs": [],
   "source": []
  },
  {
   "cell_type": "markdown",
   "id": "c4d8cb27-50d2-4aec-be21-2c25473a6bb7",
   "metadata": {},
   "source": [
    "# Question 6"
   ]
  },
  {
   "cell_type": "markdown",
   "id": "40752f3e-6734-4b3e-b0fb-4d1a964c246f",
   "metadata": {},
   "source": [
    "What is a Venn diagram?"
   ]
  },
  {
   "cell_type": "code",
   "execution_count": 7,
   "id": "87988a75-17d3-4760-aa2a-efdafa713289",
   "metadata": {},
   "outputs": [
    {
     "data": {
      "text/plain": [
       "'\\nA Venn diagram is a visual representation of the relationships between sets. \\nCircles or ellipses overlap to show common elements, while distinct areas represent unique elements in each set.\\n'"
      ]
     },
     "execution_count": 7,
     "metadata": {},
     "output_type": "execute_result"
    }
   ],
   "source": [
    "'''\n",
    "A Venn diagram is a visual representation of the relationships between sets. \n",
    "Circles or ellipses overlap to show common elements, while distinct areas represent unique elements in each set.\n",
    "'''"
   ]
  },
  {
   "cell_type": "code",
   "execution_count": null,
   "id": "7e7cf968-9eba-4ffd-86ba-b6d7e23e434f",
   "metadata": {},
   "outputs": [],
   "source": []
  },
  {
   "cell_type": "markdown",
   "id": "e1e86924-c4e0-4190-be95-c88c43dfd47f",
   "metadata": {},
   "source": [
    "# Question 7"
   ]
  },
  {
   "cell_type": "markdown",
   "id": "19b6ac2d-aa68-40dd-9ec3-69ba3ab1248c",
   "metadata": {},
   "source": [
    "For the two given sets A = (2,3,4,5,6,7) & B = (0,2,6,8,10). Find:\n",
    "\n",
    "(i) A Union B\n",
    "\n",
    "(ii) A Intersection B\n"
   ]
  },
  {
   "cell_type": "code",
   "execution_count": 8,
   "id": "b2acb12d-cd8f-4961-b2b7-958c36d51ef1",
   "metadata": {},
   "outputs": [
    {
     "data": {
      "text/plain": [
       "'\\nQuestion 1\\n\\nThe union of sets A and B includes all unique elements from both sets.\\ntherefore, A union B = {0,2,3,4,5,6,7,8,10}\\n\\nThe intersection of sets A and B includes only the elements that are common to both sets.\\ntherefore, A intersection B = {2,6}\\n'"
      ]
     },
     "execution_count": 8,
     "metadata": {},
     "output_type": "execute_result"
    }
   ],
   "source": [
    "'''\n",
    "Question 1\n",
    "\n",
    "The union of sets A and B includes all unique elements from both sets.\n",
    "therefore, A union B = {0,2,3,4,5,6,7,8,10}\n",
    "\n",
    "The intersection of sets A and B includes only the elements that are common to both sets.\n",
    "therefore, A intersection B = {2,6}\n",
    "'''"
   ]
  },
  {
   "cell_type": "code",
   "execution_count": null,
   "id": "a27cd1ca-db12-4508-bb64-b9d07e430432",
   "metadata": {},
   "outputs": [],
   "source": []
  },
  {
   "cell_type": "markdown",
   "id": "04efe1e7-2db8-4357-ba23-d5d908e240bd",
   "metadata": {},
   "source": [
    "# Question 8"
   ]
  },
  {
   "cell_type": "markdown",
   "id": "5eccfcf2-fce1-49ec-bc73-143b00c9cbec",
   "metadata": {},
   "source": [
    "What do you understand about skewness in data?\n"
   ]
  },
  {
   "cell_type": "code",
   "execution_count": 9,
   "id": "543f7bfa-94ba-483f-9f2a-87fe975e4533",
   "metadata": {},
   "outputs": [
    {
     "data": {
      "text/plain": [
       "'\\nSkewness in data measures the asymmetry of its distribution. \\nPositive skewness indicates a tail to the right, while negative skewness indicates a tail to the left.\\n'"
      ]
     },
     "execution_count": 9,
     "metadata": {},
     "output_type": "execute_result"
    }
   ],
   "source": [
    "'''\n",
    "Skewness in data measures the asymmetry of its distribution. \n",
    "Positive skewness indicates a tail to the right, while negative skewness indicates a tail to the left.\n",
    "'''\n"
   ]
  },
  {
   "cell_type": "code",
   "execution_count": null,
   "id": "249afc60-01c2-4551-b95d-a73e728d573e",
   "metadata": {},
   "outputs": [],
   "source": []
  },
  {
   "cell_type": "markdown",
   "id": "14442b81-f074-4db4-aff8-249a294c80b7",
   "metadata": {},
   "source": [
    "# Question 9"
   ]
  },
  {
   "cell_type": "markdown",
   "id": "fa0cd700-bfb0-41e8-b57e-d68500ce5521",
   "metadata": {},
   "source": [
    "If a data is right skewed then what will be the position of median with respect to mean?"
   ]
  },
  {
   "cell_type": "code",
   "execution_count": 10,
   "id": "560fc799-b865-442d-98f9-882494a4ddde",
   "metadata": {},
   "outputs": [
    {
     "data": {
      "text/plain": [
       "'\\nThe mean will be greater than the median.\\nThe median will be closer to the left side of the distribution, \\nwhile the mean will be pulled towards the longer right tail by the presence of higher values.\\n'"
      ]
     },
     "execution_count": 10,
     "metadata": {},
     "output_type": "execute_result"
    }
   ],
   "source": [
    "'''\n",
    "The mean will be greater than the median.\n",
    "The median will be closer to the left side of the distribution, \n",
    "while the mean will be pulled towards the longer right tail by the presence of higher values.\n",
    "'''"
   ]
  },
  {
   "cell_type": "code",
   "execution_count": null,
   "id": "720e5979-7f02-4771-aac1-7554e42a4b5f",
   "metadata": {},
   "outputs": [],
   "source": []
  },
  {
   "cell_type": "markdown",
   "id": "65c251a3-b14a-4aad-b580-e12465e5e08c",
   "metadata": {},
   "source": [
    "# Question 10"
   ]
  },
  {
   "cell_type": "markdown",
   "id": "8adc3293-9277-48c4-94d4-6cc8f3fdcf21",
   "metadata": {},
   "source": [
    "Explain the difference between covariance and correlation. How are these measures used in\n",
    "statistical analysis?"
   ]
  },
  {
   "cell_type": "code",
   "execution_count": 11,
   "id": "74c1c74b-3544-4b6c-bfbe-833847eac79a",
   "metadata": {},
   "outputs": [
    {
     "data": {
      "text/plain": [
       "\"\\nCovariance used to understand the direction of the relationship between two variables. \\nHowever, it doesn't provide a standardized measure, making it challenging to compare relationships across different datasets \\nor variables with different scales.\\n\\nCorrelation provides a standardized measure that allows for comparison of the strength and direction of relationships between variables, \\nregardless of their scales. Widely used in regression analysis, finance, and various scientific fields.\\n\""
      ]
     },
     "execution_count": 11,
     "metadata": {},
     "output_type": "execute_result"
    }
   ],
   "source": [
    "# Covariance:\n",
    "\n",
    "'''\n",
    "Covariance measures how two variables change together. It indicates the direction of the linear relationship between two variables.\n",
    "Positive covariance implies a direct relationship, negative covariance implies an inverse relationship, \n",
    "and zero covariance suggests no linear relationship.\n",
    "'''\n",
    "\n",
    "# Correlation:\n",
    "\n",
    "'''\n",
    " Correlation is a standardized measure of the strength and direction of a linear relationship between two variables. \n",
    " It is unitless and ranges from -1 to 1.\n",
    " A correlation close to 1 indicates a strong positive linear relationship, \n",
    " close to -1 indicates a strong negative linear relationship, \n",
    " and close to 0 indicates a weak or no linear relationship.\n",
    "'''\n",
    "\n",
    "# Use in Statistical Analysis:\n",
    "\n",
    "'''\n",
    "Covariance used to understand the direction of the relationship between two variables. \n",
    "However, it doesn't provide a standardized measure, making it challenging to compare relationships across different datasets \n",
    "or variables with different scales.\n",
    "\n",
    "Correlation provides a standardized measure that allows for comparison of the strength and direction of relationships between variables, \n",
    "regardless of their scales. Widely used in regression analysis, finance, and various scientific fields.\n",
    "'''"
   ]
  },
  {
   "cell_type": "code",
   "execution_count": null,
   "id": "49785f66-9f43-4a9b-8f30-5b972b2f8e63",
   "metadata": {},
   "outputs": [],
   "source": []
  },
  {
   "cell_type": "markdown",
   "id": "5d7888c3-14ab-4904-924e-d5aeb9367a73",
   "metadata": {},
   "source": [
    "# Question 11"
   ]
  },
  {
   "cell_type": "markdown",
   "id": "333e6e5d-8bfe-4044-9516-58c67a769490",
   "metadata": {},
   "source": [
    "What is the formula for calculating the sample mean? Provide an example calculation for a\n",
    "dataset."
   ]
  },
  {
   "cell_type": "code",
   "execution_count": 13,
   "id": "8d7ed2dd-2566-4b77-896f-6699d29603d1",
   "metadata": {},
   "outputs": [
    {
     "data": {
      "text/plain": [
       "'\\nConsider the dataset: [12, 15, 18, 21, 24]\\n\\ntherefore the sample mean = 18\\n\\n'"
      ]
     },
     "execution_count": 13,
     "metadata": {},
     "output_type": "execute_result"
    }
   ],
   "source": [
    "'''\n",
    "X bar = {sum of i(from 1 to n) Xi}/n\n",
    "\n",
    "X bar = sample mean,\n",
    "Xi =  individual data point, and\n",
    "n = number of observations in the sample.\n",
    "'''\n",
    "\n",
    "# Example\n",
    "\n",
    "'''\n",
    "Consider the dataset: [12, 15, 18, 21, 24]\n",
    "\n",
    "therefore the sample mean = 18\n",
    "\n",
    "'''"
   ]
  },
  {
   "cell_type": "code",
   "execution_count": null,
   "id": "cdc51d4b-e7ea-4b8c-a8c5-6df10c690958",
   "metadata": {},
   "outputs": [],
   "source": []
  },
  {
   "cell_type": "markdown",
   "id": "6170298c-d108-4496-8a85-1436c9a46a02",
   "metadata": {},
   "source": [
    "# Question 12"
   ]
  },
  {
   "cell_type": "markdown",
   "id": "b4bd174c-d82b-4db9-8f35-75ad3dcb3027",
   "metadata": {},
   "source": [
    "For a normal distribution data what is the relationship between its measure of central tendency?"
   ]
  },
  {
   "cell_type": "code",
   "execution_count": 14,
   "id": "0a103ece-873c-4841-8a9f-0f7ff33b66f6",
   "metadata": {},
   "outputs": [
    {
     "data": {
      "text/plain": [
       "'\\nIn a normal distribution (also known as a Gaussian distribution or bell curve), \\nthe measures of central tendency—mean, median, and mode—share a specific relationship:\\n\\nIn a perfectly symmetrical normal distribution, the mean is located at the center of the distribution.\\nThe mean is equal to the median in a normal distribution.\\n\\nThe median of a normal distribution is also at the center of the distribution.\\nIn a perfectly symmetrical normal distribution, the median is equal to the mean.\\n\\nIn a normal distribution, the mode is the point of highest frequency, which is at the center.\\nFor a normal distribution, the mode, median, and mean are all the same.\\n'"
      ]
     },
     "execution_count": 14,
     "metadata": {},
     "output_type": "execute_result"
    }
   ],
   "source": [
    "'''\n",
    "In a normal distribution (also known as a Gaussian distribution or bell curve), \n",
    "the measures of central tendency—mean, median, and mode—share a specific relationship:\n",
    "\n",
    "In a perfectly symmetrical normal distribution, the mean is located at the center of the distribution.\n",
    "The mean is equal to the median in a normal distribution.\n",
    "\n",
    "The median of a normal distribution is also at the center of the distribution.\n",
    "In a perfectly symmetrical normal distribution, the median is equal to the mean.\n",
    "\n",
    "In a normal distribution, the mode is the point of highest frequency, which is at the center.\n",
    "For a normal distribution, the mode, median, and mean are all the same.\n",
    "'''"
   ]
  },
  {
   "cell_type": "code",
   "execution_count": null,
   "id": "5b2965c5-e994-4b80-86ef-383536f63618",
   "metadata": {},
   "outputs": [],
   "source": []
  },
  {
   "cell_type": "markdown",
   "id": "c893c225-b661-402a-b457-06962045fa6d",
   "metadata": {},
   "source": [
    "# Question 13"
   ]
  },
  {
   "cell_type": "markdown",
   "id": "7ce9d8df-91e6-4d94-9356-8d71f3ad278b",
   "metadata": {},
   "source": [
    "How is covariance different from correlation?"
   ]
  },
  {
   "cell_type": "code",
   "execution_count": 15,
   "id": "61ffc9d7-3e2a-4170-9bd3-7f6b3f22165e",
   "metadata": {},
   "outputs": [
    {
     "data": {
      "text/plain": [
       "'\\ncovariance provides a measure of the direction of the relationship between two variables, \\ncorrelation standardizes this measure, making it more interpretable and suitable for comparing relationships across different scenarios.\\n'"
      ]
     },
     "execution_count": 15,
     "metadata": {},
     "output_type": "execute_result"
    }
   ],
   "source": [
    "'''\n",
    "covariance provides a measure of the direction of the relationship between two variables, \n",
    "correlation standardizes this measure, making it more interpretable and suitable for comparing relationships across different scenarios.\n",
    "'''"
   ]
  },
  {
   "cell_type": "code",
   "execution_count": null,
   "id": "02878820-f1da-4870-ad7d-68d80f8ab873",
   "metadata": {},
   "outputs": [],
   "source": []
  },
  {
   "cell_type": "markdown",
   "id": "38465bec-037e-4e49-9887-e197c4716f83",
   "metadata": {},
   "source": [
    "# Question 14"
   ]
  },
  {
   "cell_type": "markdown",
   "id": "dfcd9098-c1ff-4a71-84ce-8cc55dc4babc",
   "metadata": {},
   "source": [
    "How do outliers affect measures of central tendency and dispersion? Provide an example."
   ]
  },
  {
   "cell_type": "code",
   "execution_count": 16,
   "id": "137d2030-12a8-4bcb-9850-b735373f28d9",
   "metadata": {},
   "outputs": [
    {
     "data": {
      "text/plain": [
       "'\\nConsider the dataset: [15, 18, 20, 22, 25, 30, 35, 200]\\n\\nWithout Outlier:\\n\\nMean = (15+18+20+22+25+30+35)/7\\n=24.14\\nStandard Deviation = 7.44\\n\\n\\nWith Outlier (200 added):\\n\\nMean = (15+18+20+22+25+30+35+200)/8\\n=50.13\\nStandard Deviation = 64.81\\n'"
      ]
     },
     "execution_count": 16,
     "metadata": {},
     "output_type": "execute_result"
    }
   ],
   "source": [
    "'''\n",
    "Outliers can significantly impact measures of central tendency and dispersion, leading to skewed or distorted summary statistics. \n",
    "Outliers can pull the mean towards their extreme values. \n",
    "If there's a high positive outlier, the mean increases, and if there's a low negative outlier, the mean decreases.\n",
    "Outliers can significantly impact the range, especially if they are extreme values. \n",
    "The range may become much larger or smaller than it would be without outliers.\n",
    "'''\n",
    "\n",
    "# Example:\n",
    "'''\n",
    "Consider the dataset: [15, 18, 20, 22, 25, 30, 35, 200]\n",
    "\n",
    "Without Outlier:\n",
    "\n",
    "Mean = (15+18+20+22+25+30+35)/7\n",
    "=24.14\n",
    "Standard Deviation = 7.44\n",
    "\n",
    "\n",
    "With Outlier (200 added):\n",
    "\n",
    "Mean = (15+18+20+22+25+30+35+200)/8\n",
    "=50.13\n",
    "Standard Deviation = 64.81\n",
    "'''"
   ]
  },
  {
   "cell_type": "code",
   "execution_count": null,
   "id": "9b3d10d3-f941-43d3-bb5f-2b80cbf5521d",
   "metadata": {},
   "outputs": [],
   "source": []
  }
 ],
 "metadata": {
  "kernelspec": {
   "display_name": "Python 3 (ipykernel)",
   "language": "python",
   "name": "python3"
  },
  "language_info": {
   "codemirror_mode": {
    "name": "ipython",
    "version": 3
   },
   "file_extension": ".py",
   "mimetype": "text/x-python",
   "name": "python",
   "nbconvert_exporter": "python",
   "pygments_lexer": "ipython3",
   "version": "3.10.8"
  }
 },
 "nbformat": 4,
 "nbformat_minor": 5
}
