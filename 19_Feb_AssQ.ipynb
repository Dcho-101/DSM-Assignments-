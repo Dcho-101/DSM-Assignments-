{
 "cells": [
  {
   "cell_type": "markdown",
   "id": "8a706550",
   "metadata": {},
   "source": [
    "# Question 1"
   ]
  },
  {
   "cell_type": "markdown",
   "id": "af6f0a5c",
   "metadata": {},
   "source": [
    "### What is Flask Framework? What are the advantages of Flask Framework?"
   ]
  },
  {
   "cell_type": "code",
   "execution_count": 3,
   "id": "28a7bf0d",
   "metadata": {},
   "outputs": [
    {
     "data": {
      "text/plain": [
       "'\\nflask provides simplicity, easy to use, flexiblity, and lightweight to use.\\n'"
      ]
     },
     "execution_count": 3,
     "metadata": {},
     "output_type": "execute_result"
    }
   ],
   "source": [
    "'''\n",
    "Flask is a micro web framework written in Python.\n",
    "It is a popular choice for building web applications, particularly small to medium-sized projects. \n",
    "'''\n",
    "\n",
    "# Advantages of using Flask\n",
    "'''\n",
    "flask provides simplicity, easy to use, flexiblity, and lightweight to use.\n",
    "'''"
   ]
  },
  {
   "cell_type": "code",
   "execution_count": null,
   "id": "38e4eda3",
   "metadata": {},
   "outputs": [],
   "source": []
  },
  {
   "cell_type": "markdown",
   "id": "d8769fbb",
   "metadata": {},
   "source": [
    "# Question 2"
   ]
  },
  {
   "cell_type": "markdown",
   "id": "4e598d95",
   "metadata": {},
   "source": [
    "### Create a simple Flask application to display ‘Hello World!!’. Attach the screenshot of the output in Jupyter Notebook."
   ]
  },
  {
   "cell_type": "code",
   "execution_count": 6,
   "id": "4d7b1294",
   "metadata": {},
   "outputs": [],
   "source": [
    "# code for hello world printing in a different webpage"
   ]
  },
  {
   "attachments": {
    "image.png": {
     "image/png": "[encoded data removed]"
    }
   },
   "cell_type": "markdown",
   "id": "4ba70d15",
   "metadata": {},
   "source": [
    "![image.png](attachment:image.png)"
   ]
  },
  {
   "cell_type": "code",
   "execution_count": 5,
   "id": "41d81404",
   "metadata": {},
   "outputs": [],
   "source": [
    "# Output"
   ]
  },
  {
   "attachments": {
    "image-2.png": {
     "image/png": "[encoded data removed]"
    }
   },
   "cell_type": "markdown",
   "id": "c97b0607",
   "metadata": {},
   "source": [
    "![image-2.png](attachment:image-2.png)"
   ]
  },
  {
   "cell_type": "code",
   "execution_count": null,
   "id": "b05cffdb",
   "metadata": {},
   "outputs": [],
   "source": []
  },
  {
   "cell_type": "markdown",
   "id": "42eaa7f7",
   "metadata": {},
   "source": [
    "# Question 3"
   ]
  },
  {
   "cell_type": "markdown",
   "id": "127d328c",
   "metadata": {},
   "source": [
    "### What is App routing in Flask? Why do we use app routes?"
   ]
  },
  {
   "cell_type": "code",
   "execution_count": 7,
   "id": "11d14834",
   "metadata": {},
   "outputs": [
    {
     "data": {
      "text/plain": [
       "'\\napp routing can be used for \\nURL mapping to organize the structure of web application,\\nmodularity and helps to define routes, \\ncode separation for handling diffrent of application, \\nand dynamic routing using variable paths\\n'"
      ]
     },
     "execution_count": 7,
     "metadata": {},
     "output_type": "execute_result"
    }
   ],
   "source": [
    "# app routing in flask\n",
    "\n",
    "'''\n",
    "In Flask, app routing refers to the process of associating different URLs with specific functions\n",
    "or view handlers within web application.\n",
    "'''\n",
    "# why do we use app routes\n",
    "\n",
    "'''\n",
    "app routing can be used for \n",
    "URL mapping to organize the structure of web application,\n",
    "modularity and helps to define routes, \n",
    "code separation for handling diffrent of application, \n",
    "and dynamic routing using variable paths\n",
    "'''"
   ]
  },
  {
   "cell_type": "code",
   "execution_count": null,
   "id": "2057c8f5",
   "metadata": {},
   "outputs": [],
   "source": []
  },
  {
   "cell_type": "markdown",
   "id": "30a07224",
   "metadata": {},
   "source": [
    "# Question 4"
   ]
  },
  {
   "cell_type": "markdown",
   "id": "5f38d753",
   "metadata": {},
   "source": [
    "### Create a “/welcome” route to display the welcome message “Welcome to ABC Corporation” and a “/”\n",
    "route to show the following details:\n",
    "\n",
    "Company Name: ABC Corporation\n",
    "\n",
    "Location: India\n",
    "\n",
    "Contact Detail: 999-999-9999\n",
    "\n",
    "### Attach the screenshot of the output in Jupyter Notebook."
   ]
  },
  {
   "cell_type": "code",
   "execution_count": 8,
   "id": "d1be0d3a",
   "metadata": {},
   "outputs": [
    {
     "name": "stdout",
     "output_type": "stream",
     "text": [
      " * Serving Flask app '__main__'\n",
      " * Debug mode: off\n"
     ]
    },
    {
     "name": "stderr",
     "output_type": "stream",
     "text": [
      "WARNING: This is a development server. Do not use it in a production deployment. Use a production WSGI server instead.\n",
      " * Running on all addresses (0.0.0.0)\n",
      " * Running on http://127.0.0.1:5000\n",
      " * Running on http://192.168.0.194:5000\n",
      "Press CTRL+C to quit\n",
      "127.0.0.1 - - [12/Feb/2024 23:19:50] \"GET / HTTP/1.1\" 200 -\n",
      "127.0.0.1 - - [12/Feb/2024 23:19:56] \"GET / HTTP/1.1\" 200 -\n",
      "127.0.0.1 - - [12/Feb/2024 23:20:53] \"GET / HTTP/1.1\" 200 -\n",
      "127.0.0.1 - - [12/Feb/2024 23:21:03] \"GET /welcome HTTP/1.1\" 200 -\n"
     ]
    }
   ],
   "source": [
    "from flask import Flask\n",
    "\n",
    "app = Flask(__name__)\n",
    "\n",
    "\n",
    "# welcome route\n",
    "@app.route(\"/welcome\")\n",
    "def welcome():\n",
    "    return \"Welcome to ABC Corporation\"\n",
    "\n",
    "\n",
    "# route\n",
    "@app.route(\"/\")\n",
    "def company_info():\n",
    "    return '''\n",
    "    Company Name: ABC Corporation\n",
    "    Location: India\n",
    "    Contact Detail: 999-999-9999\n",
    "    '''\n",
    "if __name__==\"__main__\":\n",
    "    app.run(host=\"0.0.0.0\")\n"
   ]
  },
  {
   "cell_type": "code",
   "execution_count": 9,
   "id": "ad5a468b",
   "metadata": {},
   "outputs": [],
   "source": [
    "# Output"
   ]
  },
  {
   "attachments": {
    "image.png": {
     "image/png": "[encoded data removed]"
    }
   },
   "cell_type": "markdown",
   "id": "c6316b12",
   "metadata": {},
   "source": [
    "![image.png](attachment:image.png)"
   ]
  },
  {
   "attachments": {
    "image.png": {
     "image/png": "[encoded data removed]"
    }
   },
   "cell_type": "markdown",
   "id": "2cab20f6",
   "metadata": {},
   "source": [
    "![image.png](attachment:image.png)"
   ]
  },
  {
   "cell_type": "code",
   "execution_count": null,
   "id": "79c699f8",
   "metadata": {},
   "outputs": [],
   "source": []
  },
  {
   "cell_type": "markdown",
   "id": "875c41d3",
   "metadata": {},
   "source": [
    "# Question 5"
   ]
  },
  {
   "cell_type": "markdown",
   "id": "3240f547",
   "metadata": {},
   "source": [
    "### What function is used in Flask for URL Building? Write a Python code to demonstrate the working of the url_for() function."
   ]
  },
  {
   "cell_type": "code",
   "execution_count": null,
   "id": "247f2836",
   "metadata": {},
   "outputs": [],
   "source": []
  }
 ],
 "metadata": {
  "kernelspec": {
   "display_name": "Python 3 (ipykernel)",
   "language": "python",
   "name": "python3"
  },
  "language_info": {
   "codemirror_mode": {
    "name": "ipython",
    "version": 3
   },
   "file_extension": ".py",
   "mimetype": "text/x-python",
   "name": "python",
   "nbconvert_exporter": "python",
   "pygments_lexer": "ipython3",
   "version": "3.11.5"
  }
 },
 "nbformat": 4,
 "nbformat_minor": 5
}
