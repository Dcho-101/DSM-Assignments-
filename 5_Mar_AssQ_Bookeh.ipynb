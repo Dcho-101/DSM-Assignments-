{
 "cells": [
  {
   "cell_type": "markdown",
   "id": "522680fb-17a7-4ed0-beae-23653f03b9aa",
   "metadata": {},
   "source": [
    "# Question 1"
   ]
  },
  {
   "cell_type": "markdown",
   "id": "f4e6ac67-be29-4904-9cf2-700dd4b4f2b2",
   "metadata": {},
   "source": [
    "### How can you create a Bokeh plot using Python code?"
   ]
  },
  {
   "cell_type": "code",
   "execution_count": 1,
   "id": "868008e2-e969-4321-96b6-22ee5d4ea4cd",
   "metadata": {},
   "outputs": [],
   "source": [
    "#pip install bokeh"
   ]
  },
  {
   "cell_type": "code",
   "execution_count": 4,
   "id": "99c873d8-08cb-4cee-adbf-0a7441478e35",
   "metadata": {},
   "outputs": [],
   "source": [
    "from bokeh.plotting import figure, show\n",
    "from bokeh.io import output_file\n",
    "\n",
    "# Sample data\n",
    "x = [1, 2, 3, 4, 5]\n",
    "y = [6, 7, 2, 4, 8]\n",
    "\n",
    "# Create a Bokeh figure\n",
    "plot = figure(title='Simple Bokeh Plot', x_axis_label='X-axis', y_axis_label='Y-axis')\n",
    "\n",
    "# Add a scatter plot\n",
    "plot.circle(x, y, size=10, color='blue', alpha=0.5)\n",
    "\n",
    "# Specify the output file\n",
    "output_file('bokeh_plot_of_question_1.html')\n",
    "\n",
    "# Display the plot\n",
    "show(plot)\n"
   ]
  },
  {
   "cell_type": "code",
   "execution_count": null,
   "id": "efb6735d-fc7d-4df3-999b-52d2fa6d3c5f",
   "metadata": {},
   "outputs": [],
   "source": []
  },
  {
   "cell_type": "markdown",
   "id": "e2ecf864-eea9-496f-96f0-9f59db522628",
   "metadata": {},
   "source": [
    "# Question 2"
   ]
  },
  {
   "cell_type": "markdown",
   "id": "483b2b86-c091-40d6-b9c9-ae50cbf3fe85",
   "metadata": {},
   "source": [
    "### What are glyphs in Bokeh, and how can you add them to a Bokeh plot? Explain with an example."
   ]
  },
  {
   "cell_type": "code",
   "execution_count": 5,
   "id": "6af6ce07-9ab3-4e49-a927-533c0e9073e3",
   "metadata": {},
   "outputs": [],
   "source": [
    "'''\n",
    "In Bokeh, glyphs are visual markers that can add to a plot to represent data.\n",
    "'''\n",
    "\n",
    "# Here's an example that demonstrates how to add glyphs to a Bokeh plot:\n",
    "\n",
    "from bokeh.plotting import figure, show\n",
    "from bokeh.io import output_file\n",
    "\n",
    "# Sample data\n",
    "x = [1, 2, 3, 4, 5]\n",
    "y = [6, 7, 2, 4, 8]\n",
    "\n",
    "# Create a Bokeh figure\n",
    "plot = figure(title='Bokeh Plot with Glyphs', x_axis_label='X-axis', y_axis_label='Y-axis')\n",
    "\n",
    "# Add circle glyphs to represent data points\n",
    "plot.circle(x, y, size=10, color='blue', alpha=0.5, legend_label='Circle Glyphs')\n",
    "\n",
    "# Add square glyphs to represent data points\n",
    "plot.square(x, y, size=10, color='green', alpha=0.5, legend_label='Square Glyphs')\n",
    "\n",
    "# Add a line glyph to connect the data points\n",
    "plot.line(x, y, line_width=2, line_color='red', legend_label='Line Glyph')\n",
    "\n",
    "# Specify the output file\n",
    "output_file('bokeh_glyphs_plot_of_question_2.html')\n",
    "\n",
    "# Display the plot\n",
    "show(plot)"
   ]
  },
  {
   "cell_type": "code",
   "execution_count": null,
   "id": "f7f710f6-a577-4bc9-98a6-fff2e8db8980",
   "metadata": {},
   "outputs": [],
   "source": []
  },
  {
   "cell_type": "markdown",
   "id": "e52164bc-b894-4fd8-9185-3a3da5b813e0",
   "metadata": {},
   "source": [
    "# Question 3"
   ]
  },
  {
   "cell_type": "markdown",
   "id": "3b1c91fa-8c22-47c0-885e-d132dfce1e7f",
   "metadata": {},
   "source": [
    "### How can you customize the appearance of a Bokeh plot, including the axes, title, and legend?"
   ]
  },
  {
   "cell_type": "code",
   "execution_count": 6,
   "id": "6682e6ab-53aa-4f7f-96e0-1298cfec93a4",
   "metadata": {},
   "outputs": [],
   "source": [
    "'''\n",
    "Customizing the appearance of a Bokeh plot involves adjusting various properties such as axes, title, legend, colors, and more.\n",
    "Below is an example demonstrating how to customize different aspects of a Bokeh plot\n",
    "'''\n",
    "\n",
    "from bokeh.plotting import figure, show\n",
    "from bokeh.io import output_file\n",
    "\n",
    "# Sample data\n",
    "x = [1, 2, 3, 4, 5]\n",
    "y = [6, 7, 2, 4, 8]\n",
    "\n",
    "# Create a Bokeh figure\n",
    "plot = figure(\n",
    "    title='Customized Bokeh Plot',\n",
    "    x_axis_label='X-axis Label',\n",
    "    y_axis_label='Y-axis Label',\n",
    "    width=600,  # Width of the plot in pixels\n",
    "    height=400,  # Height of the plot in pixels\n",
    "    toolbar_location='above',  # Position of the toolbar\n",
    "    tools='pan,box_zoom,reset',  # Tools to display\n",
    "    background_fill_color='#f2f2f2',  # Background color of the plot\n",
    "    border_fill_color='white',  # Border color of the plot\n",
    ")\n",
    "\n",
    "# Add circle glyphs to represent data points\n",
    "plot.circle(x, y, size=10, color='blue', alpha=0.5, legend_label='Circle Glyphs')\n",
    "\n",
    "# Customize axes\n",
    "plot.xaxis.axis_label_text_color = 'purple'\n",
    "plot.yaxis.axis_label_text_color = 'green'\n",
    "plot.xaxis.major_label_text_color = 'purple'\n",
    "plot.yaxis.major_label_text_color = 'green'\n",
    "\n",
    "# Customize title\n",
    "plot.title.text_color = 'navy'\n",
    "plot.title.text_font_size = '16pt'\n",
    "plot.title.align = 'center'\n",
    "\n",
    "# Customize legend\n",
    "plot.legend.label_text_color = 'red'\n",
    "plot.legend.label_text_font = 'italic'\n",
    "plot.legend.label_text_font_size = '12pt'\n",
    "plot.legend.background_fill_alpha = 0.8\n",
    "\n",
    "# Specify the output file\n",
    "output_file('customized_bokeh_plot_of_question_3.html')\n",
    "\n",
    "# Display the plot\n",
    "show(plot)\n"
   ]
  },
  {
   "cell_type": "code",
   "execution_count": null,
   "id": "4a68a6fe-4f68-46a4-adc5-985241deceab",
   "metadata": {},
   "outputs": [],
   "source": []
  },
  {
   "cell_type": "markdown",
   "id": "d28a6b71-3eaa-4741-afe8-83d5868b1cc6",
   "metadata": {},
   "source": [
    "# Question 4"
   ]
  },
  {
   "cell_type": "markdown",
   "id": "be0f0ce3-5cbf-4b1e-a570-dab871a9299c",
   "metadata": {},
   "source": [
    "### What is a Bokeh server, and how can you use it to create interactive plots that can be updated in real time?"
   ]
  },
  {
   "cell_type": "code",
   "execution_count": 9,
   "id": "ef881f39-7f03-4539-a59d-70fc7808d711",
   "metadata": {},
   "outputs": [],
   "source": [
    "'''\n",
    "Bokeh Server is a component of the Bokeh library that allows to create interactive and real-time data applications. \n",
    "Bokeh Server can build web applications that update in response to user input or changes in the underlying data.\n",
    "'''\n",
    "\n",
    "# Creating Bookeh Server\n",
    "\n",
    "# app.py\n",
    "from bokeh.plotting import figure, curdoc\n",
    "from bokeh.models import ColumnDataSource\n",
    "from bokeh.io import push_notebook\n",
    "import numpy as np\n",
    "\n",
    "# Creating a Bokeh figure\n",
    "plot = figure(outer_height=300, outer_width=600, tools=\"pan,reset,save\")\n",
    "\n",
    "# Generating initial data\n",
    "x = np.linspace(0, 4 * np.pi, 100)\n",
    "y = np.sin(x)\n",
    "source = ColumnDataSource(data=dict(x=x, y=y))\n",
    "\n",
    "# Adding a line glyph\n",
    "line = plot.line('x', 'y', source=source, line_width=2)\n",
    "\n",
    "def update_data():\n",
    "    # Updating the data in the ColumnDataSource\n",
    "    new_y = np.sin(x + curdoc().session_context.request.arguments.get('phase', b'0').decode())\n",
    "    source.data = dict(x=x, y=new_y)\n",
    "\n",
    "# Adding periodic callback to update data every second\n",
    "curdoc().add_periodic_callback(update_data, 1000)\n",
    "\n",
    "# Showing the plot\n",
    "curdoc().title = \"Real-time Bokeh Plot\"\n",
    "curdoc().add_root(plot)"
   ]
  },
  {
   "cell_type": "code",
   "execution_count": null,
   "id": "250963f6-443c-4228-853f-25b328aedd29",
   "metadata": {},
   "outputs": [],
   "source": []
  }
 ],
 "metadata": {
  "kernelspec": {
   "display_name": "Python 3 (ipykernel)",
   "language": "python",
   "name": "python3"
  },
  "language_info": {
   "codemirror_mode": {
    "name": "ipython",
    "version": 3
   },
   "file_extension": ".py",
   "mimetype": "text/x-python",
   "name": "python",
   "nbconvert_exporter": "python",
   "pygments_lexer": "ipython3",
   "version": "3.10.8"
  }
 },
 "nbformat": 4,
 "nbformat_minor": 5
}
