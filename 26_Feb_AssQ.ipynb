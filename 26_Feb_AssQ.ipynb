{
 "cells": [
  {
   "cell_type": "markdown",
   "id": "124db44c-89e1-4387-8839-837380194d41",
   "metadata": {},
   "source": [
    "Consider the below code to answer further questions:\n",
    "\n",
    "import numpy as np\n",
    "\n",
    "list_ = [ ‘1’ , ’2’ , ‘3’ , ‘4’ , ‘5’ ]\n",
    "\n",
    "array_list = np.array(object = list_)"
   ]
  },
  {
   "cell_type": "markdown",
   "id": "a8eba5ee-0e52-41da-a7cb-4afb25a7dbd8",
   "metadata": {},
   "source": [
    "# Question 1"
   ]
  },
  {
   "cell_type": "markdown",
   "id": "21ce0e85-43f5-4677-8e50-7fbe69bfa624",
   "metadata": {},
   "source": [
    "Is there any difference in the data type of variables list_ and array_list? If there is then write a code\n",
    "to print the data types of both the variables"
   ]
  },
  {
   "cell_type": "code",
   "execution_count": 1,
   "id": "8bc217bf-756b-4013-8fd6-f7ccc0769632",
   "metadata": {},
   "outputs": [
    {
     "data": {
      "text/plain": [
       "'\\nYes, \\nthere is a difference in the data type between the list_ and array_list variables. \\nThe list_ variable is a Python list, and the array_list variable is a NumPy array.\\n'"
      ]
     },
     "execution_count": 1,
     "metadata": {},
     "output_type": "execute_result"
    }
   ],
   "source": [
    "'''\n",
    "Yes, \n",
    "there is a difference in the data type between the list_ and array_list variables. \n",
    "The list_ variable is a Python list, and the array_list variable is a NumPy array.\n",
    "'''\n"
   ]
  },
  {
   "cell_type": "code",
   "execution_count": null,
   "id": "97347ef4-1eea-44e6-9ed1-c65292ecc9cc",
   "metadata": {},
   "outputs": [],
   "source": []
  },
  {
   "cell_type": "markdown",
   "id": "ffc61a21-1305-45e2-a8a6-fd89d0ab7857",
   "metadata": {},
   "source": [
    "# Question 2"
   ]
  },
  {
   "cell_type": "markdown",
   "id": "15c714c5-47cb-4601-8ba9-5e16e16ad6ee",
   "metadata": {},
   "source": [
    "Write a code to print the data type of each and every element of both the variables list_ and\n",
    "arra_list."
   ]
  },
  {
   "cell_type": "code",
   "execution_count": 2,
   "id": "aae3ffc6-c4c5-4042-8ae5-ff4114778e36",
   "metadata": {},
   "outputs": [
    {
     "name": "stdout",
     "output_type": "stream",
     "text": [
      "Data types of elements in list_:\n",
      "<class 'str'>\n",
      "<class 'str'>\n",
      "<class 'str'>\n",
      "<class 'str'>\n",
      "<class 'str'>\n",
      "\n",
      "Data types of elements in array_list:\n",
      "<class 'numpy.str_'>\n",
      "<class 'numpy.str_'>\n",
      "<class 'numpy.str_'>\n",
      "<class 'numpy.str_'>\n",
      "<class 'numpy.str_'>\n"
     ]
    }
   ],
   "source": [
    "import numpy as np\n",
    "\n",
    "list_ = ['1', '2', '3', '4', '5']\n",
    "array_list = np.array(object=list_)\n",
    "\n",
    "# Printing data types of each element in list_\n",
    "print(\"Data types of elements in list_:\")\n",
    "for element in list_:\n",
    "    print(type(element))\n",
    "\n",
    "# Printing data types of each element in array_list\n",
    "print(\"\\nData types of elements in array_list:\")\n",
    "for element in array_list:\n",
    "    print(type(element))"
   ]
  },
  {
   "cell_type": "code",
   "execution_count": null,
   "id": "27bb68a2-0c4f-4903-813e-cfc0f9e03e14",
   "metadata": {},
   "outputs": [],
   "source": []
  },
  {
   "cell_type": "markdown",
   "id": "37d63bba-d169-4941-bcfb-69ff93e5b485",
   "metadata": {},
   "source": [
    "# Question 3"
   ]
  },
  {
   "cell_type": "markdown",
   "id": "a4f7e8c6-fd7d-41b5-8cd6-3caece796b4f",
   "metadata": {},
   "source": [
    "Considering the following changes in the variable, array_list:\n",
    "\n",
    "array_list = np.array(object = list_, dtype = int)\n",
    "\n",
    "Will there be any difference in the data type of the elements present in both the variables, list_ and\n",
    "arra_list? If so then print the data types of each and every element present in both the variables, list_\n",
    "and arra_list."
   ]
  },
  {
   "cell_type": "code",
   "execution_count": 7,
   "id": "08abc4e5-5e90-413a-9996-39f2da0ae6fb",
   "metadata": {},
   "outputs": [
    {
     "name": "stdout",
     "output_type": "stream",
     "text": [
      "Data types of elements in list_:\n",
      "<class 'str'>\n",
      "<class 'str'>\n",
      "<class 'str'>\n",
      "<class 'str'>\n",
      "<class 'str'>\n",
      "\n",
      "Data types of elements in modified array_list:\n",
      "<class 'numpy.int64'>\n",
      "<class 'numpy.int64'>\n",
      "<class 'numpy.int64'>\n",
      "<class 'numpy.int64'>\n",
      "<class 'numpy.int64'>\n"
     ]
    }
   ],
   "source": [
    "'''\n",
    "Yes, there will be a difference in the data type of the elements present in the array_list variable after the modification. \n",
    "The dtype=int parameter in np.array will force the elements to be converted to integers.\n",
    "'''\n",
    "\n",
    "# Printing the datatypes of the element present in the both variables\n",
    "\n",
    "import numpy as np\n",
    "\n",
    "list_ = ['1', '2', '3', '4', '5']\n",
    "array_list = np.array(object=list_, dtype=int)\n",
    "\n",
    "# Print data types of elements in list_\n",
    "print(\"Data types of elements in list_:\")\n",
    "for element in list_:\n",
    "    print(type(element))\n",
    "\n",
    "# Print data types of elements in modified array_list\n",
    "print(\"\\nData types of elements in modified array_list:\")\n",
    "for element in array_list:\n",
    "    print(type(element))"
   ]
  },
  {
   "cell_type": "code",
   "execution_count": null,
   "id": "ad2bbe6b-b6c7-4662-a8db-0d0ba06ed798",
   "metadata": {},
   "outputs": [],
   "source": []
  },
  {
   "cell_type": "markdown",
   "id": "9123a545-fee6-4660-93ca-40a20a94dee2",
   "metadata": {},
   "source": [
    "# Question 4"
   ]
  },
  {
   "cell_type": "markdown",
   "id": "001a43be-aeaf-47fe-b92b-66e7631de35f",
   "metadata": {},
   "source": [
    "Consider the below code to answer further questions:\n",
    "\n",
    "    \n",
    "import numpy as np\n",
    "\n",
    "\n",
    "num_list = [ [ 1 , 2 , 3 ] , [ 4 , 5 , 6 ] ]\n",
    "\n",
    "\n",
    "num_array = np.array(object = num_list)"
   ]
  },
  {
   "cell_type": "markdown",
   "id": "e80d79e9-e0e0-42de-bfae-5e7f1b62befb",
   "metadata": {},
   "source": [
    "Write a code to find the following characteristics of variable, num_array:\n",
    "(i) shape\n",
    "(ii) size"
   ]
  },
  {
   "cell_type": "code",
   "execution_count": 8,
   "id": "f37b79af-6e87-4288-8cf6-2ec47ff9c0b8",
   "metadata": {},
   "outputs": [
    {
     "name": "stdout",
     "output_type": "stream",
     "text": [
      "Shape of num_array: (2, 3)\n",
      "Size of num_array: 6\n"
     ]
    }
   ],
   "source": [
    "import numpy as np\n",
    "\n",
    "num_list = [[1, 2, 3], [4, 5, 6]]\n",
    "num_array = np.array(object=num_list)\n",
    "\n",
    "# (i) Finding the shape of num_array\n",
    "shape_of_num_array = num_array.shape\n",
    "\n",
    "# (ii) Finding the size of num_array\n",
    "size_of_num_array = num_array.size\n",
    "\n",
    "# Printing the results\n",
    "print(\"Shape of num_array:\", shape_of_num_array)\n",
    "print(\"Size of num_array:\", size_of_num_array)\n"
   ]
  },
  {
   "cell_type": "code",
   "execution_count": null,
   "id": "d5b0ad94-153a-4456-8fc0-b62a77a0d059",
   "metadata": {},
   "outputs": [],
   "source": []
  },
  {
   "cell_type": "markdown",
   "id": "0869da8b-7c64-4305-b96c-84b59b6e0278",
   "metadata": {},
   "source": [
    "# Question 5"
   ]
  },
  {
   "cell_type": "markdown",
   "id": "507b2531-2d42-4ea4-b3fc-19c3ad00b1a6",
   "metadata": {},
   "source": [
    "Write a code to create numpy array of 3*3 matrix containing zeros only, using a numpy array\n",
    "creation function.\n",
    "\n",
    "[Hint: The size of the array will be 9 and the shape will be (3,3).]"
   ]
  },
  {
   "cell_type": "code",
   "execution_count": 9,
   "id": "7d0fc772-8b46-4244-bfe0-c8c73d7d2963",
   "metadata": {},
   "outputs": [
    {
     "name": "stdout",
     "output_type": "stream",
     "text": [
      "[[0. 0. 0.]\n",
      " [0. 0. 0.]\n",
      " [0. 0. 0.]]\n"
     ]
    }
   ],
   "source": [
    "# Creating a 3x3 matrix containing zeros\n",
    "zero_matrix = np.zeros((3, 3))\n",
    "\n",
    "# Print the resulting array\n",
    "print(zero_matrix)"
   ]
  },
  {
   "cell_type": "code",
   "execution_count": null,
   "id": "8c64a1b5-39bf-488d-8247-9bf795211623",
   "metadata": {},
   "outputs": [],
   "source": []
  },
  {
   "cell_type": "markdown",
   "id": "56ce96b2-8739-49bf-bd54-a8a4c33abd67",
   "metadata": {},
   "source": [
    "# Question 6"
   ]
  },
  {
   "cell_type": "markdown",
   "id": "343f5630-1454-494f-ad3a-f91fcfc1ccfc",
   "metadata": {},
   "source": [
    "Create an identity matrix of shape (5,5) using numpy functions?\n",
    "\n",
    "[Hint: An identity matrix is a matrix containing 1 diagonally and other elements will be 0.]"
   ]
  },
  {
   "cell_type": "code",
   "execution_count": 11,
   "id": "2a2bedd7-3075-46cc-bc8f-73b0b4c68a67",
   "metadata": {},
   "outputs": [
    {
     "name": "stdout",
     "output_type": "stream",
     "text": [
      "[[1. 0. 0. 0. 0.]\n",
      " [0. 1. 0. 0. 0.]\n",
      " [0. 0. 1. 0. 0.]\n",
      " [0. 0. 0. 1. 0.]\n",
      " [0. 0. 0. 0. 1.]]\n"
     ]
    }
   ],
   "source": [
    "# Creating a 5x5 identity matrix\n",
    "identity_matrix = np.eye(5)\n",
    "\n",
    "# Printing the resulting array\n",
    "print(identity_matrix)"
   ]
  },
  {
   "cell_type": "code",
   "execution_count": null,
   "id": "3ce6775b-cdc2-4e8f-95e0-39232b9a7fb8",
   "metadata": {},
   "outputs": [],
   "source": []
  }
 ],
 "metadata": {
  "kernelspec": {
   "display_name": "Python 3 (ipykernel)",
   "language": "python",
   "name": "python3"
  },
  "language_info": {
   "codemirror_mode": {
    "name": "ipython",
    "version": 3
   },
   "file_extension": ".py",
   "mimetype": "text/x-python",
   "name": "python",
   "nbconvert_exporter": "python",
   "pygments_lexer": "ipython3",
   "version": "3.10.8"
  }
 },
 "nbformat": 4,
 "nbformat_minor": 5
}
