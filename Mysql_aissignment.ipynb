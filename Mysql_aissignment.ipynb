{
 "cells": [
  {
   "cell_type": "markdown",
   "id": "492b33e3-87a0-4e32-b237-b0e13df1d337",
   "metadata": {},
   "source": [
    "# Question 1"
   ]
  },
  {
   "cell_type": "markdown",
   "id": "61f3ca6d-4987-4ccd-9db3-51243b183e1d",
   "metadata": {},
   "source": [
    "What is a database? Differentiate between SQL and NoSQL databases."
   ]
  },
  {
   "cell_type": "code",
   "execution_count": 1,
   "id": "1e8be225-b07d-4fe2-b12a-02c71516c318",
   "metadata": {},
   "outputs": [
    {
     "data": {
      "text/plain": [
       "' \\nSQL Databases\\n\\nSQL databases, also known as relational databases, are designed to handle structured data and are based on a tabular schema. \\nThey use a predefined schema to define the structure of the data, including tables, rows, and columns.\\n \\n \\n NoSQL Database\\n \\nNoSQL databases are designed to handle unstructured or semi-structured data and provide a more flexible schema. \\nThey allow for dynamic addition of fields without requiring a predefined schema. '"
      ]
     },
     "execution_count": 1,
     "metadata": {},
     "output_type": "execute_result"
    }
   ],
   "source": [
    "''' A database is a structured collection of data that is organized and stored in a way that allows for efficient retrieval, management, and updating \n",
    "of information. It serves as a central repository for data used by various applications and systems. '''\n",
    "\n",
    "# Difference Between SQL and NoSQL\n",
    "\n",
    "''' \n",
    "SQL Databases\n",
    "\n",
    "SQL databases, also known as relational databases, are designed to handle structured data and are based on a tabular schema. \n",
    "They use a predefined schema to define the structure of the data, including tables, rows, and columns.\n",
    " \n",
    " \n",
    " NoSQL Database\n",
    " \n",
    "NoSQL databases are designed to handle unstructured or semi-structured data and provide a more flexible schema. \n",
    "They allow for dynamic addition of fields without requiring a predefined schema. '''"
   ]
  },
  {
   "cell_type": "code",
   "execution_count": null,
   "id": "afc04490-54bd-4012-bc32-3c34b7a322aa",
   "metadata": {},
   "outputs": [],
   "source": []
  },
  {
   "cell_type": "markdown",
   "id": "7a004a2b-640a-429b-8d20-090f5828495c",
   "metadata": {},
   "source": [
    "# Question 2"
   ]
  },
  {
   "cell_type": "markdown",
   "id": "7526f221-a2ae-4091-b115-d29bf37cbf9c",
   "metadata": {},
   "source": [
    "What is DDL? Explain why CREATE, DROP, ALTER, and TRUNCATE are used with an example."
   ]
  },
  {
   "cell_type": "code",
   "execution_count": 2,
   "id": "90017597-91b4-49d4-9692-bf2ad57c5f75",
   "metadata": {},
   "outputs": [
    {
     "data": {
      "text/plain": [
       "'The TRUNCATE statement is used to remove all rows from a table, effectively deleting all data without removing the table structure.'"
      ]
     },
     "execution_count": 2,
     "metadata": {},
     "output_type": "execute_result"
    }
   ],
   "source": [
    "# DDL\n",
    "\n",
    "'''DDL stands for Data Definition Language, and it is a subset of SQL (Structured Query Language) \n",
    "that deals with the definition and structure of the database, including the creation, modification, and deletion of database objects. \n",
    "DDL statements are used to define and manage the structure of tables, indexes, views, and other database elements. '''\n",
    "\n",
    "\n",
    "# CREATE\n",
    "\n",
    "'''The CREATE statement is used to create new database objects, such as tables, indexes, or views.'''\n",
    "\n",
    "\n",
    "# CREATE TABLE Employees (\n",
    "#     EmployeeID INT PRIMARY KEY,\n",
    "#     Name VARCHAR(50),\n",
    "#     Salary DECIMAL(10,2)\n",
    "# );\n",
    "\n",
    "\n",
    "# DROP\n",
    "\n",
    "'''The DROP statement is used to remove existing database objects, such as tables or indexes.'''\n",
    "\n",
    "# DROP TABLE Employees;\n",
    "\n",
    "# ALTER\n",
    "\n",
    "'''The ALTER statement is used to modify the structure of existing database objects, such as adding or dropping columns from a table.'''\n",
    "\n",
    "# ALTER TABLE Employees\n",
    "# ADD COLUMN Department VARCHAR(50);\n",
    "\n",
    "\n",
    "# TRUNCATE\n",
    "\n",
    "'''The TRUNCATE statement is used to remove all rows from a table, effectively deleting all data without removing the table structure.'''\n",
    "\n",
    "# TRUNCATE TABLE Employees;\n"
   ]
  },
  {
   "cell_type": "code",
   "execution_count": null,
   "id": "8c3da4bd-285d-4c1e-8d36-ba601bdf3534",
   "metadata": {},
   "outputs": [],
   "source": []
  },
  {
   "cell_type": "markdown",
   "id": "b12d19e1-e184-4b4e-9176-512061b0d640",
   "metadata": {},
   "source": [
    "# Question 3"
   ]
  },
  {
   "cell_type": "markdown",
   "id": "05637e9f-0837-44bf-9bcd-c85004389371",
   "metadata": {},
   "source": [
    "What is DML? Explain INSERT, UPDATE, and DELETE with an example."
   ]
  },
  {
   "cell_type": "code",
   "execution_count": 3,
   "id": "735d1e34-680f-4820-8f66-10cd52ed95d6",
   "metadata": {},
   "outputs": [
    {
     "data": {
      "text/plain": [
       "'DML stands for Data Manipulation Language, and it is a subset of SQL (Structured Query Language) \\nthat deals with the manipulation of data stored in the database. \\nDML statements are used to insert, update, retrieve, and delete data from the database.'"
      ]
     },
     "execution_count": 3,
     "metadata": {},
     "output_type": "execute_result"
    }
   ],
   "source": [
    "# DML (Data Manipulation Language):\n",
    "\n",
    "'''DML stands for Data Manipulation Language, and it is a subset of SQL (Structured Query Language) \n",
    "that deals with the manipulation of data stored in the database. \n",
    "DML statements are used to insert, update, retrieve, and delete data from the database.'''\n",
    "\n",
    "\n",
    "# INSERT\n",
    "\n",
    "# The INSERT statement is used to add new records (rows) to a table.\n",
    "\n",
    "# SQL Code\n",
    "# INSERT INTO Employees (EmployeeID, Name, Salary, Department)\n",
    "# VALUES (1, 'John Doe', 50000.00, 'IT');\n",
    "\n",
    "# UPDATE\n",
    "\n",
    "# The UPDATE statement is used to modify existing records in a table.\n",
    "\n",
    "# UPDATE Employees\n",
    "# SET Salary = 55000.00\n",
    "# WHERE Name = 'John Doe';\n",
    "\n",
    "\n",
    "# DELETE\n",
    "\n",
    "# The DELETE statement is used to remove records from a table based on a specified condition.\n",
    "\n",
    "# DELETE FROM Employees\n",
    "# WHERE EmployeeID = 1;\n"
   ]
  },
  {
   "cell_type": "code",
   "execution_count": null,
   "id": "1d1d648b-a054-43d2-8535-cf5ce46cc8c8",
   "metadata": {},
   "outputs": [],
   "source": []
  },
  {
   "cell_type": "markdown",
   "id": "1e04bc5b-5497-4453-a759-0cbaf4fa8a1d",
   "metadata": {},
   "source": [
    "# Question 4"
   ]
  },
  {
   "cell_type": "markdown",
   "id": "eda68898-d367-46b4-9bc4-b108be7ef42d",
   "metadata": {},
   "source": [
    "What is DQL? Explain SELECT with an example."
   ]
  },
  {
   "cell_type": "code",
   "execution_count": 4,
   "id": "bf5ff640-2e7e-4a09-b7f8-0a36b0dcf42c",
   "metadata": {},
   "outputs": [],
   "source": [
    "# DQL (Data Query Language):\n",
    "\n",
    "# DQL stands for Data Query Language, and it is a subset of SQL (Structured Query Language) that deals with the retrieval of data from a database.\n",
    "\n",
    "\n",
    "# The SELECT statement is used to query and retrieve data from one or more tables in a database.\n",
    "\n",
    "# SELECT * FROM Employees;\n"
   ]
  },
  {
   "cell_type": "code",
   "execution_count": null,
   "id": "1afe8b17-8e73-45b9-9f63-8d4c944c1e47",
   "metadata": {},
   "outputs": [],
   "source": []
  },
  {
   "cell_type": "markdown",
   "id": "9f80be37-a3b1-468f-b87d-04d093585e65",
   "metadata": {},
   "source": [
    "# Question 5"
   ]
  },
  {
   "cell_type": "markdown",
   "id": "28b05895-348d-492b-9408-a1ac0a68e080",
   "metadata": {},
   "source": [
    "Explain Primary Key and Foreign Key"
   ]
  },
  {
   "cell_type": "code",
   "execution_count": 5,
   "id": "7f657737-1d43-4add-9948-9fa6b69e3ab3",
   "metadata": {},
   "outputs": [
    {
     "data": {
      "text/plain": [
       "'A foreign key is a column or a set of columns in a relational database table that refers to the primary key of another table. \\nIt establishes a link between two tables by referencing the primary key of one table as a foreign key in another. '"
      ]
     },
     "execution_count": 5,
     "metadata": {},
     "output_type": "execute_result"
    }
   ],
   "source": [
    "# Primary Key:\n",
    "\n",
    "'''A primary key is a column or a set of columns in a relational database table that uniquely identifies each record in that table. \n",
    "The primary key must contain unique values, and it cannot have NULL values. '''\n",
    "\n",
    "\n",
    "# Foreign Key:\n",
    "\n",
    "'''A foreign key is a column or a set of columns in a relational database table that refers to the primary key of another table. \n",
    "It establishes a link between two tables by referencing the primary key of one table as a foreign key in another. '''"
   ]
  },
  {
   "cell_type": "code",
   "execution_count": null,
   "id": "0e214a29-c92c-48fa-9146-9c5412e9a45f",
   "metadata": {},
   "outputs": [],
   "source": []
  },
  {
   "cell_type": "markdown",
   "id": "4a3ea9c7-09f3-49b5-b3f2-bb54ff065510",
   "metadata": {},
   "source": [
    "# Question 6"
   ]
  },
  {
   "cell_type": "markdown",
   "id": "d90cd0bb-81d7-4166-9c9b-658a8994f6fc",
   "metadata": {},
   "source": [
    "Write a python code to connect MySQL to python. Explain the cursor() and execute() method"
   ]
  },
  {
   "cell_type": "code",
   "execution_count": null,
   "id": "26c8a6f8-d48c-47fa-9001-be1499db3015",
   "metadata": {},
   "outputs": [],
   "source": []
  },
  {
   "cell_type": "code",
   "execution_count": null,
   "id": "2afaa6f6-65ba-42c9-a11b-d9ec6fbd0a74",
   "metadata": {},
   "outputs": [],
   "source": []
  },
  {
   "cell_type": "markdown",
   "id": "4e607233-ce83-448e-9170-882585d118b9",
   "metadata": {},
   "source": [
    "# Question 7"
   ]
  },
  {
   "cell_type": "markdown",
   "id": "d514da6e-ccb1-4d7a-bf63-cdd17204baec",
   "metadata": {},
   "source": [
    "Give the order of execution of SQL clauses in an SQL query"
   ]
  },
  {
   "cell_type": "code",
   "execution_count": null,
   "id": "996c63b1-6c46-4dec-8b53-3be54762d865",
   "metadata": {},
   "outputs": [],
   "source": []
  }
 ],
 "metadata": {
  "kernelspec": {
   "display_name": "Python 3 (ipykernel)",
   "language": "python",
   "name": "python3"
  },
  "language_info": {
   "codemirror_mode": {
    "name": "ipython",
    "version": 3
   },
   "file_extension": ".py",
   "mimetype": "text/x-python",
   "name": "python",
   "nbconvert_exporter": "python",
   "pygments_lexer": "ipython3",
   "version": "3.10.8"
  }
 },
 "nbformat": 4,
 "nbformat_minor": 5
}
