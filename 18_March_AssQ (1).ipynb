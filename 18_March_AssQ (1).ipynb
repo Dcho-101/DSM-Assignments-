{
 "cells": [
  {
   "cell_type": "markdown",
   "id": "4e0a1f88-1b07-4a2d-93e9-fc4badbbdea3",
   "metadata": {},
   "source": [
    "# Question 1"
   ]
  },
  {
   "cell_type": "markdown",
   "id": "fb4e8f9e-0821-4573-a782-7abce2fecd23",
   "metadata": {},
   "source": [
    "What is the Filter method in feature selection, and how does it work?"
   ]
  },
  {
   "cell_type": "code",
   "execution_count": 4,
   "id": "862d55a0-c3a2-44da-b823-4e25dd27176d",
   "metadata": {},
   "outputs": [
    {
     "data": {
      "text/plain": [
       "'\\nFilter methods helps to measure the relevance of features by their correlation with dependent variable\\n'"
      ]
     },
     "execution_count": 4,
     "metadata": {},
     "output_type": "execute_result"
    }
   ],
   "source": [
    "# Filter Method\n",
    "\n",
    "'''\n",
    "filter methods in feature selection in machine learning are a way to pick the most valuable information from a large data set \n",
    "that can help your model make better predictions\n",
    "'''\n",
    "\n",
    "# Work of Filter method\n",
    "'''\n",
    "Filter methods helps to measure the relevance of features by their correlation with dependent variable\n",
    "'''"
   ]
  },
  {
   "cell_type": "code",
   "execution_count": null,
   "id": "4b9a938d-d751-45a2-8b2f-4f5f6e14be33",
   "metadata": {},
   "outputs": [],
   "source": []
  },
  {
   "cell_type": "markdown",
   "id": "c370f328-39d2-4c8d-950e-aaf864b68bca",
   "metadata": {},
   "source": [
    "# Question 2"
   ]
  },
  {
   "cell_type": "markdown",
   "id": "039e8665-3109-478d-9715-f5469f61c453",
   "metadata": {},
   "source": [
    "How does the Wrapper method differ from the Filter method in feature selection?"
   ]
  },
  {
   "cell_type": "code",
   "execution_count": 3,
   "id": "15e6b337-6fc6-4b88-b102-daef1dd0e962",
   "metadata": {},
   "outputs": [
    {
     "data": {
      "text/plain": [
       "'\\nMajor differences in the Filter method and Wrapper method are:\\n\\n1. Filter methods measure the relevance of features by their correlation with dependent variable \\nwhile wrapper methods measure the usefulness of a subset of feature by actually training a model on it.\\n\\n2. Filter methods are much faster compared to wrapper methods as they do not involve training the models. \\nOn the other hand, wrapper methods are computationally very expensive as well.\\n\\n3. Using the subset of features from the wrapper methods make the model more prone to overfitting as compared to using subset of features from the filter methods.\\n'"
      ]
     },
     "execution_count": 3,
     "metadata": {},
     "output_type": "execute_result"
    }
   ],
   "source": [
    "'''\n",
    "Major differences in the Filter method and Wrapper method are:\n",
    "\n",
    "1. Filter methods measure the relevance of features by their correlation with dependent variable \n",
    "while wrapper methods measure the usefulness of a subset of feature by actually training a model on it.\n",
    "\n",
    "2. Filter methods are much faster compared to wrapper methods as they do not involve training the models. \n",
    "On the other hand, wrapper methods are computationally very expensive as well.\n",
    "\n",
    "3. Using the subset of features from the wrapper methods make the model more prone to overfitting as compared to using subset of features from the filter methods.\n",
    "'''\n"
   ]
  },
  {
   "cell_type": "code",
   "execution_count": null,
   "id": "f7852840-1f28-4e26-910f-ae1886b55739",
   "metadata": {},
   "outputs": [],
   "source": []
  },
  {
   "cell_type": "markdown",
   "id": "1b77896b-f87a-4674-a4a5-6dc7c11666e2",
   "metadata": {},
   "source": [
    "# Question 3"
   ]
  },
  {
   "cell_type": "markdown",
   "id": "2664a457-a6d7-462a-9728-ed793f908c4a",
   "metadata": {},
   "source": [
    "What are some common techniques used in Embedded feature selection methods?"
   ]
  },
  {
   "cell_type": "code",
   "execution_count": 2,
   "id": "98f5e673-0068-4b60-9ec5-8cd2b5ef2434",
   "metadata": {},
   "outputs": [
    {
     "data": {
      "text/plain": [
       "'\\nThere are some common techniques available to use in the embedded feature selection methods\\n\\n1. Forward Selection\\n2. Backward Elemination\\n3. Pearson Corelation Coefficient\\n4. Wrapper Methods\\n5.  ANOVA\\nand many more\\n'"
      ]
     },
     "execution_count": 2,
     "metadata": {},
     "output_type": "execute_result"
    }
   ],
   "source": [
    "'''\n",
    "There are some common techniques available to use in the embedded feature selection methods\n",
    "\n",
    "1. Forward Selection\n",
    "2. Backward Elemination\n",
    "3. Pearson Corelation Coefficient\n",
    "4. Wrapper Methods\n",
    "5.  ANOVA\n",
    "and many more\n",
    "'''\n"
   ]
  },
  {
   "cell_type": "code",
   "execution_count": null,
   "id": "58681cf0-9fd4-41ae-8c52-3a2859264134",
   "metadata": {},
   "outputs": [],
   "source": []
  },
  {
   "cell_type": "markdown",
   "id": "c449b571-44e5-4d62-953f-84ac9af2d7d1",
   "metadata": {},
   "source": [
    "# Question 4"
   ]
  },
  {
   "cell_type": "markdown",
   "id": "2898c3ce-f08e-4b7e-b6bc-67d2b7cff377",
   "metadata": {},
   "source": [
    "What are some drawbacks of using the Filter method for feature selection?"
   ]
  },
  {
   "cell_type": "code",
   "execution_count": 1,
   "id": "b1e1cfea-1355-49b0-96e0-ab61f99e632f",
   "metadata": {},
   "outputs": [
    {
     "data": {
      "text/plain": [
       "'\\nMain Disadvantage of using Filter Method is:\\n1. The model does not interact with the predictive model for feature selection\\n\\n2. This method ignores feature dependencies which may lead to low computational performance\\n\\n'"
      ]
     },
     "execution_count": 1,
     "metadata": {},
     "output_type": "execute_result"
    }
   ],
   "source": [
    "'''\n",
    "Main Disadvantage of using Filter Method is:\n",
    "1. The model does not interact with the predictive model for feature selection\n",
    "\n",
    "2. This method ignores feature dependencies which may lead to low computational performance\n",
    "\n",
    "'''"
   ]
  },
  {
   "cell_type": "code",
   "execution_count": null,
   "id": "392eee07-1588-45cd-883d-dae4a5040e8a",
   "metadata": {},
   "outputs": [],
   "source": []
  },
  {
   "cell_type": "markdown",
   "id": "94557624-9013-4d1e-a984-9bc02ab69827",
   "metadata": {},
   "source": [
    "# Question 5"
   ]
  },
  {
   "cell_type": "markdown",
   "id": "7a45d9cb-33f4-43dd-bd73-148b3a44d11b",
   "metadata": {},
   "source": [
    "In which situations would you prefer using the Filter method over the Wrapper method for feature\n",
    "selection?"
   ]
  },
  {
   "cell_type": "code",
   "execution_count": 6,
   "id": "5b3a781f-f2d3-45fb-bcff-99d078efd964",
   "metadata": {},
   "outputs": [
    {
     "data": {
      "text/plain": [
       "'\\n1. High-Dimensional Data\\n2. Initial Exploration\\n3. Low Computational Resources\\n4. Preprocessing in Pipelines\\n\\nthese are some situation in which I can prefer the Filter method over the Wrapper for Feature selection\\n'"
      ]
     },
     "execution_count": 6,
     "metadata": {},
     "output_type": "execute_result"
    }
   ],
   "source": []
  },
  {
   "cell_type": "code",
   "execution_count": null,
   "id": "111d99a5-4a16-4021-b17c-1752aaf58257",
   "metadata": {},
   "outputs": [],
   "source": []
  },
  {
   "cell_type": "markdown",
   "id": "7f14eb38-f50a-4052-a678-e06ec5e38cac",
   "metadata": {},
   "source": [
    "# Question 6"
   ]
  },
  {
   "cell_type": "markdown",
   "id": "233b6024-16df-4f43-9975-b7cbb6c0fdec",
   "metadata": {},
   "source": [
    "In a telecom company, you are working on a project to develop a predictive model for customer churn.\n",
    "You are unsure of which features to include in the model because the dataset contains several different\n",
    "ones. Describe how you would choose the most pertinent attributes for the model using the Filter Method."
   ]
  },
  {
   "cell_type": "code",
   "execution_count": 5,
   "id": "ea55f68b-3416-422b-b8c4-e71b8ebfeeac",
   "metadata": {},
   "outputs": [
    {
     "data": {
      "text/plain": [
       "'\\nsome steps can be taken into account to choose most pertinent attribute\\n\\n1. Variance for removing constant features\\n2. Chi-Square used for classfication \\n3. Corellation coefficient for removing duplicate values\\n4. Assess the dependency of the independent and dependent variable in predicting the target variable \\n'"
      ]
     },
     "execution_count": 5,
     "metadata": {},
     "output_type": "execute_result"
    }
   ],
   "source": [
    "'''\n",
    "some steps can be taken into account to choose most pertinent attribute\n",
    "\n",
    "1. Variance for removing constant features\n",
    "2. Chi-Square used for classfication \n",
    "3. Corellation coefficient for removing duplicate values\n",
    "4. Assess the dependency of the independent and dependent variable in predicting the target variable \n",
    "'''"
   ]
  },
  {
   "cell_type": "code",
   "execution_count": null,
   "id": "44fd28fb-d715-499c-913c-cc2e4d0f2b3d",
   "metadata": {},
   "outputs": [],
   "source": []
  },
  {
   "cell_type": "markdown",
   "id": "6d21fd6d-5da8-452e-82d8-da093a1afda5",
   "metadata": {},
   "source": [
    "# Question 7"
   ]
  },
  {
   "cell_type": "markdown",
   "id": "18a9b500-2129-42de-8b6f-2712b63e2352",
   "metadata": {},
   "source": [
    "You are working on a project to predict the outcome of a soccer match. You have a large dataset with\n",
    "many features, including player statistics and team rankings. Explain how you would use the Embedded\n",
    "method to select the most relevant features for the model."
   ]
  },
  {
   "cell_type": "code",
   "execution_count": null,
   "id": "bb28b65a-6bfb-42c6-837d-8409628e3849",
   "metadata": {},
   "outputs": [],
   "source": []
  },
  {
   "cell_type": "code",
   "execution_count": null,
   "id": "f935336f-b9f9-4471-9ea6-ed49994127eb",
   "metadata": {},
   "outputs": [],
   "source": []
  },
  {
   "cell_type": "markdown",
   "id": "2ecbe5fb-3a0a-40f2-9e50-f4692c3aad0a",
   "metadata": {},
   "source": [
    "# Question 8"
   ]
  },
  {
   "cell_type": "markdown",
   "id": "f428257d-f5b1-4eb1-a23a-d76bb0022b7e",
   "metadata": {},
   "source": [
    "You are working on a project to predict the price of a house based on its features, such as size, location,\n",
    "and age. You have a limited number of features, and you want to ensure that you select the most important\n",
    "ones for the model. Explain how you would use the Wrapper method to select the best set of features for the\n",
    "predictor."
   ]
  },
  {
   "cell_type": "code",
   "execution_count": 9,
   "id": "eb601de3-ef7d-49de-8d7a-fb4e65a9e746",
   "metadata": {},
   "outputs": [
    {
     "data": {
      "text/plain": [
       "'\\nUsing the Wrapper method for feature selection in a house price prediction project \\ninvolves evaluating subsets of features by considering the performance of a specific machine learning model.\\n\\n1. Define a Performance Metric\\n\\n2. Create Feature Subsets\\n\\n3. Train-Test Split\\n\\n4. Choose a Model\\n\\n5. Iterative Feature Selection\\n\\n6. Evaluate Performance\\n\\n7. Select Optimal Subset\\n\\n8. Validate on Test Set\\n\\n9. Refinement and Iteration\\n\\n'"
      ]
     },
     "execution_count": 9,
     "metadata": {},
     "output_type": "execute_result"
    }
   ],
   "source": [
    "'''\n",
    "Based on the model's performance, the wrapper method selects the best subset of "
   ]
  },
  {
   "cell_type": "code",
   "execution_count": null,
   "id": "dd329638-fb38-4a9c-9091-3a46478a1a83",
   "metadata": {},
   "outputs": [],
   "source": []
  }
 ],
 "metadata": {
  "kernelspec": {
   "display_name": "Python 3 (ipykernel)",
   "language": "python",
   "name": "python3"
  },
  "language_info": {
   "codemirror_mode": {
    "name": "ipython",
    "version": 3
   },
   "file_extension": ".py",
   "mimetype": "text/x-python",
   "name": "python",
   "nbconvert_exporter": "python",
   "pygments_lexer": "ipython3",
   "version": "3.10.8"
  }
 },
 "nbformat": 4,
 "nbformat_minor": 5
}
