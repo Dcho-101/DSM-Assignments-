{
 "cells": [
  {
   "cell_type": "markdown",
   "id": "fefd99fb-59fa-44b9-ba84-c465bf6c87d6",
   "metadata": {},
   "source": [
    "# Question 1"
   ]
  },
  {
   "cell_type": "markdown",
   "id": "11c6e4e2-f182-41fc-b18b-dda1beb0f82e",
   "metadata": {},
   "source": [
    "Create a function which will take a list as an argument and return the product of all the numbers\n",
    "after creating a flat list.\n",
    "Use the below-given list as an argument for your function.\n",
    "list1 = [1,2,3,4, [44,55,66, True], False, (34,56,78,89,34), {1,2,3,3,2,1}, {1:34, \"key2\": [55, 67, 78, 89], 4: (45,\n",
    "22, 61, 34)}, [56, 'data science'], 'Machine Learning']\n",
    "Note: you must extract numeric keys and values of the dictionary also."
   ]
  },
  {
   "cell_type": "code",
   "execution_count": 2,
   "id": "c4eab8eb-542c-4b84-927b-80fb3aad1360",
   "metadata": {},
   "outputs": [
    {
     "name": "stdout",
     "output_type": "stream",
     "text": [
      "Product of all numeric values: 0\n"
     ]
    }
   ],
   "source": [
    "from collections.abc import Iterable\n",
    "from functools import reduce\n",
    "\n",
    "def flatten_list(lst):\n",
    "    flat_list = []\n",
    "    for item in lst:\n",
    "        if isinstance(item, Iterable) and not isinstance(item, (str, dict)):\n",
    "            flat_list.extend(flatten_list(item))\n",
    "        else:\n",
    "            flat_list.append(item)\n",
    "    return flat_list\n",
    "\n",
    "def extract_numeric_values(data):\n",
    "    numeric_values = []\n",
    "    if isinstance(data, dict):\n",
    "        for key, value in data.items():\n",
    "            numeric_values.extend(extract_numeric_values(key))\n",
    "            numeric_values.extend(extract_numeric_values(value))\n",
    "    elif isinstance(data, (int, float)):\n",
    "        numeric_values.append(data)\n",
    "    return numeric_values\n",
    "\n",
    "def product_of_numbers(lst):\n",
    "    flat_list = flatten_list(lst)\n",
    "    numeric_values = []\n",
    "    \n",
    "    for item in flat_list:\n",
    "        numeric_values.extend(extract_numeric_values(item))\n",
    "\n",
    "    if numeric_values:\n",
    "        product = reduce(lambda x, y: x * y, numeric_values)\n",
    "        return product\n",
    "    else:\n",
    "        return None\n",
    "\n",
    "# Test the function with the given list\n",
    "list1 = [1, 2, 3, 4, [44, 55, 66, True], False, (34, 56, 78, 89, 34), {1, 2, 3, 3, 2, 1}, {1: 34, \"key2\": [55, 67, 78, 89], 4: (45, 22, 61, 34)}, [56, 'data science'], 'Machine Learning']\n",
    "\n",
    "result = product_of_numbers(list1)\n",
    "print(f\"Product of all numeric values: {result}\")"
   ]
  },
  {
   "cell_type": "code",
   "execution_count": null,
   "id": "71bc1140-9172-4b87-b01f-ff2f6ad3799e",
   "metadata": {},
   "outputs": [],
   "source": []
  },
  {
   "cell_type": "markdown",
   "id": "fd9bc6fc-be54-4c60-bfd6-c3df121e2aad",
   "metadata": {},
   "source": [
    "# Question 2"
   ]
  },
  {
   "cell_type": "markdown",
   "id": "fbd51351-7b64-463b-9291-3193387538ba",
   "metadata": {},
   "source": [
    "Write a python program for encrypting a message sent to you by your friend. The logic of encryption\n",
    "should be such that, for a the output should be z. For b, the output should be y. For c, the output should\n",
    "be x respectively. Also, the whitespace should be replaced with a dollar sign. Keep the punctuation\n",
    "marks unchanged.\n",
    "Input Sentence: I want to become a Data Scientist.\n",
    "Encrypt the above input sentence using the program you just created.\n",
    "Note: Convert the given input sentence into lowercase before encrypting. The final output should be\n",
    "lowercase."
   ]
  }
 ],
 "metadata": {
  "kernelspec": {
   "display_name": "Python 3 (ipykernel)",
   "language": "python",
   "name": "python3"
  },
  "language_info": {
   "codemirror_mode": {
    "name": "ipython",
    "version": 3
   },
   "file_extension": ".py",
   "mimetype": "text/x-python",
   "name": "python",
   "nbconvert_exporter": "python",
   "pygments_lexer": "ipython3",
   "version": "3.10.8"
  }
 },
 "nbformat": 4,
 "nbformat_minor": 5
}
